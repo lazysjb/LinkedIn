{
 "cells": [
  {
   "cell_type": "code",
   "execution_count": 1,
   "metadata": {},
   "outputs": [],
   "source": [
    "%load_ext autoreload\n",
    "%autoreload 2"
   ]
  },
  {
   "cell_type": "code",
   "execution_count": 2,
   "metadata": {},
   "outputs": [],
   "source": [
    "import sys\n",
    "sys.path.append('../../')"
   ]
  },
  {
   "cell_type": "code",
   "execution_count": 3,
   "metadata": {},
   "outputs": [],
   "source": [
    "import json\n",
    "import os\n",
    "from glob import glob\n",
    "import numpy as np\n",
    "import pandas as pd\n",
    "\n",
    "from utils.parse_util import HTMLFileReader, LinkedInProfileParser\n",
    "from utils.parse_pipeline import parse_profile\n",
    "import webbrowser"
   ]
  },
  {
   "cell_type": "code",
   "execution_count": 4,
   "metadata": {},
   "outputs": [],
   "source": [
    "pd.set_option('max_colwidth', 100)"
   ]
  },
  {
   "cell_type": "code",
   "execution_count": 5,
   "metadata": {},
   "outputs": [],
   "source": [
    "LOG_ROOT = '/home/sjb/Projects/Research/LinkedIn_OB/data/parse_log/'\n",
    "PARSED_ROOT = '/home/sjb/Projects/Research/LinkedIn_OB/data/parsed_profiles/'"
   ]
  },
  {
   "cell_type": "code",
   "execution_count": null,
   "metadata": {},
   "outputs": [],
   "source": []
  },
  {
   "cell_type": "markdown",
   "metadata": {},
   "source": [
    "### Log"
   ]
  },
  {
   "cell_type": "code",
   "execution_count": 6,
   "metadata": {},
   "outputs": [
    {
     "data": {
      "text/plain": [
       "['First_1000_1', 'First_1000_0', '2000', '1000_1500']"
      ]
     },
     "execution_count": 6,
     "metadata": {},
     "output_type": "execute_result"
    }
   ],
   "source": [
    "os.listdir(LOG_ROOT)"
   ]
  },
  {
   "cell_type": "code",
   "execution_count": 7,
   "metadata": {},
   "outputs": [],
   "source": [
    "def read_log_file(sub_dir):\n",
    "\n",
    "    log_fpaths = glob(os.path.join(sub_dir, '*.json'))\n",
    "    for fpath in log_fpaths:\n",
    "        with open(fpath, 'r') as f:\n",
    "            content = json.load(f)\n",
    "        yield fpath, content"
   ]
  },
  {
   "cell_type": "code",
   "execution_count": 8,
   "metadata": {},
   "outputs": [],
   "source": [
    "def _get_zip_dir_from_path(file_path):\n",
    "    return file_path.split('/')[-2]\n",
    "    \n",
    "def _get_parent_dir_from_path(file_path):\n",
    "    return file_path.split('/')[-1].split('_')[0]"
   ]
  },
  {
   "cell_type": "code",
   "execution_count": 9,
   "metadata": {},
   "outputs": [],
   "source": [
    "log_items = []\n",
    "\n",
    "for sub_dir in os.listdir(LOG_ROOT):\n",
    "    \n",
    "    sub_dir_full = os.path.join(LOG_ROOT, sub_dir)\n",
    "    log_file_contents = read_log_file(sub_dir_full)\n",
    "\n",
    "    for fpath, log_content in log_file_contents:\n",
    "        log_item = log_content.copy()\n",
    "        log_item['empty_html_list'] = len(log_item['empty_html_list'])\n",
    "        log_item['parse_error'] = len(log_item['parse_error'])\n",
    "        log_item['file_path'] = fpath\n",
    "        log_item['zip_dir'] = _get_zip_dir_from_path(fpath)\n",
    "        log_item['parent_dir'] = _get_parent_dir_from_path(fpath)\n",
    "        \n",
    "        log_items.append(log_item)"
   ]
  },
  {
   "cell_type": "code",
   "execution_count": 10,
   "metadata": {},
   "outputs": [],
   "source": [
    "log_items = pd.DataFrame(log_items)"
   ]
  },
  {
   "cell_type": "code",
   "execution_count": 11,
   "metadata": {},
   "outputs": [
    {
     "data": {
      "text/plain": [
       "(1546, 7)"
      ]
     },
     "execution_count": 11,
     "metadata": {},
     "output_type": "execute_result"
    }
   ],
   "source": [
    "log_items.shape"
   ]
  },
  {
   "cell_type": "code",
   "execution_count": 12,
   "metadata": {},
   "outputs": [
    {
     "data": {
      "text/html": [
       "<div>\n",
       "<style scoped>\n",
       "    .dataframe tbody tr th:only-of-type {\n",
       "        vertical-align: middle;\n",
       "    }\n",
       "\n",
       "    .dataframe tbody tr th {\n",
       "        vertical-align: top;\n",
       "    }\n",
       "\n",
       "    .dataframe thead th {\n",
       "        text-align: right;\n",
       "    }\n",
       "</style>\n",
       "<table border=\"1\" class=\"dataframe\">\n",
       "  <thead>\n",
       "    <tr style=\"text-align: right;\">\n",
       "      <th></th>\n",
       "      <th>empty_html_list</th>\n",
       "      <th>parse_error</th>\n",
       "      <th>total_time</th>\n",
       "      <th>num_files</th>\n",
       "      <th>file_path</th>\n",
       "      <th>zip_dir</th>\n",
       "      <th>parent_dir</th>\n",
       "    </tr>\n",
       "  </thead>\n",
       "  <tbody>\n",
       "    <tr>\n",
       "      <td>0</td>\n",
       "      <td>0</td>\n",
       "      <td>1</td>\n",
       "      <td>10.866657</td>\n",
       "      <td>30255</td>\n",
       "      <td>/home/sjb/Projects/Research/LinkedIn_OB/data/parse_log/First_1000_1/882_log.json</td>\n",
       "      <td>First_1000_1</td>\n",
       "      <td>882</td>\n",
       "    </tr>\n",
       "    <tr>\n",
       "      <td>1</td>\n",
       "      <td>0</td>\n",
       "      <td>16</td>\n",
       "      <td>15.747177</td>\n",
       "      <td>42652</td>\n",
       "      <td>/home/sjb/Projects/Research/LinkedIn_OB/data/parse_log/First_1000_1/516_log.json</td>\n",
       "      <td>First_1000_1</td>\n",
       "      <td>516</td>\n",
       "    </tr>\n",
       "    <tr>\n",
       "      <td>2</td>\n",
       "      <td>0</td>\n",
       "      <td>20</td>\n",
       "      <td>13.235617</td>\n",
       "      <td>31244</td>\n",
       "      <td>/home/sjb/Projects/Research/LinkedIn_OB/data/parse_log/First_1000_1/759_log.json</td>\n",
       "      <td>First_1000_1</td>\n",
       "      <td>759</td>\n",
       "    </tr>\n",
       "    <tr>\n",
       "      <td>3</td>\n",
       "      <td>0</td>\n",
       "      <td>1</td>\n",
       "      <td>14.786534</td>\n",
       "      <td>39993</td>\n",
       "      <td>/home/sjb/Projects/Research/LinkedIn_OB/data/parse_log/First_1000_1/634_log.json</td>\n",
       "      <td>First_1000_1</td>\n",
       "      <td>634</td>\n",
       "    </tr>\n",
       "    <tr>\n",
       "      <td>4</td>\n",
       "      <td>0</td>\n",
       "      <td>7</td>\n",
       "      <td>14.204176</td>\n",
       "      <td>38477</td>\n",
       "      <td>/home/sjb/Projects/Research/LinkedIn_OB/data/parse_log/First_1000_1/746_log.json</td>\n",
       "      <td>First_1000_1</td>\n",
       "      <td>746</td>\n",
       "    </tr>\n",
       "  </tbody>\n",
       "</table>\n",
       "</div>"
      ],
      "text/plain": [
       "   empty_html_list  parse_error  total_time  num_files  \\\n",
       "0                0            1   10.866657      30255   \n",
       "1                0           16   15.747177      42652   \n",
       "2                0           20   13.235617      31244   \n",
       "3                0            1   14.786534      39993   \n",
       "4                0            7   14.204176      38477   \n",
       "\n",
       "                                                                          file_path  \\\n",
       "0  /home/sjb/Projects/Research/LinkedIn_OB/data/parse_log/First_1000_1/882_log.json   \n",
       "1  /home/sjb/Projects/Research/LinkedIn_OB/data/parse_log/First_1000_1/516_log.json   \n",
       "2  /home/sjb/Projects/Research/LinkedIn_OB/data/parse_log/First_1000_1/759_log.json   \n",
       "3  /home/sjb/Projects/Research/LinkedIn_OB/data/parse_log/First_1000_1/634_log.json   \n",
       "4  /home/sjb/Projects/Research/LinkedIn_OB/data/parse_log/First_1000_1/746_log.json   \n",
       "\n",
       "        zip_dir parent_dir  \n",
       "0  First_1000_1        882  \n",
       "1  First_1000_1        516  \n",
       "2  First_1000_1        759  \n",
       "3  First_1000_1        634  \n",
       "4  First_1000_1        746  "
      ]
     },
     "execution_count": 12,
     "metadata": {},
     "output_type": "execute_result"
    }
   ],
   "source": [
    "log_items.head()"
   ]
  },
  {
   "cell_type": "code",
   "execution_count": 14,
   "metadata": {},
   "outputs": [
    {
     "data": {
      "text/plain": [
       "First_1000_1    500\n",
       "First_1000_0    500\n",
       "1000_1500       435\n",
       "2000            111\n",
       "Name: zip_dir, dtype: int64"
      ]
     },
     "execution_count": 14,
     "metadata": {},
     "output_type": "execute_result"
    }
   ],
   "source": [
    "log_items['zip_dir'].value_counts()"
   ]
  },
  {
   "cell_type": "code",
   "execution_count": 19,
   "metadata": {},
   "outputs": [],
   "source": [
    "temp = log_items[['empty_html_list', 'parse_error', 'num_files']].copy()"
   ]
  },
  {
   "cell_type": "code",
   "execution_count": 21,
   "metadata": {},
   "outputs": [],
   "source": [
    "temp['total_error'] = temp['empty_html_list'] + temp['parse_error']"
   ]
  },
  {
   "cell_type": "code",
   "execution_count": 24,
   "metadata": {},
   "outputs": [],
   "source": [
    "a = temp.sum()"
   ]
  },
  {
   "cell_type": "code",
   "execution_count": 27,
   "metadata": {},
   "outputs": [
    {
     "data": {
      "text/plain": [
       "empty_html_list      0.048783\n",
       "parse_error          0.021085\n",
       "num_files          100.000000\n",
       "total_error          0.069868\n",
       "dtype: float64"
      ]
     },
     "execution_count": 27,
     "metadata": {},
     "output_type": "execute_result"
    }
   ],
   "source": [
    "(a / a['num_files']) * 100"
   ]
  },
  {
   "cell_type": "code",
   "execution_count": null,
   "metadata": {},
   "outputs": [],
   "source": []
  },
  {
   "cell_type": "code",
   "execution_count": null,
   "metadata": {},
   "outputs": [],
   "source": [
    "(temp / temp['num_files']) * 100"
   ]
  },
  {
   "cell_type": "code",
   "execution_count": null,
   "metadata": {},
   "outputs": [],
   "source": []
  },
  {
   "cell_type": "markdown",
   "metadata": {},
   "source": [
    "### Sample Log"
   ]
  },
  {
   "cell_type": "code",
   "execution_count": null,
   "metadata": {},
   "outputs": [],
   "source": [
    "log_file = '122_log.json'\n",
    "log_path = os.path.join(LOG_DIR, log_file)\n",
    "log_path"
   ]
  },
  {
   "cell_type": "code",
   "execution_count": null,
   "metadata": {},
   "outputs": [],
   "source": [
    "with open(log_path, 'r') as f:\n",
    "    log_content = json.load(f)"
   ]
  },
  {
   "cell_type": "code",
   "execution_count": null,
   "metadata": {},
   "outputs": [],
   "source": [
    "log_content.keys()"
   ]
  },
  {
   "cell_type": "code",
   "execution_count": null,
   "metadata": {},
   "outputs": [],
   "source": [
    "log_content['parse_error']"
   ]
  },
  {
   "cell_type": "code",
   "execution_count": null,
   "metadata": {},
   "outputs": [],
   "source": [
    "errored_files = list(log_content['parse_error'].keys())\n",
    "errored_files"
   ]
  },
  {
   "cell_type": "code",
   "execution_count": null,
   "metadata": {},
   "outputs": [],
   "source": []
  },
  {
   "cell_type": "markdown",
   "metadata": {},
   "source": [
    "#### Error file check"
   ]
  },
  {
   "cell_type": "code",
   "execution_count": null,
   "metadata": {},
   "outputs": [],
   "source": [
    "webbrowser.open('file://' + errored_files[4])"
   ]
  },
  {
   "cell_type": "code",
   "execution_count": null,
   "metadata": {},
   "outputs": [],
   "source": [
    "html_reader = HTMLFileReader(errored_files[0])\n",
    "html_reader.load()\n",
    "clean_html = html_reader.get_clean_html_text()"
   ]
  },
  {
   "cell_type": "code",
   "execution_count": null,
   "metadata": {},
   "outputs": [],
   "source": [
    "li_profile = LinkedInProfileParser(clean_html)\n",
    "li_profile.parse()"
   ]
  },
  {
   "cell_type": "code",
   "execution_count": null,
   "metadata": {},
   "outputs": [],
   "source": [
    "li"
   ]
  },
  {
   "cell_type": "code",
   "execution_count": null,
   "metadata": {},
   "outputs": [],
   "source": []
  },
  {
   "cell_type": "markdown",
   "metadata": {},
   "source": [
    "### Parsed Dirs"
   ]
  },
  {
   "cell_type": "code",
   "execution_count": null,
   "metadata": {},
   "outputs": [],
   "source": [
    "subdirs = os.listdir(PARSED_DIR)"
   ]
  },
  {
   "cell_type": "code",
   "execution_count": null,
   "metadata": {},
   "outputs": [],
   "source": [
    "len(subdirs)"
   ]
  },
  {
   "cell_type": "code",
   "execution_count": null,
   "metadata": {},
   "outputs": [],
   "source": []
  },
  {
   "cell_type": "markdown",
   "metadata": {},
   "source": [
    "### Parsed Profile"
   ]
  },
  {
   "cell_type": "code",
   "execution_count": null,
   "metadata": {},
   "outputs": [],
   "source": [
    "parsed_file_paths = glob(os.path.join(PARSED_DIR, '*/*.json'))"
   ]
  },
  {
   "cell_type": "code",
   "execution_count": null,
   "metadata": {},
   "outputs": [],
   "source": [
    "len(parsed_file_paths)"
   ]
  },
  {
   "cell_type": "code",
   "execution_count": null,
   "metadata": {},
   "outputs": [],
   "source": [
    "sample_parsed_fp = np.random.choice(parsed_file_paths)"
   ]
  },
  {
   "cell_type": "code",
   "execution_count": null,
   "metadata": {},
   "outputs": [],
   "source": [
    "with open(sample_parsed_fp, 'r') as f:\n",
    "    sample_parse_content = json.load(f)"
   ]
  },
  {
   "cell_type": "code",
   "execution_count": null,
   "metadata": {},
   "outputs": [],
   "source": [
    "sample_parse_content.keys()"
   ]
  },
  {
   "cell_type": "code",
   "execution_count": null,
   "metadata": {},
   "outputs": [],
   "source": [
    "sample_parse_content['summary']"
   ]
  },
  {
   "cell_type": "code",
   "execution_count": null,
   "metadata": {},
   "outputs": [],
   "source": []
  }
 ],
 "metadata": {
  "kernelspec": {
   "display_name": "Python 3",
   "language": "python",
   "name": "python3"
  },
  "language_info": {
   "codemirror_mode": {
    "name": "ipython",
    "version": 3
   },
   "file_extension": ".py",
   "mimetype": "text/x-python",
   "name": "python",
   "nbconvert_exporter": "python",
   "pygments_lexer": "ipython3",
   "version": "3.6.8"
  }
 },
 "nbformat": 4,
 "nbformat_minor": 4
}
