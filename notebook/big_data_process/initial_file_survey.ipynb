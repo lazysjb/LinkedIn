{
 "cells": [
  {
   "cell_type": "code",
   "execution_count": 1,
   "metadata": {},
   "outputs": [],
   "source": [
    "%load_ext autoreload\n",
    "%autoreload 2"
   ]
  },
  {
   "cell_type": "code",
   "execution_count": 2,
   "metadata": {},
   "outputs": [],
   "source": [
    "import sys"
   ]
  },
  {
   "cell_type": "code",
   "execution_count": 3,
   "metadata": {},
   "outputs": [],
   "source": [
    "sys.path.append('../../')"
   ]
  },
  {
   "cell_type": "code",
   "execution_count": 94,
   "metadata": {},
   "outputs": [],
   "source": [
    "from glob import glob\n",
    "import os\n",
    "import shutil\n",
    "\n",
    "import numpy as np\n",
    "import pandas as pd\n",
    "from pandas.io.json import json_normalize\n",
    "from tqdm import tqdm\n",
    "\n",
    "from utils.parse_util import HTMLFileReader, LinkedInProfileParser"
   ]
  },
  {
   "cell_type": "code",
   "execution_count": 5,
   "metadata": {},
   "outputs": [],
   "source": [
    "DATA_DIR = '../../../../data/sample_unzip/'"
   ]
  },
  {
   "cell_type": "markdown",
   "metadata": {},
   "source": [
    "#### Currently DATA_DIR contains unzipped contents of `2000.zip`"
   ]
  },
  {
   "cell_type": "code",
   "execution_count": 6,
   "metadata": {},
   "outputs": [],
   "source": [
    "profile_dirs = [x for x in os.listdir(DATA_DIR) if not x.endswith('.zip')]"
   ]
  },
  {
   "cell_type": "code",
   "execution_count": 7,
   "metadata": {},
   "outputs": [
    {
     "data": {
      "text/plain": [
       "111"
      ]
     },
     "execution_count": 7,
     "metadata": {},
     "output_type": "execute_result"
    }
   ],
   "source": [
    "len(profile_dirs)"
   ]
  },
  {
   "cell_type": "code",
   "execution_count": 8,
   "metadata": {},
   "outputs": [],
   "source": [
    "profile_dirs_check = sorted([int(x) for x in profile_dirs])"
   ]
  },
  {
   "cell_type": "code",
   "execution_count": 9,
   "metadata": {},
   "outputs": [
    {
     "data": {
      "text/plain": [
       "(2026, 2136)"
      ]
     },
     "execution_count": 9,
     "metadata": {},
     "output_type": "execute_result"
    }
   ],
   "source": [
    "profile_dirs_min = profile_dirs_check[0]\n",
    "profile_dirs_max = profile_dirs_check[-1]\n",
    "profile_dirs_min, profile_dirs_max"
   ]
  },
  {
   "cell_type": "code",
   "execution_count": 10,
   "metadata": {},
   "outputs": [],
   "source": [
    "consec_dirs = list(range(profile_dirs_min, profile_dirs_max + 1))"
   ]
  },
  {
   "cell_type": "code",
   "execution_count": 11,
   "metadata": {},
   "outputs": [
    {
     "data": {
      "text/plain": [
       "set()"
      ]
     },
     "execution_count": 11,
     "metadata": {},
     "output_type": "execute_result"
    }
   ],
   "source": [
    "set(consec_dirs).symmetric_difference(set(profile_dirs_check))"
   ]
  },
  {
   "cell_type": "markdown",
   "metadata": {},
   "source": [
    "#### This means that the folders are consecutive from 2026 to 2136"
   ]
  },
  {
   "cell_type": "code",
   "execution_count": 12,
   "metadata": {},
   "outputs": [],
   "source": [
    "profile_dirs = sorted(profile_dirs, key=lambda x: int(x))"
   ]
  },
  {
   "cell_type": "code",
   "execution_count": null,
   "metadata": {},
   "outputs": [],
   "source": []
  },
  {
   "cell_type": "markdown",
   "metadata": {},
   "source": [
    "### Get Basic Stats"
   ]
  },
  {
   "cell_type": "code",
   "execution_count": 13,
   "metadata": {},
   "outputs": [
    {
     "name": "stderr",
     "output_type": "stream",
     "text": [
      "100%|██████████| 111/111 [00:05<00:00, 21.01it/s]\n"
     ]
    }
   ],
   "source": [
    "uniq_extensions = set()\n",
    "infos = []\n",
    "\n",
    "for profile_dir in tqdm(profile_dirs):\n",
    "    files = os.listdir(os.path.join(DATA_DIR, profile_dir))\n",
    "    extensions = [os.path.splitext(f)[1] for f in files]\n",
    "    infos.append({\n",
    "        'dir': profile_dir,\n",
    "        'n_files': len(files)\n",
    "    })\n",
    "    uniq_extensions = uniq_extensions | set(extensions)"
   ]
  },
  {
   "cell_type": "code",
   "execution_count": 14,
   "metadata": {},
   "outputs": [
    {
     "data": {
      "text/plain": [
       "{'.html'}"
      ]
     },
     "execution_count": 14,
     "metadata": {},
     "output_type": "execute_result"
    }
   ],
   "source": [
    "uniq_extensions"
   ]
  },
  {
   "cell_type": "code",
   "execution_count": 15,
   "metadata": {},
   "outputs": [
    {
     "data": {
      "text/html": [
       "<div>\n",
       "<style scoped>\n",
       "    .dataframe tbody tr th:only-of-type {\n",
       "        vertical-align: middle;\n",
       "    }\n",
       "\n",
       "    .dataframe tbody tr th {\n",
       "        vertical-align: top;\n",
       "    }\n",
       "\n",
       "    .dataframe thead th {\n",
       "        text-align: right;\n",
       "    }\n",
       "</style>\n",
       "<table border=\"1\" class=\"dataframe\">\n",
       "  <thead>\n",
       "    <tr style=\"text-align: right;\">\n",
       "      <th></th>\n",
       "      <th>dir</th>\n",
       "      <th>n_files</th>\n",
       "    </tr>\n",
       "  </thead>\n",
       "  <tbody>\n",
       "    <tr>\n",
       "      <td>0</td>\n",
       "      <td>2026</td>\n",
       "      <td>9329</td>\n",
       "    </tr>\n",
       "    <tr>\n",
       "      <td>1</td>\n",
       "      <td>2027</td>\n",
       "      <td>49261</td>\n",
       "    </tr>\n",
       "    <tr>\n",
       "      <td>2</td>\n",
       "      <td>2028</td>\n",
       "      <td>49331</td>\n",
       "    </tr>\n",
       "    <tr>\n",
       "      <td>3</td>\n",
       "      <td>2029</td>\n",
       "      <td>49152</td>\n",
       "    </tr>\n",
       "    <tr>\n",
       "      <td>4</td>\n",
       "      <td>2030</td>\n",
       "      <td>48780</td>\n",
       "    </tr>\n",
       "  </tbody>\n",
       "</table>\n",
       "</div>"
      ],
      "text/plain": [
       "    dir  n_files\n",
       "0  2026     9329\n",
       "1  2027    49261\n",
       "2  2028    49331\n",
       "3  2029    49152\n",
       "4  2030    48780"
      ]
     },
     "execution_count": 15,
     "metadata": {},
     "output_type": "execute_result"
    }
   ],
   "source": [
    "stat_df = pd.DataFrame(infos)\n",
    "stat_df.head()"
   ]
  },
  {
   "cell_type": "code",
   "execution_count": 16,
   "metadata": {},
   "outputs": [
    {
     "data": {
      "text/plain": [
       "5096381"
      ]
     },
     "execution_count": 16,
     "metadata": {},
     "output_type": "execute_result"
    }
   ],
   "source": [
    "pd.DataFrame(infos)['n_files'].sum()"
   ]
  },
  {
   "cell_type": "code",
   "execution_count": null,
   "metadata": {},
   "outputs": [],
   "source": []
  },
  {
   "cell_type": "markdown",
   "metadata": {},
   "source": [
    "### Test parsing sample profiles"
   ]
  },
  {
   "cell_type": "code",
   "execution_count": 395,
   "metadata": {},
   "outputs": [],
   "source": [
    "sample_profile_dir = '2026'"
   ]
  },
  {
   "cell_type": "code",
   "execution_count": 407,
   "metadata": {},
   "outputs": [],
   "source": [
    "sample_file_name = '101290520.html'"
   ]
  },
  {
   "cell_type": "code",
   "execution_count": 408,
   "metadata": {},
   "outputs": [],
   "source": [
    "sample_file_path = os.path.join(DATA_DIR,\n",
    "                                sample_profile_dir,\n",
    "                                sample_file_name)"
   ]
  },
  {
   "cell_type": "code",
   "execution_count": 409,
   "metadata": {},
   "outputs": [],
   "source": [
    "html_reader = HTMLFileReader(sample_file_path)\n",
    "html_reader.load()\n",
    "clean_html = html_reader.get_clean_html_text()"
   ]
  },
  {
   "cell_type": "code",
   "execution_count": 410,
   "metadata": {
    "jupyter": {
     "source_hidden": true
    }
   },
   "outputs": [],
   "source": [
    "li_profile = LinkedInProfileParser(clean_html)\n",
    "\n",
    "li_profile.parse()\n",
    "\n",
    "li_profile_dict = li_profile.get_formatted_content()"
   ]
  },
  {
   "cell_type": "code",
   "execution_count": 411,
   "metadata": {},
   "outputs": [],
   "source": [
    "temp = li_profile.experience_section.root.find('a', {'class':'company-profile-public'})"
   ]
  },
  {
   "cell_type": "code",
   "execution_count": 412,
   "metadata": {},
   "outputs": [
    {
     "data": {
      "text/plain": [
       "str"
      ]
     },
     "execution_count": 412,
     "metadata": {},
     "output_type": "execute_result"
    }
   ],
   "source": [
    "type(temp.attrs['href'])"
   ]
  },
  {
   "cell_type": "code",
   "execution_count": 413,
   "metadata": {},
   "outputs": [
    {
     "data": {
      "text/plain": [
       "{'header': {'name': {'given_name': 'Mary K', 'family_name': 'Leonard'},\n",
       "  'title': 'Student at Grand Valley State University',\n",
       "  'location': 'Holland, Michigan',\n",
       "  'industry': None},\n",
       " 'overview': {'current': None,\n",
       "  'past': [{'role': 'Student Research Assistant',\n",
       "    'at': 'Community Research Institute;Johnson Center for Philanthropy'},\n",
       "   {'role': 'Receptionist/Intake Specialist', 'at': 'J & M Services'},\n",
       "   {'role': 'Administrative Assistant (Adecco Staffing)',\n",
       "    'at': 'Herman Miller'},\n",
       "   {'role': 'Accounting Clerk', 'at': 'Louis Padnos Iron & Metal Company'},\n",
       "   {'role': 'Commodity Accounting Supervisor',\n",
       "    'at': 'Louis Padnos Iron & Metal Company'}],\n",
       "  'education': ['Grand Valley State University',\n",
       "   'Grand Rapids Community College'],\n",
       "  'connections': '31',\n",
       "  'recommendations': None,\n",
       "  'websites': None},\n",
       " 'summary': None,\n",
       " 'specialty': None,\n",
       " 'experience': [{'title': 'Student Research Assistant',\n",
       "   'org_summary': 'Community Research Institute;Johnson Center for Philanthropy',\n",
       "   'company_profile': None,\n",
       "   'org_detail': '',\n",
       "   'period': {'date_start': 'May 2008',\n",
       "    'date_end': 'September 2009',\n",
       "    'duration': '(1 year 5 months)',\n",
       "    'text': None},\n",
       "   'location': 'Pew Campus at Grand Valley State University, Grand Rapids, MI',\n",
       "   'description': 'Assisted researchers with cleaning and merging data sets, prepared descriptive statistics, helped proofread and edit draft reports, generated tables and graphs.\\nAssisted lead researcher Shelby Charkoff with assembling graphics and narrative for \"Community Assessment for Ottawa County\" published in 2008 by the Greater Ottawa County United Way.'},\n",
       "  {'title': 'Receptionist/Intake Specialist',\n",
       "   'org_summary': 'J & M Services',\n",
       "   'company_profile': None,\n",
       "   'org_detail': '',\n",
       "   'period': {'date_start': 'September 2001',\n",
       "    'date_end': 'July 2002',\n",
       "    'duration': '(11 months)',\n",
       "    'text': None},\n",
       "   'location': 'Holland, Michigan',\n",
       "   'description': 'Staffing Company; Processed job applicants for employment, answered the phone, did data entry.'},\n",
       "  {'title': 'Administrative Assistant (Adecco Staffing)',\n",
       "   'org_summary': 'Herman Miller',\n",
       "   'company_profile': '/company/herman-miller?trk=ppro_cprof',\n",
       "   'org_detail': 'Public Company; 5001-10,000 employees; MLHR;\\n\\t  \\t      Furniture industry',\n",
       "   'period': {'date_start': 'November 2000',\n",
       "    'date_end': 'August 2001',\n",
       "    'duration': '(10 months)',\n",
       "    'text': None},\n",
       "   'location': 'Zeeland, Michigan',\n",
       "   'description': 'Corporate Catering Department; answered the phone, input catering requests, typed menus, helped rewrite and assemble the catering manual, assisted with events as needed.'},\n",
       "  {'title': 'Accounting Clerk',\n",
       "   'org_summary': 'Louis Padnos Iron & Metal Company',\n",
       "   'company_profile': '/company/louis-padnos-iron-&-metal-company?trk=ppro_cprof',\n",
       "   'org_detail': 'Privately Held; 201-500 employees;\\n\\t  \\t      Accounting industry',\n",
       "   'period': {'date_start': 'October 1997',\n",
       "    'date_end': 'April 2000',\n",
       "    'duration': '(2 years 7 months)',\n",
       "    'text': None},\n",
       "   'location': 'Holland, Michigan',\n",
       "   'description': 'Filled in for absent Commodity Accounting personnel, processed freight invoices, input batch accounts payable, researched problems, managed Secondary Fibers accounts payable.'},\n",
       "  {'title': 'Commodity Accounting Supervisor',\n",
       "   'org_summary': 'Louis Padnos Iron & Metal Company',\n",
       "   'company_profile': '/company/louis-padnos-iron-&-metal-company?trk=ppro_cprof',\n",
       "   'org_detail': 'Privately Held; 201-500 employees;\\n\\t  \\t      Accounting industry',\n",
       "   'period': {'date_start': 'January 1985',\n",
       "    'date_end': 'May 1990',\n",
       "    'duration': '(5 years 5 months)',\n",
       "    'text': None},\n",
       "   'location': 'Holland, Michigan',\n",
       "   'description': 'Matched and input documents for scrap invoices and accounts payable, supervised three people, covered department positions during vacations, assisted customers and vendors with questions, operated the truck scale when needed, researched problems.'}],\n",
       " 'education': [{'org_name': 'Grand Valley State University',\n",
       "   'degree': 'Bachelor of Science (B.S.)',\n",
       "   'major': 'Statistics',\n",
       "   'period': {'date_start': '2006', 'date_end': '2013'},\n",
       "   'education_detail': {'Grade': '3.75',\n",
       "    'text': 'Major: Statistics\\nMinor: Mathematics\\nTook the required core of statistics courses as well as electives in Non-parametric Statistics, Introductory Regression Analysis, Introduction to Bio-statistics and Statistical Computing using SAS.\\nEarth and Environment theme consisting of the courses Environmental Biology, Culture and the Environment and The Idea of Nature.',\n",
       "    'Activities and Societies': 'Honor Society of Phi Kappa Phi\\nMu Sigma Rho Statistics Honor Society'}},\n",
       "  {'org_name': 'Grand Rapids Community College',\n",
       "   'degree': 'Associates of Arts',\n",
       "   'major': 'MACRO for transfer to 4-year college',\n",
       "   'period': {'date_start': '1996', 'date_end': '2005'},\n",
       "   'education_detail': {'Grade': '4.0',\n",
       "    'text': 'Took general education requirement courses, as well as three terms of Human Anatomy and Physiology,a term of Microbiology and computer programming language Basic.',\n",
       "    'Activities and Societies': 'Phi Theta Kappa Honor Society'}}]}"
      ]
     },
     "execution_count": 413,
     "metadata": {},
     "output_type": "execute_result"
    }
   ],
   "source": [
    "li_profile_dict"
   ]
  },
  {
   "cell_type": "code",
   "execution_count": 414,
   "metadata": {},
   "outputs": [
    {
     "data": {
      "text/html": [
       "<div>\n",
       "<style scoped>\n",
       "    .dataframe tbody tr th:only-of-type {\n",
       "        vertical-align: middle;\n",
       "    }\n",
       "\n",
       "    .dataframe tbody tr th {\n",
       "        vertical-align: top;\n",
       "    }\n",
       "\n",
       "    .dataframe thead th {\n",
       "        text-align: right;\n",
       "    }\n",
       "</style>\n",
       "<table border=\"1\" class=\"dataframe\">\n",
       "  <thead>\n",
       "    <tr style=\"text-align: right;\">\n",
       "      <th></th>\n",
       "      <th>org_name</th>\n",
       "      <th>degree</th>\n",
       "      <th>major</th>\n",
       "      <th>period.date_start</th>\n",
       "      <th>period.date_end</th>\n",
       "      <th>education_detail.Grade</th>\n",
       "      <th>education_detail.text</th>\n",
       "      <th>education_detail.Activities and Societies</th>\n",
       "    </tr>\n",
       "  </thead>\n",
       "  <tbody>\n",
       "    <tr>\n",
       "      <td>0</td>\n",
       "      <td>Grand Valley State University</td>\n",
       "      <td>Bachelor of Science (B.S.)</td>\n",
       "      <td>Statistics</td>\n",
       "      <td>2006</td>\n",
       "      <td>2013</td>\n",
       "      <td>3.75</td>\n",
       "      <td>Major: Statistics\\nMinor: Mathematics\\nTook th...</td>\n",
       "      <td>Honor Society of Phi Kappa Phi\\nMu Sigma Rho S...</td>\n",
       "    </tr>\n",
       "    <tr>\n",
       "      <td>1</td>\n",
       "      <td>Grand Rapids Community College</td>\n",
       "      <td>Associates of Arts</td>\n",
       "      <td>MACRO for transfer to 4-year college</td>\n",
       "      <td>1996</td>\n",
       "      <td>2005</td>\n",
       "      <td>4.0</td>\n",
       "      <td>Took general education requirement courses, as...</td>\n",
       "      <td>Phi Theta Kappa Honor Society</td>\n",
       "    </tr>\n",
       "  </tbody>\n",
       "</table>\n",
       "</div>"
      ],
      "text/plain": [
       "                         org_name                      degree  \\\n",
       "0   Grand Valley State University  Bachelor of Science (B.S.)   \n",
       "1  Grand Rapids Community College          Associates of Arts   \n",
       "\n",
       "                                  major period.date_start period.date_end  \\\n",
       "0                            Statistics              2006            2013   \n",
       "1  MACRO for transfer to 4-year college              1996            2005   \n",
       "\n",
       "  education_detail.Grade                              education_detail.text  \\\n",
       "0                   3.75  Major: Statistics\\nMinor: Mathematics\\nTook th...   \n",
       "1                    4.0  Took general education requirement courses, as...   \n",
       "\n",
       "           education_detail.Activities and Societies  \n",
       "0  Honor Society of Phi Kappa Phi\\nMu Sigma Rho S...  \n",
       "1                      Phi Theta Kappa Honor Society  "
      ]
     },
     "execution_count": 414,
     "metadata": {},
     "output_type": "execute_result"
    }
   ],
   "source": [
    "li_profile.education_section.get_formatted_content_as_df()"
   ]
  },
  {
   "cell_type": "code",
   "execution_count": 415,
   "metadata": {},
   "outputs": [],
   "source": [
    "li_profile.summary_section.get_formatted_content()"
   ]
  },
  {
   "cell_type": "code",
   "execution_count": 416,
   "metadata": {},
   "outputs": [
    {
     "data": {
      "text/html": [
       "<div>\n",
       "<style scoped>\n",
       "    .dataframe tbody tr th:only-of-type {\n",
       "        vertical-align: middle;\n",
       "    }\n",
       "\n",
       "    .dataframe tbody tr th {\n",
       "        vertical-align: top;\n",
       "    }\n",
       "\n",
       "    .dataframe thead th {\n",
       "        text-align: right;\n",
       "    }\n",
       "</style>\n",
       "<table border=\"1\" class=\"dataframe\">\n",
       "  <thead>\n",
       "    <tr style=\"text-align: right;\">\n",
       "      <th></th>\n",
       "      <th>title</th>\n",
       "      <th>org_summary</th>\n",
       "      <th>company_profile</th>\n",
       "      <th>org_detail</th>\n",
       "      <th>location</th>\n",
       "      <th>description</th>\n",
       "      <th>period.date_start</th>\n",
       "      <th>period.date_end</th>\n",
       "      <th>period.duration</th>\n",
       "      <th>period.text</th>\n",
       "    </tr>\n",
       "  </thead>\n",
       "  <tbody>\n",
       "    <tr>\n",
       "      <td>0</td>\n",
       "      <td>Student Research Assistant</td>\n",
       "      <td>Community Research Institute;Johnson Center fo...</td>\n",
       "      <td>None</td>\n",
       "      <td></td>\n",
       "      <td>Pew Campus at Grand Valley State University, G...</td>\n",
       "      <td>Assisted researchers with cleaning and merging...</td>\n",
       "      <td>May 2008</td>\n",
       "      <td>September 2009</td>\n",
       "      <td>(1 year 5 months)</td>\n",
       "      <td>None</td>\n",
       "    </tr>\n",
       "    <tr>\n",
       "      <td>1</td>\n",
       "      <td>Receptionist/Intake Specialist</td>\n",
       "      <td>J &amp; M Services</td>\n",
       "      <td>None</td>\n",
       "      <td></td>\n",
       "      <td>Holland, Michigan</td>\n",
       "      <td>Staffing Company; Processed job applicants for...</td>\n",
       "      <td>September 2001</td>\n",
       "      <td>July 2002</td>\n",
       "      <td>(11 months)</td>\n",
       "      <td>None</td>\n",
       "    </tr>\n",
       "    <tr>\n",
       "      <td>2</td>\n",
       "      <td>Administrative Assistant (Adecco Staffing)</td>\n",
       "      <td>Herman Miller</td>\n",
       "      <td>/company/herman-miller?trk=ppro_cprof</td>\n",
       "      <td>Public Company; 5001-10,000 employees; MLHR;\\n...</td>\n",
       "      <td>Zeeland, Michigan</td>\n",
       "      <td>Corporate Catering Department; answered the ph...</td>\n",
       "      <td>November 2000</td>\n",
       "      <td>August 2001</td>\n",
       "      <td>(10 months)</td>\n",
       "      <td>None</td>\n",
       "    </tr>\n",
       "    <tr>\n",
       "      <td>3</td>\n",
       "      <td>Accounting Clerk</td>\n",
       "      <td>Louis Padnos Iron &amp; Metal Company</td>\n",
       "      <td>/company/louis-padnos-iron-&amp;-metal-company?trk...</td>\n",
       "      <td>Privately Held; 201-500 employees;\\n\\t  \\t    ...</td>\n",
       "      <td>Holland, Michigan</td>\n",
       "      <td>Filled in for absent Commodity Accounting pers...</td>\n",
       "      <td>October 1997</td>\n",
       "      <td>April 2000</td>\n",
       "      <td>(2 years 7 months)</td>\n",
       "      <td>None</td>\n",
       "    </tr>\n",
       "    <tr>\n",
       "      <td>4</td>\n",
       "      <td>Commodity Accounting Supervisor</td>\n",
       "      <td>Louis Padnos Iron &amp; Metal Company</td>\n",
       "      <td>/company/louis-padnos-iron-&amp;-metal-company?trk...</td>\n",
       "      <td>Privately Held; 201-500 employees;\\n\\t  \\t    ...</td>\n",
       "      <td>Holland, Michigan</td>\n",
       "      <td>Matched and input documents for scrap invoices...</td>\n",
       "      <td>January 1985</td>\n",
       "      <td>May 1990</td>\n",
       "      <td>(5 years 5 months)</td>\n",
       "      <td>None</td>\n",
       "    </tr>\n",
       "  </tbody>\n",
       "</table>\n",
       "</div>"
      ],
      "text/plain": [
       "                                        title  \\\n",
       "0                  Student Research Assistant   \n",
       "1              Receptionist/Intake Specialist   \n",
       "2  Administrative Assistant (Adecco Staffing)   \n",
       "3                            Accounting Clerk   \n",
       "4             Commodity Accounting Supervisor   \n",
       "\n",
       "                                         org_summary  \\\n",
       "0  Community Research Institute;Johnson Center fo...   \n",
       "1                                     J & M Services   \n",
       "2                                      Herman Miller   \n",
       "3                  Louis Padnos Iron & Metal Company   \n",
       "4                  Louis Padnos Iron & Metal Company   \n",
       "\n",
       "                                     company_profile  \\\n",
       "0                                               None   \n",
       "1                                               None   \n",
       "2              /company/herman-miller?trk=ppro_cprof   \n",
       "3  /company/louis-padnos-iron-&-metal-company?trk...   \n",
       "4  /company/louis-padnos-iron-&-metal-company?trk...   \n",
       "\n",
       "                                          org_detail  \\\n",
       "0                                                      \n",
       "1                                                      \n",
       "2  Public Company; 5001-10,000 employees; MLHR;\\n...   \n",
       "3  Privately Held; 201-500 employees;\\n\\t  \\t    ...   \n",
       "4  Privately Held; 201-500 employees;\\n\\t  \\t    ...   \n",
       "\n",
       "                                            location  \\\n",
       "0  Pew Campus at Grand Valley State University, G...   \n",
       "1                                  Holland, Michigan   \n",
       "2                                  Zeeland, Michigan   \n",
       "3                                  Holland, Michigan   \n",
       "4                                  Holland, Michigan   \n",
       "\n",
       "                                         description period.date_start  \\\n",
       "0  Assisted researchers with cleaning and merging...          May 2008   \n",
       "1  Staffing Company; Processed job applicants for...    September 2001   \n",
       "2  Corporate Catering Department; answered the ph...     November 2000   \n",
       "3  Filled in for absent Commodity Accounting pers...      October 1997   \n",
       "4  Matched and input documents for scrap invoices...      January 1985   \n",
       "\n",
       "  period.date_end     period.duration period.text  \n",
       "0  September 2009   (1 year 5 months)        None  \n",
       "1       July 2002         (11 months)        None  \n",
       "2     August 2001         (10 months)        None  \n",
       "3      April 2000  (2 years 7 months)        None  \n",
       "4        May 1990  (5 years 5 months)        None  "
      ]
     },
     "execution_count": 416,
     "metadata": {},
     "output_type": "execute_result"
    }
   ],
   "source": [
    "li_profile.experience_section.get_formatted_content_as_df()"
   ]
  },
  {
   "cell_type": "code",
   "execution_count": null,
   "metadata": {},
   "outputs": [],
   "source": []
  },
  {
   "cell_type": "code",
   "execution_count": null,
   "metadata": {},
   "outputs": [],
   "source": []
  }
 ],
 "metadata": {
  "kernelspec": {
   "display_name": "Python 3",
   "language": "python",
   "name": "python3"
  },
  "language_info": {
   "codemirror_mode": {
    "name": "ipython",
    "version": 3
   },
   "file_extension": ".py",
   "mimetype": "text/x-python",
   "name": "python",
   "nbconvert_exporter": "python",
   "pygments_lexer": "ipython3",
   "version": "3.6.8"
  }
 },
 "nbformat": 4,
 "nbformat_minor": 4
}
