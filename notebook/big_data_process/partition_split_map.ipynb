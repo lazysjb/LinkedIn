{
 "cells": [
  {
   "cell_type": "code",
   "execution_count": 1,
   "metadata": {},
   "outputs": [],
   "source": [
    "%load_ext autoreload\n",
    "%autoreload 2"
   ]
  },
  {
   "cell_type": "code",
   "execution_count": 2,
   "metadata": {},
   "outputs": [],
   "source": [
    "import sys\n",
    "sys.path.append('../../')"
   ]
  },
  {
   "cell_type": "code",
   "execution_count": 3,
   "metadata": {},
   "outputs": [],
   "source": [
    "import pandas as pd\n",
    "import zipfile\n",
    "import os\n",
    "import multiprocessing\n",
    "import numpy as np\n",
    "from functools import partial\n",
    "import pickle\n",
    "\n",
    "from utils.parse_pipeline import (\n",
    "    _get_dir_from_filename,\n",
    "    get_directories, \n",
    "    parse_profiles_for_directory,\n",
    "    parse_profile,\n",
    ")\n",
    "\n",
    "from utils.parse_util import (\n",
    "    HTMLFileReader,\n",
    "    LinkedInProfileParser\n",
    ")"
   ]
  },
  {
   "cell_type": "code",
   "execution_count": 4,
   "metadata": {},
   "outputs": [],
   "source": [
    "ARCHIVE_ROOT_DIR = '/media/sjb/Sandra M'\n",
    "\n",
    "ARCHIVE_FILE_NAME = 'First_1000.zip'"
   ]
  },
  {
   "cell_type": "code",
   "execution_count": 5,
   "metadata": {},
   "outputs": [
    {
     "data": {
      "text/plain": [
       "'First_1000'"
      ]
     },
     "execution_count": 5,
     "metadata": {},
     "output_type": "execute_result"
    }
   ],
   "source": [
    "archive_file_prefix = ARCHIVE_FILE_NAME.replace('.zip', '')\n",
    "archive_file_prefix"
   ]
  },
  {
   "cell_type": "code",
   "execution_count": 6,
   "metadata": {},
   "outputs": [
    {
     "name": "stdout",
     "output_type": "stream",
     "text": [
      "CPU times: user 3min 12s, sys: 11.2 s, total: 3min 23s\n",
      "Wall time: 3min 38s\n"
     ]
    }
   ],
   "source": [
    "%%time\n",
    "\n",
    "zf = zipfile.ZipFile(os.path.join(ARCHIVE_ROOT_DIR, \n",
    "                                  ARCHIVE_FILE_NAME)) "
   ]
  },
  {
   "cell_type": "code",
   "execution_count": 7,
   "metadata": {},
   "outputs": [],
   "source": [
    "directories = get_directories(zf)"
   ]
  },
  {
   "cell_type": "code",
   "execution_count": 8,
   "metadata": {},
   "outputs": [
    {
     "data": {
      "text/plain": [
       "1000"
      ]
     },
     "execution_count": 8,
     "metadata": {},
     "output_type": "execute_result"
    }
   ],
   "source": [
    "len(directories)"
   ]
  },
  {
   "cell_type": "code",
   "execution_count": 10,
   "metadata": {},
   "outputs": [],
   "source": [
    "N_PARTITIONS = 8\n",
    "\n",
    "PARTITION_SPLIT_MAP_DIR = ('/home/sjb/Projects/Research/'\n",
    "            'LinkedIn_OB/data/partition_dir')\n",
    "PARTITION_SPLIT_MAP_FILENAME = '{}|partition_map.pkl'.format(archive_file_prefix)"
   ]
  },
  {
   "cell_type": "code",
   "execution_count": 11,
   "metadata": {},
   "outputs": [
    {
     "data": {
      "text/plain": [
       "'First_1000|partition_map.pkl'"
      ]
     },
     "execution_count": 11,
     "metadata": {},
     "output_type": "execute_result"
    }
   ],
   "source": [
    "PARTITION_SPLIT_MAP_FILENAME"
   ]
  },
  {
   "cell_type": "code",
   "execution_count": 12,
   "metadata": {},
   "outputs": [],
   "source": [
    "partition_split_map = np.array_split(directories, N_PARTITIONS)\n",
    "partition_split_map = [list(x) for x in partition_split_map]\n",
    "partition_split_map = dict(zip(range(N_PARTITIONS),\n",
    "                               partition_split_map))\n",
    "                           "
   ]
  },
  {
   "cell_type": "code",
   "execution_count": 14,
   "metadata": {},
   "outputs": [],
   "source": [
    "with open(os.path.join(PARTITION_SPLIT_MAP_DIR,\n",
    "                       PARTITION_SPLIT_MAP_FILENAME), 'wb') as f:\n",
    "    pickle.dump(partition_split_map, f)"
   ]
  },
  {
   "cell_type": "code",
   "execution_count": null,
   "metadata": {},
   "outputs": [],
   "source": []
  }
 ],
 "metadata": {
  "kernelspec": {
   "display_name": "Python 3",
   "language": "python",
   "name": "python3"
  },
  "language_info": {
   "codemirror_mode": {
    "name": "ipython",
    "version": 3
   },
   "file_extension": ".py",
   "mimetype": "text/x-python",
   "name": "python",
   "nbconvert_exporter": "python",
   "pygments_lexer": "ipython3",
   "version": "3.6.8"
  }
 },
 "nbformat": 4,
 "nbformat_minor": 4
}
