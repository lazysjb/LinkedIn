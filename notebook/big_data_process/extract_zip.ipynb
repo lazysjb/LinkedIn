{
 "cells": [
  {
   "cell_type": "code",
   "execution_count": null,
   "metadata": {},
   "outputs": [],
   "source": [
    "%load_ext autoreload\n",
    "%autoreload 2"
   ]
  },
  {
   "cell_type": "code",
   "execution_count": null,
   "metadata": {},
   "outputs": [],
   "source": [
    "import sys\n",
    "sys.path.append('../../')"
   ]
  },
  {
   "cell_type": "code",
   "execution_count": null,
   "metadata": {},
   "outputs": [],
   "source": [
    "import pandas as pd\n",
    "import zipfile\n",
    "import os\n",
    "import multiprocessing\n",
    "import numpy as np\n",
    "from functools import partial\n",
    "import pickle\n",
    "\n",
    "from utils.parse_pipeline import (\n",
    "    _get_dir_from_filename,\n",
    "    get_directories, \n",
    "    parse_profiles_for_directory,\n",
    "    parse_profile,\n",
    ")\n",
    "\n",
    "from utils.parse_util import (\n",
    "    HTMLFileReader,\n",
    "    LinkedInProfileParser\n",
    ")"
   ]
  },
  {
   "cell_type": "code",
   "execution_count": null,
   "metadata": {},
   "outputs": [],
   "source": [
    "ARCHIVE_ROOT_DIR = '/media/sjb/Sandra M'\n",
    "\n",
    "ARCHIVE_FILE_NAME = 'First_1000.zip'"
   ]
  },
  {
   "cell_type": "code",
   "execution_count": null,
   "metadata": {},
   "outputs": [],
   "source": [
    "archive_file_path = os.path.join(ARCHIVE_ROOT_DIR, ARCHIVE_FILE_NAME)\n",
    "archive_file_path"
   ]
  },
  {
   "cell_type": "code",
   "execution_count": null,
   "metadata": {},
   "outputs": [],
   "source": [
    "archive_file_prefix = ARCHIVE_FILE_NAME.replace('.zip', '')\n",
    "archive_file_prefix"
   ]
  },
  {
   "cell_type": "code",
   "execution_count": null,
   "metadata": {},
   "outputs": [],
   "source": [
    "# %%time\n",
    "\n",
    "# zf = zipfile.ZipFile(os.path.join(ARCHIVE_ROOT_DIR, \n",
    "#                                   ARCHIVE_FILE_NAME)) "
   ]
  },
  {
   "cell_type": "code",
   "execution_count": null,
   "metadata": {},
   "outputs": [],
   "source": [
    "PARTITION_SPLIT_MAP_DIR = ('/home/sjb/Projects/Research/'\n",
    "            'LinkedIn_OB/data/partition_dir')\n",
    "PARTITION_SPLIT_MAP_FILENAME = '{}|partition_map.pkl'.format(archive_file_prefix)\n"
   ]
  },
  {
   "cell_type": "code",
   "execution_count": null,
   "metadata": {},
   "outputs": [],
   "source": [
    "SPLIT_NUM = 0"
   ]
  },
  {
   "cell_type": "code",
   "execution_count": null,
   "metadata": {},
   "outputs": [],
   "source": [
    "with open(os.path.join(PARTITION_SPLIT_MAP_DIR, PARTITION_SPLIT_MAP_FILENAME), 'rb') as f:\n",
    "    partition_split_map = pickle.load(f)"
   ]
  },
  {
   "cell_type": "code",
   "execution_count": null,
   "metadata": {},
   "outputs": [],
   "source": [
    "partition_directory_list = partition_split_map[SPLIT_NUM]\n",
    "len(partition_directory_list)"
   ]
  },
  {
   "cell_type": "code",
   "execution_count": null,
   "metadata": {},
   "outputs": [],
   "source": [
    "DEST_DIR = ('/home/sjb/Projects/Research/'\n",
    "            'LinkedIn_OB/data/partition_dir/temp_dir')"
   ]
  },
  {
   "cell_type": "code",
   "execution_count": null,
   "metadata": {},
   "outputs": [],
   "source": [
    "%%time\n",
    "\n",
    "with zipfile.ZipFile(archive_file_path, 'r')  as archive:\n",
    "   # Get a list of all archived file names from the zip\n",
    "   file_names = archive.namelist()\n",
    "   # Iterate over the file names\n",
    "   for file_name in file_names:\n",
    "       # Check filename endswith csv\n",
    "       if _get_dir_from_filename(file_name) in partition_directory_list:\n",
    "           # Extract a single file from zip\n",
    "           archive.extract(file_name, DEST_DIR)"
   ]
  },
  {
   "cell_type": "code",
   "execution_count": null,
   "metadata": {},
   "outputs": [],
   "source": []
  },
  {
   "cell_type": "code",
   "execution_count": null,
   "metadata": {},
   "outputs": [],
   "source": [
    "def zipdir(path, ziph):\n",
    "    # ziph is zipfile handle\n",
    "    for root, dirs, files in os.walk(path):\n",
    "        for file in files:\n",
    "            ziph.write(os.path.join(root, file))"
   ]
  },
  {
   "cell_type": "code",
   "execution_count": null,
   "metadata": {},
   "outputs": [],
   "source": [
    "ts = []\n",
    "\n",
    "count = 0\n",
    "\n",
    "for t in os.walk(DEST_DIR):\n",
    "    ts.append(t)\n",
    "    \n",
    "    count += 1\n",
    "    if count > 3:\n",
    "        break"
   ]
  },
  {
   "cell_type": "code",
   "execution_count": null,
   "metadata": {},
   "outputs": [],
   "source": [
    "partition_archive_name = '{}_{}.zip'.format(archive_file_prefix, SPLIT_NUM)\n",
    "partition_archive_file_path = os.path.join(ARCHIVE_ROOT_DIR, 'SJ_Partition', partition_archive_name)\n",
    "partition_archive_file_path"
   ]
  },
  {
   "cell_type": "code",
   "execution_count": null,
   "metadata": {},
   "outputs": [],
   "source": [
    "zipf_to_save = zipfile.ZipFile(partition_archive_file_path, 'w', zipfile.ZIP_DEFLATED)\n",
    "zipdir(DEST_DIR, zipf_to_save)\n",
    "zipf_to_save.close()"
   ]
  },
  {
   "cell_type": "code",
   "execution_count": null,
   "metadata": {},
   "outputs": [],
   "source": [
    "del(archive)"
   ]
  },
  {
   "cell_type": "code",
   "execution_count": null,
   "metadata": {},
   "outputs": [],
   "source": [
    "import gc\n",
    "gc.collect()"
   ]
  },
  {
   "cell_type": "code",
   "execution_count": null,
   "metadata": {},
   "outputs": [],
   "source": [
    "for name in dir():\n",
    "    if not name.startswith('_'):\n",
    "        del globals()[name]"
   ]
  },
  {
   "cell_type": "code",
   "execution_count": null,
   "metadata": {},
   "outputs": [],
   "source": []
  }
 ],
 "metadata": {
  "kernelspec": {
   "display_name": "Python 3",
   "language": "python",
   "name": "python3"
  },
  "language_info": {
   "codemirror_mode": {
    "name": "ipython",
    "version": 3
   },
   "file_extension": ".py",
   "mimetype": "text/x-python",
   "name": "python",
   "nbconvert_exporter": "python",
   "pygments_lexer": "ipython3",
   "version": "3.6.8"
  }
 },
 "nbformat": 4,
 "nbformat_minor": 4
}
