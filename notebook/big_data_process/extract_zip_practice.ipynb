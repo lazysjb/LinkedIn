{
 "cells": [
  {
   "cell_type": "code",
   "execution_count": 1,
   "metadata": {},
   "outputs": [],
   "source": [
    "%load_ext autoreload\n",
    "%autoreload 2"
   ]
  },
  {
   "cell_type": "code",
   "execution_count": 2,
   "metadata": {},
   "outputs": [],
   "source": [
    "import sys\n",
    "sys.path.append('../../')"
   ]
  },
  {
   "cell_type": "code",
   "execution_count": 3,
   "metadata": {},
   "outputs": [],
   "source": [
    "import os\n",
    "import zipfile\n",
    "\n",
    "from utils.archive_util import zipdir"
   ]
  },
  {
   "cell_type": "code",
   "execution_count": 4,
   "metadata": {},
   "outputs": [],
   "source": [
    "DATA_DIR = ('/home/sjb/Projects/Research/'\n",
    "            'LinkedIn_OB/data/partition_dir/temp_dir')"
   ]
  },
  {
   "cell_type": "code",
   "execution_count": 5,
   "metadata": {},
   "outputs": [],
   "source": [
    "ARCHIVE_SAVE_PATH = ('/home/sjb/Projects/Research/'\n",
    "            'LinkedIn_OB/data/partition_dir/zipped/First_1000_0.zip')"
   ]
  },
  {
   "cell_type": "code",
   "execution_count": null,
   "metadata": {},
   "outputs": [
    {
     "name": "stdout",
     "output_type": "stream",
     "text": [
      "Starting to archive parent 116\n",
      "Starting to archive parent 123\n",
      "Starting to archive parent 115\n",
      "Starting to archive parent 198\n",
      "Starting to archive parent 126\n",
      "Starting to archive parent 162\n",
      "Starting to archive parent 190\n",
      "Starting to archive parent 208\n",
      "Starting to archive parent 165\n",
      "Starting to archive parent 199\n",
      "Starting to archive parent 140\n",
      "Starting to archive parent 114\n",
      "Starting to archive parent 2\n",
      "Starting to archive parent 12\n",
      "Starting to archive parent 141\n",
      "Starting to archive parent 14\n",
      "Starting to archive parent 110\n",
      "Starting to archive parent 143\n",
      "Starting to archive parent 203\n",
      "Starting to archive parent 109\n",
      "Starting to archive parent 142\n",
      "Starting to archive parent 131\n",
      "Starting to archive parent 111\n",
      "Starting to archive parent 133\n",
      "Starting to archive parent 106\n",
      "Starting to archive parent 164\n",
      "Starting to archive parent 16\n",
      "Starting to archive parent 205\n",
      "Starting to archive parent 182\n",
      "Starting to archive parent 153\n",
      "Starting to archive parent 175\n",
      "Starting to archive parent 157\n",
      "Starting to archive parent 112\n",
      "Starting to archive parent 194\n",
      "Starting to archive parent 168\n",
      "Starting to archive parent 135\n",
      "Starting to archive parent 144\n",
      "Starting to archive parent 180\n",
      "Starting to archive parent 167\n",
      "Starting to archive parent 121\n",
      "Starting to archive parent 193\n",
      "Starting to archive parent 161\n",
      "Starting to archive parent 136\n",
      "Starting to archive parent 209\n",
      "Starting to archive parent 170\n",
      "Starting to archive parent 104\n",
      "Starting to archive parent 185\n",
      "Starting to archive parent 107\n",
      "Starting to archive parent 15\n",
      "Starting to archive parent 138\n",
      "Starting to archive parent 154\n",
      "Starting to archive parent 160\n",
      "Starting to archive parent 174\n",
      "Starting to archive parent 21\n",
      "Starting to archive parent 200\n",
      "Starting to archive parent 179\n",
      "Starting to archive parent 20\n",
      "Starting to archive parent 117\n",
      "Starting to archive parent 191\n",
      "Starting to archive parent 156\n",
      "Starting to archive parent 132\n",
      "Starting to archive parent 171\n",
      "Starting to archive parent 169\n",
      "Starting to archive parent 207\n",
      "Starting to archive parent 204\n",
      "Starting to archive parent 119\n",
      "Starting to archive parent 206\n",
      "Starting to archive parent 202\n",
      "Starting to archive parent 139\n",
      "Starting to archive parent 150\n",
      "Starting to archive parent 120\n",
      "Starting to archive parent 102\n",
      "Starting to archive parent 177\n",
      "Starting to archive parent 137\n",
      "Starting to archive parent 184\n",
      "Starting to archive parent 145\n",
      "Starting to archive parent 101\n",
      "Starting to archive parent 11\n"
     ]
    }
   ],
   "source": [
    "%%time\n",
    "\n",
    "zf_handle = zipfile.ZipFile(ARCHIVE_SAVE_PATH, 'w', zipfile.ZIP_DEFLATED)\n",
    "zipdir(DATA_DIR, zf_handle, truncate_arcname=True)\n",
    "zf_handle.close()"
   ]
  },
  {
   "cell_type": "code",
   "execution_count": 7,
   "metadata": {},
   "outputs": [
    {
     "data": {
      "text/plain": [
       "3"
      ]
     },
     "execution_count": 7,
     "metadata": {},
     "output_type": "execute_result"
    }
   ],
   "source": [
    "1+2"
   ]
  },
  {
   "cell_type": "code",
   "execution_count": null,
   "metadata": {},
   "outputs": [],
   "source": []
  }
 ],
 "metadata": {
  "kernelspec": {
   "display_name": "Python 3",
   "language": "python",
   "name": "python3"
  },
  "language_info": {
   "codemirror_mode": {
    "name": "ipython",
    "version": 3
   },
   "file_extension": ".py",
   "mimetype": "text/x-python",
   "name": "python",
   "nbconvert_exporter": "python",
   "pygments_lexer": "ipython3",
   "version": "3.6.8"
  }
 },
 "nbformat": 4,
 "nbformat_minor": 4
}
