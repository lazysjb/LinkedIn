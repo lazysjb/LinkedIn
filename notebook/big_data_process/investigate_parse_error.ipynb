{
 "cells": [
  {
   "cell_type": "code",
   "execution_count": 1,
   "metadata": {},
   "outputs": [],
   "source": [
    "%load_ext autoreload\n",
    "%autoreload 2"
   ]
  },
  {
   "cell_type": "code",
   "execution_count": 2,
   "metadata": {},
   "outputs": [],
   "source": [
    "import sys\n",
    "sys.path.append('../../')"
   ]
  },
  {
   "cell_type": "code",
   "execution_count": 3,
   "metadata": {},
   "outputs": [],
   "source": [
    "from glob import glob\n",
    "import os\n",
    "import shutil\n",
    "import time\n",
    "import multiprocessing\n",
    "import re\n",
    "\n",
    "import numpy as np\n",
    "import pandas as pd\n",
    "from pandas.io.json import json_normalize\n",
    "from tqdm import tqdm\n",
    "\n",
    "from utils.parse_util import HTMLFileReader, LinkedInProfileParser"
   ]
  },
  {
   "cell_type": "code",
   "execution_count": null,
   "metadata": {},
   "outputs": [],
   "source": [
    "LOG_DIR = '/home/sjb/Projects/Research/LinkedIn_OB/data/sample_log/parallel' "
   ]
  },
  {
   "cell_type": "code",
   "execution_count": null,
   "metadata": {},
   "outputs": [],
   "source": [
    "log_file_paths = glob(os.path.join(LOG_DIR, '*.txt'))"
   ]
  },
  {
   "cell_type": "code",
   "execution_count": null,
   "metadata": {},
   "outputs": [],
   "source": [
    "def get_error_file_list_from_log_file(log_filepath):\n",
    "    with open(log_filepath, 'r') as f:\n",
    "        contents = f.readlines()\n",
    "        \n",
    "    contents = contents[1:-1]\n",
    "    contents = [x.split(':')[-1].strip() for x in contents]\n",
    "    return contents"
   ]
  },
  {
   "cell_type": "code",
   "execution_count": 4,
   "metadata": {},
   "outputs": [],
   "source": [
    "def parse_profile(profile_path):\n",
    "    html_reader = HTMLFileReader(profile_path)\n",
    "    html_reader.load()\n",
    "    clean_html = html_reader.get_clean_html_text()\n",
    "    \n",
    "    li_profile = LinkedInProfileParser(clean_html)\n",
    "    li_profile.parse()\n",
    "    li_profile_dict = li_profile.get_formatted_content()\n",
    "    return li_profile_dict"
   ]
  },
  {
   "cell_type": "code",
   "execution_count": null,
   "metadata": {},
   "outputs": [],
   "source": [
    "def has_linkedin_no_page_error(profile_path):\n",
    "    html_reader = HTMLFileReader(profile_path)\n",
    "    html_reader.load()\n",
    "    clean_html = html_reader.get_clean_html_text()\n",
    "    \n",
    "    no_page_error_msg = (\"Sorry, we were unable to load \"\n",
    "                         \"the data necessary to process your \"\n",
    "                         \"request. Please try again.\")\n",
    "    return no_page_error_msg in clean_html"
   ]
  },
  {
   "cell_type": "code",
   "execution_count": null,
   "metadata": {},
   "outputs": [],
   "source": [
    "filtered_error_paths = []\n",
    "\n",
    "for log_fp in log_file_paths:\n",
    "    error_paths = get_error_file_list_from_log_file(log_fp)\n",
    "    \n",
    "    for fp in error_paths:\n",
    "        try:\n",
    "            parse_profile(fp)\n",
    "        except:\n",
    "            if not has_linkedin_no_page_error(fp):\n",
    "                filtered_error_paths.append(fp)"
   ]
  },
  {
   "cell_type": "code",
   "execution_count": null,
   "metadata": {},
   "outputs": [],
   "source": [
    "len(filtered_error_paths)"
   ]
  },
  {
   "cell_type": "code",
   "execution_count": null,
   "metadata": {},
   "outputs": [],
   "source": [
    "filtered_error_paths"
   ]
  },
  {
   "cell_type": "code",
   "execution_count": null,
   "metadata": {},
   "outputs": [],
   "source": []
  },
  {
   "cell_type": "code",
   "execution_count": 18,
   "metadata": {},
   "outputs": [],
   "source": [
    "fp = '../../../../data/sample_unzip/2026/101297044.html'"
   ]
  },
  {
   "cell_type": "code",
   "execution_count": 19,
   "metadata": {},
   "outputs": [],
   "source": [
    "# parse_profile(fp)"
   ]
  },
  {
   "cell_type": "code",
   "execution_count": 20,
   "metadata": {},
   "outputs": [],
   "source": [
    "html_reader = HTMLFileReader(fp)\n",
    "html_reader.load()\n",
    "clean_html = html_reader.get_clean_html_text()"
   ]
  },
  {
   "cell_type": "code",
   "execution_count": 21,
   "metadata": {},
   "outputs": [
    {
     "ename": "ValueError",
     "evalue": "Expected child node to be not None",
     "output_type": "error",
     "traceback": [
      "\u001b[0;31m---------------------------------------------------------------------------\u001b[0m",
      "\u001b[0;31mValueError\u001b[0m                                Traceback (most recent call last)",
      "\u001b[0;32m<ipython-input-21-e69439ceb650>\u001b[0m in \u001b[0;36m<module>\u001b[0;34m\u001b[0m\n\u001b[0;32m----> 1\u001b[0;31m \u001b[0mli_profile_dict\u001b[0m \u001b[0;34m=\u001b[0m \u001b[0mparse_profile\u001b[0m\u001b[0;34m(\u001b[0m\u001b[0mfp\u001b[0m\u001b[0;34m)\u001b[0m\u001b[0;34m\u001b[0m\u001b[0;34m\u001b[0m\u001b[0m\n\u001b[0m",
      "\u001b[0;32m<ipython-input-4-0b882ffd4a3c>\u001b[0m in \u001b[0;36mparse_profile\u001b[0;34m(profile_path)\u001b[0m\n\u001b[1;32m      4\u001b[0m     \u001b[0mclean_html\u001b[0m \u001b[0;34m=\u001b[0m \u001b[0mhtml_reader\u001b[0m\u001b[0;34m.\u001b[0m\u001b[0mget_clean_html_text\u001b[0m\u001b[0;34m(\u001b[0m\u001b[0;34m)\u001b[0m\u001b[0;34m\u001b[0m\u001b[0;34m\u001b[0m\u001b[0m\n\u001b[1;32m      5\u001b[0m \u001b[0;34m\u001b[0m\u001b[0m\n\u001b[0;32m----> 6\u001b[0;31m     \u001b[0mli_profile\u001b[0m \u001b[0;34m=\u001b[0m \u001b[0mLinkedInProfileParser\u001b[0m\u001b[0;34m(\u001b[0m\u001b[0mclean_html\u001b[0m\u001b[0;34m)\u001b[0m\u001b[0;34m\u001b[0m\u001b[0;34m\u001b[0m\u001b[0m\n\u001b[0m\u001b[1;32m      7\u001b[0m     \u001b[0mli_profile\u001b[0m\u001b[0;34m.\u001b[0m\u001b[0mparse\u001b[0m\u001b[0;34m(\u001b[0m\u001b[0;34m)\u001b[0m\u001b[0;34m\u001b[0m\u001b[0;34m\u001b[0m\u001b[0m\n\u001b[1;32m      8\u001b[0m     \u001b[0mli_profile_dict\u001b[0m \u001b[0;34m=\u001b[0m \u001b[0mli_profile\u001b[0m\u001b[0;34m.\u001b[0m\u001b[0mget_formatted_content\u001b[0m\u001b[0;34m(\u001b[0m\u001b[0;34m)\u001b[0m\u001b[0;34m\u001b[0m\u001b[0;34m\u001b[0m\u001b[0m\n",
      "\u001b[0;32m~/Projects/Research/LinkedIn_OB/project_code/LinkedIn/utils/parse_util.py\u001b[0m in \u001b[0;36m__init__\u001b[0;34m(self, root_html)\u001b[0m\n\u001b[1;32m    112\u001b[0m \u001b[0;34m\u001b[0m\u001b[0m\n\u001b[1;32m    113\u001b[0m         self.header_section = HeaderSectionParser(\n\u001b[0;32m--> 114\u001b[0;31m             self._extract_header_section_node())\n\u001b[0m\u001b[1;32m    115\u001b[0m         self.overview_section = OverviewSectionParser(\n\u001b[1;32m    116\u001b[0m             self._extract_overview_section_node())\n",
      "\u001b[0;32m~/Projects/Research/LinkedIn_OB/project_code/LinkedIn/utils/parse_util.py\u001b[0m in \u001b[0;36m_extract_header_section_node\u001b[0;34m(self)\u001b[0m\n\u001b[1;32m    128\u001b[0m                                                     \u001b[0;34m'div'\u001b[0m\u001b[0;34m,\u001b[0m\u001b[0;34m\u001b[0m\u001b[0;34m\u001b[0m\u001b[0m\n\u001b[1;32m    129\u001b[0m                                                     \u001b[0;34m{\u001b[0m\u001b[0;34m'class'\u001b[0m\u001b[0;34m:\u001b[0m \u001b[0;34m'profile-header'\u001b[0m\u001b[0;34m}\u001b[0m\u001b[0;34m,\u001b[0m\u001b[0;34m\u001b[0m\u001b[0;34m\u001b[0m\u001b[0m\n\u001b[0;32m--> 130\u001b[0;31m                                                     allow_none=False)\n\u001b[0m\u001b[1;32m    131\u001b[0m         \u001b[0;32mreturn\u001b[0m \u001b[0mheader_node\u001b[0m\u001b[0;34m\u001b[0m\u001b[0;34m\u001b[0m\u001b[0m\n\u001b[1;32m    132\u001b[0m \u001b[0;34m\u001b[0m\u001b[0m\n",
      "\u001b[0;32m~/Projects/Research/LinkedIn_OB/project_code/LinkedIn/utils/parse_util.py\u001b[0m in \u001b[0;36m_soup_find_single_child_check\u001b[0;34m(node, tag, kwargs, allow_none)\u001b[0m\n\u001b[1;32m     32\u001b[0m             \u001b[0;32mreturn\u001b[0m \u001b[0;32mNone\u001b[0m\u001b[0;34m\u001b[0m\u001b[0;34m\u001b[0m\u001b[0m\n\u001b[1;32m     33\u001b[0m         \u001b[0;32melse\u001b[0m\u001b[0;34m:\u001b[0m\u001b[0;34m\u001b[0m\u001b[0;34m\u001b[0m\u001b[0m\n\u001b[0;32m---> 34\u001b[0;31m             \u001b[0;32mraise\u001b[0m \u001b[0mValueError\u001b[0m\u001b[0;34m(\u001b[0m\u001b[0;34m'Expected child node to be not None'\u001b[0m\u001b[0;34m)\u001b[0m\u001b[0;34m\u001b[0m\u001b[0;34m\u001b[0m\u001b[0m\n\u001b[0m\u001b[1;32m     35\u001b[0m \u001b[0;34m\u001b[0m\u001b[0m\n\u001b[1;32m     36\u001b[0m     \u001b[0;32mreturn\u001b[0m \u001b[0m_extract_single_node_from_list\u001b[0m\u001b[0;34m(\u001b[0m\u001b[0mchild_nodes\u001b[0m\u001b[0;34m)\u001b[0m\u001b[0;34m\u001b[0m\u001b[0;34m\u001b[0m\u001b[0m\n",
      "\u001b[0;31mValueError\u001b[0m: Expected child node to be not None"
     ]
    }
   ],
   "source": [
    "li_profile_dict = parse_profile(fp)"
   ]
  },
  {
   "cell_type": "code",
   "execution_count": 17,
   "metadata": {},
   "outputs": [
    {
     "data": {
      "text/plain": [
       "{'header': {'name': {'given_name': 'Nancy', 'family_name': 'Manning'},\n",
       "  'title': 'Nonprofit Management / Trainer / Lawyer / Mediator',\n",
       "  'location': 'Austin, Texas Area',\n",
       "  'industry': 'Nonprofit Organization Management'},\n",
       " 'overview': {'current': [{'role': 'Executive Director',\n",
       "    'at': 'Travis Audubon',\n",
       "    'extra': None},\n",
       "   {'role': 'Adjunct Professor', 'at': 'Kaplan University', 'extra': None}],\n",
       "  'past': [{'role': 'Trainer / Mediator',\n",
       "    'at': 'Common Ground Mediation and Settlement',\n",
       "    'extra': None},\n",
       "   {'role': 'Lawyer', 'at': 'Law Office of Nancy Manning', 'extra': None}],\n",
       "  'education': ['University of Illinois at Urbana-Champaign',\n",
       "   'University of Illionis'],\n",
       "  'connections': '229',\n",
       "  'recommendations': 2,\n",
       "  'websites': None},\n",
       " 'summary': 'Lawyer / mediator / trainer with a broad background in all aspects of nonprofit management, including communications, program development and management, fundraising and human resources.\\nKey skills include:\\n\\uf0fc\\tAnalysis & application of federal and state laws / regulations\\n\\uf0fc\\tLitigation\\n\\uf0fc\\tResearch\\n\\uf0fc\\tAdvocacy\\n\\uf0fc\\tCommunity Relations\\n\\uf0fc\\tNonprofit Management\\n\\uf0fc\\tStrategic Planning\\n\\uf0fc\\tFund Raising\\n\\uf0fc\\tBudget Development\\n\\uf0fc\\tProgram Design & Implementation\\n\\uf0fc\\tTraining & Coaching\\n\\uf0fc\\tTraining Needs Analysis\\n\\uf0fc\\tCurriculum Development\\n\\uf0fc\\tMediation\\n\\uf0fc\\tSettlement Negotiation\\n\\uf0fc\\tCommunications\\n\\uf0fc\\tHuman Resources\\nSolved a long standing dispute between a hospital board and a city council.  Facilitated a public forum where the parties were presented as a united front and voters then approved a water rate increase for hospital growth. (CGM&S)\\nLaunched first mediation practice and training center in Rapid City, South Dakota, and was only service provider for 15 years.  Was retained by the court system, several middle schools, Indian reservations, postal service, the Board of Realtors, the Real Estate Commission, universities, Army Corp of Engineers and hundreds of individual disputants to resolve issues and provide training and facilitation.  (CGM&S)\\nTrained a 12 person mediation team for the US Post Office enabling better management of internal conflicts. (CGM&S)\\nTurned around a nonprofit organization.  Developed an organizational structure, with online database systems, hired staff and developed all current programming, and developed a board marketing committee to aid in development and implementation of a communications plan.  Raised more money in 6 years than had been raised in the prior 52 years. (TAS)',\n",
       " 'specialty': None,\n",
       " 'experience': [{'title': 'Executive Director',\n",
       "   'org_summary': 'Travis Audubon',\n",
       "   'company_profile': '/company/travis-audubon?trk=ppro_cprof',\n",
       "   'org_detail': 'Nonprofit Organization Management industry',\n",
       "   'period': {'date_start': 'May 2007',\n",
       "    'date_end': 'Present',\n",
       "    'duration': '(6 years 7 months)',\n",
       "    'text': None},\n",
       "   'location': None,\n",
       "   'description': '•\\tChief Executive Officer: management of all aspects of operations.  Recommend, draft and ensure use of nonprofit management best practices and policies.  Responsible for public accountability and ensuring legal obligations are met.\\n•\\tFinance and Development: financial management of organization includes preparation of annual operating budget, P/L accountability, development and implementation of fundraising plan to build and maintain diverse donor base. Plan, implement and host annual fundraising event.\\n•\\tProgram development, implementation, management and evaluation.  Create and work with sanctuary core teams to develop management plans and ensure best practices; work with educators to develop, implement and measure impact of outdoor youth education programs; work with board and committees to ensure all programs align with mission and strategic plan.\\n•\\tCommunications management: responsible for public relations, member relations and partner relations.  Act as spokesperson for TAS.  Spearheaded re-branding campaign.  Developed strategic Communications Plan to engage families, youth and other audiences through variety of outreach modalities. Design curriculum, coordinate and host training workshops for board, members, City and County employees, other non profits. Spearhead membership drives pursuant to Communications Plan.\\n•\\tHuman Resources: hire, train, manage, evaluate and terminate personnel.  Ensure compliance with personnel policies.  Recruit, engage and manage volunteers.\\n•\\tBoard of Directors: assist and support BOD as needed.  Assist with development of strategic plan and ensure its implementation among all committees and staff; assist board with board development. Responsible for orientation of new board members.  Facilitate annual board retreat. Review and propose Bylaw changes.'},\n",
       "  {'title': 'Adjunct Professor',\n",
       "   'org_summary': 'Kaplan University',\n",
       "   'company_profile': '/company/kaplan-university?trk=ppro_cprof',\n",
       "   'org_detail': 'Educational Institution; 5001-10,000 employees;\\n\\t  \\t      Education Management industry',\n",
       "   'period': {'date_start': 'February 2005',\n",
       "    'date_end': 'Present',\n",
       "    'duration': '(8 years 10 months)',\n",
       "    'text': None},\n",
       "   'location': 'Online',\n",
       "   'description': '•\\tTeach Criminal Procedure, Criminal Justice, Constitutional Law\\n•\\tPrior: Course Leader; course monitor, curriculum development'},\n",
       "  {'title': 'Trainer / Mediator',\n",
       "   'org_summary': 'Common Ground Mediation and Settlement',\n",
       "   'company_profile': None,\n",
       "   'org_detail': '',\n",
       "   'period': {'date_start': 'May 1990',\n",
       "    'date_end': 'July 2006',\n",
       "    'duration': '(16 years 3 months)',\n",
       "    'text': None},\n",
       "   'location': None,\n",
       "   'description': '•\\tPlanned, designed, organized and evaluated mediation curriculum and training manuals.\\n•\\tAnalyzed needs of groups and organizations; tailored training to needs; made presentations to courts, businesses and community groups; collaborated with schools, city councils, courts, community groups to implement training programs; facilitated meetings of various organizations and entities.\\n•\\tDelivered training to schools, governmental entities, businesses, community groups, individuals.\\n•\\tProvided mediation services for family, business, government, school, real estate disputes\\n•\\tTrained mediators – 40 hour program\\n•\\tTrained for the Center for Restorative Justice: victim-offender mediation'},\n",
       "  {'title': 'Lawyer',\n",
       "   'org_summary': 'Law Office of Nancy Manning',\n",
       "   'company_profile': None,\n",
       "   'org_detail': '',\n",
       "   'period': {'date_start': 'September 1982',\n",
       "    'date_end': 'July 2006',\n",
       "    'duration': '(23 years 11 months)',\n",
       "    'text': None},\n",
       "   'location': None,\n",
       "   'description': '•\\tAdvocated in courts & administrative proceedings.\\n•\\tInteracted with various local, state & federal agencies.\\n•\\tEvaluated / analyzed legislation / regulations related to clients / claimants.\\n•\\tResponsible for all phases of litigation: screening of clients, intake, discovery, docketing, document drafting, data analysis, motions, trial preparation, trial, appeals.\\n•\\tRecruited, supervised, trained, evaluated employees; responsible for employee relations.'}],\n",
       " 'education': [{'org_name': 'University of Illinois at Urbana-Champaign',\n",
       "   'degree': 'Bachelor of Arts (BA)',\n",
       "   'major': 'Political Science',\n",
       "   'period': {'date_start': None, 'date_end': None},\n",
       "   'education_detail': {'text': '',\n",
       "    'Activities and Societies': 'Member of Pi Sigma Alpha - National Political Science Honor Society'}},\n",
       "  {'org_name': 'University of Illionis',\n",
       "   'degree': 'Juris Doctorate',\n",
       "   'major': 'Law',\n",
       "   'period': {'date_start': None, 'date_end': None},\n",
       "   'education_detail': {'text': ''}}]}"
      ]
     },
     "execution_count": 17,
     "metadata": {},
     "output_type": "execute_result"
    }
   ],
   "source": [
    "li_profile_dict"
   ]
  },
  {
   "cell_type": "code",
   "execution_count": null,
   "metadata": {},
   "outputs": [],
   "source": []
  }
 ],
 "metadata": {
  "kernelspec": {
   "display_name": "Python 3",
   "language": "python",
   "name": "python3"
  },
  "language_info": {
   "codemirror_mode": {
    "name": "ipython",
    "version": 3
   },
   "file_extension": ".py",
   "mimetype": "text/x-python",
   "name": "python",
   "nbconvert_exporter": "python",
   "pygments_lexer": "ipython3",
   "version": "3.6.8"
  }
 },
 "nbformat": 4,
 "nbformat_minor": 4
}
