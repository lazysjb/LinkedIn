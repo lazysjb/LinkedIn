{
 "cells": [
  {
   "cell_type": "code",
   "execution_count": 1,
   "metadata": {},
   "outputs": [],
   "source": [
    "%load_ext autoreload\n",
    "%autoreload 2"
   ]
  },
  {
   "cell_type": "code",
   "execution_count": 2,
   "metadata": {},
   "outputs": [],
   "source": [
    "import sys\n",
    "sys.path.append('../../')"
   ]
  },
  {
   "cell_type": "code",
   "execution_count": 3,
   "metadata": {},
   "outputs": [],
   "source": [
    "import pandas as pd\n",
    "\n",
    "from utils.db_util import create_postgres_engine\n",
    "from utils.query_util import query_person_in_org, query_organization_stats"
   ]
  },
  {
   "cell_type": "code",
   "execution_count": 4,
   "metadata": {},
   "outputs": [],
   "source": [
    "db_conn = create_postgres_engine()"
   ]
  },
  {
   "cell_type": "code",
   "execution_count": 5,
   "metadata": {},
   "outputs": [],
   "source": [
    "# company_df = pd.read_csv('../../data/query_result/filtered_company_list_100_char_count_cutoff.csv')\n",
    "\n",
    "# org_profiles = company_df['org_profile_link'].tolist()\n",
    "\n",
    "# def escape_single_quote(text):\n",
    "#     \"\"\"Since postgres does not like single quote in text\"\"\"\n",
    "#     text = text.replace(\"'\", \"''\")\n",
    "#     return text\n",
    "\n",
    "# org_profiles = [escape_single_quote(t) for t in org_profiles]\n",
    "\n",
    "# len(org_profiles)"
   ]
  },
  {
   "cell_type": "code",
   "execution_count": 6,
   "metadata": {},
   "outputs": [
    {
     "name": "stdout",
     "output_type": "stream",
     "text": [
      "CPU times: user 3.55 ms, sys: 12 ms, total: 15.6 ms\n",
      "Wall time: 1min 53s\n"
     ]
    }
   ],
   "source": [
    "%%time\n",
    "\n",
    "org_stat_df = query_organization_stats(db_conn, \n",
    "                                       org_profile_links=None,\n",
    "                                       min_word_length=100,\n",
    "                                       min_person_count_per_org=1000)"
   ]
  },
  {
   "cell_type": "code",
   "execution_count": 7,
   "metadata": {},
   "outputs": [
    {
     "data": {
      "text/plain": [
       "(695, 4)"
      ]
     },
     "execution_count": 7,
     "metadata": {},
     "output_type": "execute_result"
    }
   ],
   "source": [
    "org_stat_df.shape"
   ]
  },
  {
   "cell_type": "code",
   "execution_count": 8,
   "metadata": {},
   "outputs": [
    {
     "data": {
      "text/html": [
       "<div>\n",
       "<style scoped>\n",
       "    .dataframe tbody tr th:only-of-type {\n",
       "        vertical-align: middle;\n",
       "    }\n",
       "\n",
       "    .dataframe tbody tr th {\n",
       "        vertical-align: top;\n",
       "    }\n",
       "\n",
       "    .dataframe thead th {\n",
       "        text-align: right;\n",
       "    }\n",
       "</style>\n",
       "<table border=\"1\" class=\"dataframe\">\n",
       "  <thead>\n",
       "    <tr style=\"text-align: right;\">\n",
       "      <th></th>\n",
       "      <th>org_profile_link</th>\n",
       "      <th>count_person</th>\n",
       "      <th>avg_word_length</th>\n",
       "      <th>median_word_length</th>\n",
       "    </tr>\n",
       "  </thead>\n",
       "  <tbody>\n",
       "    <tr>\n",
       "      <td>0</td>\n",
       "      <td>/company/us-army?trk=ppro_cprof</td>\n",
       "      <td>36620</td>\n",
       "      <td>187.371983</td>\n",
       "      <td>162</td>\n",
       "    </tr>\n",
       "    <tr>\n",
       "      <td>1</td>\n",
       "      <td>/company/ibm?trk=ppro_cprof</td>\n",
       "      <td>32292</td>\n",
       "      <td>191.326985</td>\n",
       "      <td>167</td>\n",
       "    </tr>\n",
       "    <tr>\n",
       "      <td>2</td>\n",
       "      <td>/company/united-states-air-force?trk=ppro_cprof</td>\n",
       "      <td>26261</td>\n",
       "      <td>188.169948</td>\n",
       "      <td>162</td>\n",
       "    </tr>\n",
       "    <tr>\n",
       "      <td>3</td>\n",
       "      <td>/company/us-navy?trk=ppro_cprof</td>\n",
       "      <td>26030</td>\n",
       "      <td>188.520246</td>\n",
       "      <td>162</td>\n",
       "    </tr>\n",
       "    <tr>\n",
       "      <td>4</td>\n",
       "      <td>/company/bank-of-america?trk=ppro_cprof</td>\n",
       "      <td>24173</td>\n",
       "      <td>182.656600</td>\n",
       "      <td>157</td>\n",
       "    </tr>\n",
       "    <tr>\n",
       "      <td>5</td>\n",
       "      <td>/company/hewlett-packard?trk=ppro_cprof</td>\n",
       "      <td>22949</td>\n",
       "      <td>189.057170</td>\n",
       "      <td>164</td>\n",
       "    </tr>\n",
       "    <tr>\n",
       "      <td>6</td>\n",
       "      <td>/company/at&amp;t?trk=ppro_cprof</td>\n",
       "      <td>20455</td>\n",
       "      <td>186.869030</td>\n",
       "      <td>161</td>\n",
       "    </tr>\n",
       "    <tr>\n",
       "      <td>7</td>\n",
       "      <td>/company/jpmorgan-chase?trk=ppro_cprof</td>\n",
       "      <td>18804</td>\n",
       "      <td>180.191661</td>\n",
       "      <td>154</td>\n",
       "    </tr>\n",
       "    <tr>\n",
       "      <td>8</td>\n",
       "      <td>/company/microsoft?trk=ppro_cprof</td>\n",
       "      <td>16341</td>\n",
       "      <td>188.592191</td>\n",
       "      <td>164</td>\n",
       "    </tr>\n",
       "    <tr>\n",
       "      <td>9</td>\n",
       "      <td>/company/wells-fargo?trk=ppro_cprof</td>\n",
       "      <td>15945</td>\n",
       "      <td>182.006585</td>\n",
       "      <td>157</td>\n",
       "    </tr>\n",
       "  </tbody>\n",
       "</table>\n",
       "</div>"
      ],
      "text/plain": [
       "                                  org_profile_link  count_person  \\\n",
       "0                  /company/us-army?trk=ppro_cprof         36620   \n",
       "1                      /company/ibm?trk=ppro_cprof         32292   \n",
       "2  /company/united-states-air-force?trk=ppro_cprof         26261   \n",
       "3                  /company/us-navy?trk=ppro_cprof         26030   \n",
       "4          /company/bank-of-america?trk=ppro_cprof         24173   \n",
       "5          /company/hewlett-packard?trk=ppro_cprof         22949   \n",
       "6                     /company/at&t?trk=ppro_cprof         20455   \n",
       "7           /company/jpmorgan-chase?trk=ppro_cprof         18804   \n",
       "8                /company/microsoft?trk=ppro_cprof         16341   \n",
       "9              /company/wells-fargo?trk=ppro_cprof         15945   \n",
       "\n",
       "   avg_word_length  median_word_length  \n",
       "0       187.371983                 162  \n",
       "1       191.326985                 167  \n",
       "2       188.169948                 162  \n",
       "3       188.520246                 162  \n",
       "4       182.656600                 157  \n",
       "5       189.057170                 164  \n",
       "6       186.869030                 161  \n",
       "7       180.191661                 154  \n",
       "8       188.592191                 164  \n",
       "9       182.006585                 157  "
      ]
     },
     "execution_count": 8,
     "metadata": {},
     "output_type": "execute_result"
    }
   ],
   "source": [
    "org_stat_df.head(10)"
   ]
  },
  {
   "cell_type": "code",
   "execution_count": 9,
   "metadata": {},
   "outputs": [],
   "source": [
    "org_stat_df.to_csv('../../data/query_result/filtered_org_stat_100_word_count_cutoff.csv',\n",
    "                   index=False)"
   ]
  },
  {
   "cell_type": "code",
   "execution_count": null,
   "metadata": {},
   "outputs": [],
   "source": []
  },
  {
   "cell_type": "markdown",
   "metadata": {},
   "source": [
    "### Get Aggregate Stat"
   ]
  },
  {
   "cell_type": "code",
   "execution_count": 23,
   "metadata": {},
   "outputs": [],
   "source": [
    "reference_fp = '../../data/query_result/filtered_org_stat_100_char_count_cutoff.csv'"
   ]
  },
  {
   "cell_type": "code",
   "execution_count": 24,
   "metadata": {},
   "outputs": [],
   "source": [
    "temp_df = pd.read_csv(reference_fp)"
   ]
  },
  {
   "cell_type": "code",
   "execution_count": 25,
   "metadata": {},
   "outputs": [
    {
     "name": "stdout",
     "output_type": "stream",
     "text": [
      "num companies:  1995\n",
      "avg employees:  3312.12\n",
      "median employees:  1840.0\n",
      "avg word length:  107.82\n"
     ]
    }
   ],
   "source": [
    "print('num companies: ', temp_df.shape[0])\n",
    "print('avg employees: ', temp_df['count_person'].mean().round(2))\n",
    "print('median employees: ', temp_df['count_person'].median().round(2))\n",
    "print('avg word length: ', temp_df['avg_word_length'].mean().round(2))"
   ]
  },
  {
   "cell_type": "code",
   "execution_count": 31,
   "metadata": {},
   "outputs": [
    {
     "data": {
      "text/html": [
       "<div>\n",
       "<style scoped>\n",
       "    .dataframe tbody tr th:only-of-type {\n",
       "        vertical-align: middle;\n",
       "    }\n",
       "\n",
       "    .dataframe tbody tr th {\n",
       "        vertical-align: top;\n",
       "    }\n",
       "\n",
       "    .dataframe thead th {\n",
       "        text-align: right;\n",
       "    }\n",
       "</style>\n",
       "<table border=\"1\" class=\"dataframe\">\n",
       "  <thead>\n",
       "    <tr style=\"text-align: right;\">\n",
       "      <th></th>\n",
       "      <th>org_profile_link</th>\n",
       "      <th>count_person</th>\n",
       "      <th>avg_word_length</th>\n",
       "      <th>median_word_length</th>\n",
       "    </tr>\n",
       "  </thead>\n",
       "  <tbody>\n",
       "    <tr>\n",
       "      <td>679</td>\n",
       "      <td>/company/atk?trk=ppro_cprof</td>\n",
       "      <td>2510</td>\n",
       "      <td>106.211155</td>\n",
       "      <td>82</td>\n",
       "    </tr>\n",
       "    <tr>\n",
       "      <td>1890</td>\n",
       "      <td>/company/meritor?trk=ppro_cprof</td>\n",
       "      <td>1045</td>\n",
       "      <td>102.529187</td>\n",
       "      <td>81</td>\n",
       "    </tr>\n",
       "    <tr>\n",
       "      <td>556</td>\n",
       "      <td>/company/apex-systems?trk=ppro_cprof</td>\n",
       "      <td>2970</td>\n",
       "      <td>124.245791</td>\n",
       "      <td>101</td>\n",
       "    </tr>\n",
       "    <tr>\n",
       "      <td>704</td>\n",
       "      <td>/company/providence-health-and-services?trk=pp...</td>\n",
       "      <td>2439</td>\n",
       "      <td>106.871259</td>\n",
       "      <td>82</td>\n",
       "    </tr>\n",
       "    <tr>\n",
       "      <td>1556</td>\n",
       "      <td>/company/carlson-marketing?trk=ppro_cprof</td>\n",
       "      <td>1255</td>\n",
       "      <td>118.082072</td>\n",
       "      <td>94</td>\n",
       "    </tr>\n",
       "    <tr>\n",
       "      <td>1979</td>\n",
       "      <td>/company/pvh?trk=ppro_cprof</td>\n",
       "      <td>1007</td>\n",
       "      <td>96.778550</td>\n",
       "      <td>75</td>\n",
       "    </tr>\n",
       "    <tr>\n",
       "      <td>1407</td>\n",
       "      <td>/company/kci-medical?trk=ppro_cprof</td>\n",
       "      <td>1379</td>\n",
       "      <td>103.762146</td>\n",
       "      <td>82</td>\n",
       "    </tr>\n",
       "    <tr>\n",
       "      <td>877</td>\n",
       "      <td>/company/bayer?trk=ppro_cprof</td>\n",
       "      <td>2057</td>\n",
       "      <td>110.960136</td>\n",
       "      <td>84</td>\n",
       "    </tr>\n",
       "    <tr>\n",
       "      <td>1762</td>\n",
       "      <td>/company/western-kentucky-university?trk=ppro_...</td>\n",
       "      <td>1120</td>\n",
       "      <td>98.932143</td>\n",
       "      <td>76</td>\n",
       "    </tr>\n",
       "    <tr>\n",
       "      <td>659</td>\n",
       "      <td>/company/blackrock?trk=ppro_cprof</td>\n",
       "      <td>2585</td>\n",
       "      <td>103.341586</td>\n",
       "      <td>79</td>\n",
       "    </tr>\n",
       "  </tbody>\n",
       "</table>\n",
       "</div>"
      ],
      "text/plain": [
       "                                       org_profile_link  count_person  \\\n",
       "679                         /company/atk?trk=ppro_cprof          2510   \n",
       "1890                    /company/meritor?trk=ppro_cprof          1045   \n",
       "556                /company/apex-systems?trk=ppro_cprof          2970   \n",
       "704   /company/providence-health-and-services?trk=pp...          2439   \n",
       "1556          /company/carlson-marketing?trk=ppro_cprof          1255   \n",
       "1979                        /company/pvh?trk=ppro_cprof          1007   \n",
       "1407                /company/kci-medical?trk=ppro_cprof          1379   \n",
       "877                       /company/bayer?trk=ppro_cprof          2057   \n",
       "1762  /company/western-kentucky-university?trk=ppro_...          1120   \n",
       "659                   /company/blackrock?trk=ppro_cprof          2585   \n",
       "\n",
       "      avg_word_length  median_word_length  \n",
       "679        106.211155                  82  \n",
       "1890       102.529187                  81  \n",
       "556        124.245791                 101  \n",
       "704        106.871259                  82  \n",
       "1556       118.082072                  94  \n",
       "1979        96.778550                  75  \n",
       "1407       103.762146                  82  \n",
       "877        110.960136                  84  \n",
       "1762        98.932143                  76  \n",
       "659        103.341586                  79  "
      ]
     },
     "execution_count": 31,
     "metadata": {},
     "output_type": "execute_result"
    }
   ],
   "source": [
    "temp_df.sample(10)"
   ]
  },
  {
   "cell_type": "code",
   "execution_count": null,
   "metadata": {},
   "outputs": [],
   "source": []
  },
  {
   "cell_type": "markdown",
   "metadata": {},
   "source": [
    "### Comparison"
   ]
  },
  {
   "cell_type": "code",
   "execution_count": null,
   "metadata": {},
   "outputs": [],
   "source": [
    "new_q_df = pd.read_csv('../../data/query_result/filtered_org_stat_100_char_count_cutoff.csv')\n",
    "old_q_df = pd.read_csv('../../data/query_result/filtered_company_list_100_char_count_cutoff.csv')"
   ]
  },
  {
   "cell_type": "code",
   "execution_count": null,
   "metadata": {},
   "outputs": [],
   "source": [
    "new_q_df.shape, old_q_df.shape"
   ]
  },
  {
   "cell_type": "code",
   "execution_count": null,
   "metadata": {},
   "outputs": [],
   "source": [
    "new_q_df.head()"
   ]
  },
  {
   "cell_type": "code",
   "execution_count": null,
   "metadata": {},
   "outputs": [],
   "source": [
    "old_q_df.head()"
   ]
  },
  {
   "cell_type": "code",
   "execution_count": null,
   "metadata": {},
   "outputs": [],
   "source": [
    "new_q_df = new_q_df[['org_profile_link', 'count_person']].rename(\n",
    "    columns={'count_person': 'count_person_new'}).copy()"
   ]
  },
  {
   "cell_type": "code",
   "execution_count": null,
   "metadata": {},
   "outputs": [],
   "source": [
    "merged = old_q_df.merge(new_q_df, on='org_profile_link')"
   ]
  },
  {
   "cell_type": "code",
   "execution_count": null,
   "metadata": {},
   "outputs": [],
   "source": [
    "merged.shape"
   ]
  },
  {
   "cell_type": "code",
   "execution_count": null,
   "metadata": {},
   "outputs": [],
   "source": [
    "(merged['count_person'] - merged['count_person_new']).abs().max()"
   ]
  },
  {
   "cell_type": "code",
   "execution_count": null,
   "metadata": {},
   "outputs": [],
   "source": []
  }
 ],
 "metadata": {
  "kernelspec": {
   "display_name": "Python 3",
   "language": "python",
   "name": "python3"
  },
  "language_info": {
   "codemirror_mode": {
    "name": "ipython",
    "version": 3
   },
   "file_extension": ".py",
   "mimetype": "text/x-python",
   "name": "python",
   "nbconvert_exporter": "python",
   "pygments_lexer": "ipython3",
   "version": "3.6.8"
  }
 },
 "nbformat": 4,
 "nbformat_minor": 4
}
