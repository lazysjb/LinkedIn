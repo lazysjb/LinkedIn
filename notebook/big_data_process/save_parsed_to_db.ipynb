{
 "cells": [
  {
   "cell_type": "code",
   "execution_count": 1,
   "metadata": {},
   "outputs": [],
   "source": [
    "%load_ext autoreload\n",
    "%autoreload 2"
   ]
  },
  {
   "cell_type": "code",
   "execution_count": 2,
   "metadata": {},
   "outputs": [],
   "source": [
    "import sys\n",
    "sys.path.append('../..')"
   ]
  },
  {
   "cell_type": "code",
   "execution_count": 3,
   "metadata": {},
   "outputs": [],
   "source": [
    "import json\n",
    "import os\n",
    "from glob import glob\n",
    "\n",
    "import pandas as pd\n",
    "from tqdm import tqdm\n",
    "\n",
    "from utils.db_util import create_postgres_engine, write_to_db\n",
    "from db_config import (\n",
    "    PERSON_META_TABLE,\n",
    "    PERSON_SUMMARY_TABLE,\n",
    "    PERSON_SPECIALTY_TABLE,\n",
    "    PERSON_EXPERIENCE_TABLE,\n",
    ")"
   ]
  },
  {
   "cell_type": "code",
   "execution_count": 4,
   "metadata": {},
   "outputs": [],
   "source": [
    "pd.set_option('display.max_colwidth', 150)"
   ]
  },
  {
   "cell_type": "code",
   "execution_count": 5,
   "metadata": {},
   "outputs": [],
   "source": [
    "ROOT_DIR = '/home/sjb/Projects/Research/LinkedIn_OB/data/parsed_profiles'\n",
    "# PARSED_DIR_LIST = [\n",
    "#     'First_1000_1',\n",
    "# ]\n",
    "PARSED_DIR = 'First_1000_1'\n",
    "PARSED_SUB_DIR_LIST = [\n",
    "    '523',\n",
    "    '633',\n",
    "    '574',\n",
    "]"
   ]
  },
  {
   "cell_type": "code",
   "execution_count": 6,
   "metadata": {},
   "outputs": [],
   "source": [
    "db_conn = create_postgres_engine()"
   ]
  },
  {
   "cell_type": "code",
   "execution_count": 7,
   "metadata": {},
   "outputs": [],
   "source": [
    "def read_json(fpath):\n",
    "    with open(fpath, 'r') as f:\n",
    "        content = json.load(f)\n",
    "    return content"
   ]
  },
  {
   "cell_type": "code",
   "execution_count": 8,
   "metadata": {},
   "outputs": [],
   "source": [
    "def get_person_id_infos(fpath):\n",
    "    components = fpath.split('/')\n",
    "    file_name = components[-1].split('.')[0]\n",
    "    parent_folder = components[-2]\n",
    "    batch_folder = components[-3]\n",
    "    person_id = '_'.join([file_name, parent_folder, batch_folder])    \n",
    "    \n",
    "    return person_id, parent_folder, batch_folder"
   ]
  },
  {
   "cell_type": "code",
   "execution_count": 9,
   "metadata": {},
   "outputs": [],
   "source": [
    "def _extract_keys_from_dict(dict_struct, keys):\n",
    "    \"\"\"Get values from a dict of dicts\"\"\"\n",
    "    result = dict_struct.copy()\n",
    "    \n",
    "    for key in keys:\n",
    "        result = result[key]\n",
    "        \n",
    "    return result"
   ]
  },
  {
   "cell_type": "code",
   "execution_count": 10,
   "metadata": {},
   "outputs": [],
   "source": [
    "def extract_person_meta(file_path, parsed_content):\n",
    "    person_id, parent_folder, batch_folder = get_person_id_infos(file_path)\n",
    "    \n",
    "    given_name = _extract_keys_from_dict(parsed_content, ['header', 'name', 'given_name'])\n",
    "    family_name = _extract_keys_from_dict(parsed_content, ['header', 'name', 'family_name'])\n",
    "    header_title = _extract_keys_from_dict(parsed_content, ['header', 'title'])\n",
    "    header_location = _extract_keys_from_dict(parsed_content, ['header', 'location'])\n",
    "    header_industry = _extract_keys_from_dict(parsed_content, ['header', 'industry'])\n",
    "    \n",
    "    result = {\n",
    "        'person_id': person_id,\n",
    "        'parent_folder': parent_folder,\n",
    "        'batch_folder': batch_folder,\n",
    "        'given_name': given_name,\n",
    "        'family_name': family_name,\n",
    "        'header_title': header_title,\n",
    "        'header_location': header_location,\n",
    "        'header_industry': header_industry,\n",
    "    }\n",
    "    \n",
    "    return result\n",
    "\n",
    "def extract_person_summary(file_path, parsed_content):\n",
    "    person_id, parent_folder, batch_folder = get_person_id_infos(file_path)\n",
    "    person_summary = parsed_content['summary']\n",
    "    \n",
    "    return {\n",
    "        'person_id': person_id,\n",
    "        'person_summary': person_summary,\n",
    "    }\n",
    "\n",
    "def extract_person_specialty(file_path, parsed_content):\n",
    "    person_id, parent_folder, batch_folder = get_person_id_infos(file_path)\n",
    "    person_specialty = parsed_content['specialty']\n",
    "    \n",
    "    return {\n",
    "        'person_id': person_id,\n",
    "        'person_specialty': person_specialty,\n",
    "    }\n",
    "\n",
    "def _is_current_experience(experience_item):\n",
    "    date_end = _extract_keys_from_dict(experience_item, ['period', 'date_end'])\n",
    "    return date_end == 'Present'\n",
    "\n",
    "def extract_person_experience(file_path, parsed_content):\n",
    "    person_id, parent_folder, batch_folder = get_person_id_infos(file_path)\n",
    "    \n",
    "    experience_list = parsed_content['experience']\n",
    "    \n",
    "    result = []\n",
    "    \n",
    "    for idx, experience_item in enumerate(experience_list):\n",
    "        \n",
    "        org_name = experience_item['org_summary']\n",
    "        org_profile_link = experience_item['company_profile']\n",
    "        org_detail = experience_item['org_detail']\n",
    "        \n",
    "        experience_title = experience_item['title']\n",
    "        experience_location = experience_item['location']\n",
    "        experience_description = experience_item['description']\n",
    "        date_start = _extract_keys_from_dict(experience_item, ['period', 'date_start'])\n",
    "        date_end = _extract_keys_from_dict(experience_item, ['period', 'date_end'])\n",
    "        duration = _extract_keys_from_dict(experience_item, ['period', 'duration'])\n",
    "        is_current = _is_current_experience(experience_item)\n",
    "        \n",
    "        result.append({\n",
    "            'person_id': person_id,\n",
    "            'experience_id': idx,\n",
    "            'org_name': org_name,\n",
    "            'org_profile_link': org_profile_link,\n",
    "            'org_detail': org_detail,\n",
    "            'experience_title': experience_title,\n",
    "            'experience_location': experience_location,\n",
    "            'experience_description': experience_description,\n",
    "            'date_start': date_start,\n",
    "            'date_end': date_end,\n",
    "            'duration': duration,\n",
    "            'is_current': is_current,\n",
    "        })\n",
    "\n",
    "    \n",
    "    return result\n"
   ]
  },
  {
   "cell_type": "code",
   "execution_count": 11,
   "metadata": {},
   "outputs": [
    {
     "name": "stderr",
     "output_type": "stream",
     "text": [
      "100%|██████████| 3/3 [00:42<00:00, 14.06s/it]"
     ]
    },
    {
     "name": "stdout",
     "output_type": "stream",
     "text": [
      "CPU times: user 9.65 s, sys: 454 ms, total: 10.1 s\n",
      "Wall time: 42.2 s\n"
     ]
    },
    {
     "name": "stderr",
     "output_type": "stream",
     "text": [
      "\n"
     ]
    }
   ],
   "source": [
    "%%time\n",
    "\n",
    "for sub_dir in tqdm(PARSED_SUB_DIR_LIST):\n",
    "    parsed_paths = glob(os.path.join(ROOT_DIR, PARSED_DIR, sub_dir, '*.json'))\n",
    "    \n",
    "    person_meta_contents = []\n",
    "    person_summary_contents = []\n",
    "    person_specialty_contents = []\n",
    "    person_experience_contents = []\n",
    "    \n",
    "    for fpath in parsed_paths:\n",
    "        parsed_content = read_json(fpath)\n",
    "        \n",
    "        person_meta_contents.append(extract_person_meta(fpath, parsed_content))\n",
    "        person_summary_contents.append(extract_person_summary(fpath, parsed_content))\n",
    "        person_specialty_contents.append(extract_person_specialty(fpath, parsed_content))\n",
    "        person_experience_contents.extend(extract_person_experience(fpath, parsed_content))\n",
    "        \n",
    "    person_meta_contents = pd.DataFrame(person_meta_contents)\n",
    "    person_summary_contents = pd.DataFrame(person_summary_contents)\n",
    "    person_specialty_contents = pd.DataFrame(person_specialty_contents)\n",
    "    person_experience_contents = pd.DataFrame(person_experience_contents)\n",
    "    \n",
    "    write_to_db(person_meta_contents, \n",
    "                db_conn, \n",
    "                PERSON_META_TABLE, schema='linkedin', if_exists='append')\n",
    "    \n",
    "    write_to_db(person_experience_contents, \n",
    "                db_conn, \n",
    "                PERSON_EXPERIENCE_TABLE, schema='linkedin', if_exists='append')\n",
    "    \n",
    "    write_to_db(person_summary_contents, \n",
    "                db_conn, \n",
    "                PERSON_SUMMARY_TABLE, schema='linkedin', if_exists='append')\n",
    "    \n",
    "    write_to_db(person_specialty_contents, \n",
    "                db_conn, \n",
    "                PERSON_SPECIALTY_TABLE, schema='linkedin', if_exists='append')"
   ]
  },
  {
   "cell_type": "code",
   "execution_count": null,
   "metadata": {},
   "outputs": [],
   "source": [
    "person_experience_contents.to_sql()"
   ]
  },
  {
   "cell_type": "code",
   "execution_count": null,
   "metadata": {},
   "outputs": [],
   "source": [
    "person_summary_contents"
   ]
  },
  {
   "cell_type": "code",
   "execution_count": null,
   "metadata": {},
   "outputs": [],
   "source": [
    "person_specialty_contents"
   ]
  },
  {
   "cell_type": "code",
   "execution_count": null,
   "metadata": {},
   "outputs": [],
   "source": [
    "person_experience_contents"
   ]
  },
  {
   "cell_type": "code",
   "execution_count": null,
   "metadata": {},
   "outputs": [],
   "source": [
    "person_experience_contents['date_start'].value_counts()"
   ]
  },
  {
   "cell_type": "code",
   "execution_count": null,
   "metadata": {},
   "outputs": [],
   "source": []
  }
 ],
 "metadata": {
  "kernelspec": {
   "display_name": "Python 3",
   "language": "python",
   "name": "python3"
  },
  "language_info": {
   "codemirror_mode": {
    "name": "ipython",
    "version": 3
   },
   "file_extension": ".py",
   "mimetype": "text/x-python",
   "name": "python",
   "nbconvert_exporter": "python",
   "pygments_lexer": "ipython3",
   "version": "3.6.8"
  }
 },
 "nbformat": 4,
 "nbformat_minor": 4
}
