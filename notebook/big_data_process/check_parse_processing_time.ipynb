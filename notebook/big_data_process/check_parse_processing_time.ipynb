{
 "cells": [
  {
   "cell_type": "code",
   "execution_count": 1,
   "metadata": {},
   "outputs": [],
   "source": [
    "%load_ext autoreload\n",
    "%autoreload 2"
   ]
  },
  {
   "cell_type": "code",
   "execution_count": 2,
   "metadata": {},
   "outputs": [],
   "source": [
    "import sys"
   ]
  },
  {
   "cell_type": "code",
   "execution_count": 3,
   "metadata": {},
   "outputs": [],
   "source": [
    "sys.path.append('../../')"
   ]
  },
  {
   "cell_type": "code",
   "execution_count": 1,
   "metadata": {},
   "outputs": [
    {
     "ename": "ModuleNotFoundError",
     "evalue": "No module named 'utils'",
     "output_type": "error",
     "traceback": [
      "\u001b[0;31m---------------------------------------------------------------------------\u001b[0m",
      "\u001b[0;31mModuleNotFoundError\u001b[0m                       Traceback (most recent call last)",
      "\u001b[0;32m<ipython-input-1-e365f0769f43>\u001b[0m in \u001b[0;36m<module>\u001b[0;34m\u001b[0m\n\u001b[1;32m     10\u001b[0m \u001b[0;32mfrom\u001b[0m \u001b[0mtqdm\u001b[0m \u001b[0;32mimport\u001b[0m \u001b[0mtqdm\u001b[0m\u001b[0;34m\u001b[0m\u001b[0;34m\u001b[0m\u001b[0m\n\u001b[1;32m     11\u001b[0m \u001b[0;34m\u001b[0m\u001b[0m\n\u001b[0;32m---> 12\u001b[0;31m \u001b[0;32mfrom\u001b[0m \u001b[0mutils\u001b[0m\u001b[0;34m.\u001b[0m\u001b[0mparse_util\u001b[0m \u001b[0;32mimport\u001b[0m \u001b[0mHTMLFileReader\u001b[0m\u001b[0;34m,\u001b[0m \u001b[0mLinkedInProfileParser\u001b[0m\u001b[0;34m\u001b[0m\u001b[0;34m\u001b[0m\u001b[0m\n\u001b[0m",
      "\u001b[0;31mModuleNotFoundError\u001b[0m: No module named 'utils'"
     ]
    }
   ],
   "source": [
    "from glob import glob\n",
    "import os\n",
    "import json\n",
    "import shutil\n",
    "import multiprocessing\n",
    "\n",
    "import numpy as np\n",
    "import pandas as pd\n",
    "from pandas.io.json import json_normalize\n",
    "from tqdm import tqdm\n",
    "\n",
    "from utils.parse_util import HTMLFileReader, LinkedInProfileParser"
   ]
  },
  {
   "cell_type": "code",
   "execution_count": 8,
   "metadata": {},
   "outputs": [],
   "source": [
    "DATA_DIR = '../../../../data/sample_unzip/'"
   ]
  },
  {
   "cell_type": "code",
   "execution_count": 9,
   "metadata": {},
   "outputs": [],
   "source": [
    "profile_dirs = [x for x in os.listdir(DATA_DIR) if not x.endswith('.zip')]\n",
    "profile_dirs = sorted(profile_dirs, key=lambda x: int(x))"
   ]
  },
  {
   "cell_type": "code",
   "execution_count": 10,
   "metadata": {},
   "outputs": [
    {
     "data": {
      "text/plain": [
       "111"
      ]
     },
     "execution_count": 10,
     "metadata": {},
     "output_type": "execute_result"
    }
   ],
   "source": [
    "len(profile_dirs)"
   ]
  },
  {
   "cell_type": "markdown",
   "metadata": {},
   "source": [
    "### Run first 8"
   ]
  },
  {
   "cell_type": "code",
   "execution_count": 11,
   "metadata": {},
   "outputs": [],
   "source": [
    "profile_dirs = profile_dirs[:8]"
   ]
  },
  {
   "cell_type": "code",
   "execution_count": 12,
   "metadata": {},
   "outputs": [
    {
     "data": {
      "text/plain": [
       "['2026', '2027', '2028', '2029', '2030', '2031', '2032', '2033']"
      ]
     },
     "execution_count": 12,
     "metadata": {},
     "output_type": "execute_result"
    }
   ],
   "source": [
    "profile_dirs"
   ]
  },
  {
   "cell_type": "code",
   "execution_count": null,
   "metadata": {},
   "outputs": [],
   "source": []
  },
  {
   "cell_type": "code",
   "execution_count": 13,
   "metadata": {},
   "outputs": [],
   "source": [
    "def parse_profile(profile_path):\n",
    "    html_reader = HTMLFileReader(profile_path)\n",
    "    html_reader.load()\n",
    "    clean_html = html_reader.get_clean_html_text()\n",
    "    \n",
    "    li_profile = LinkedInProfileParser(clean_html)\n",
    "    li_profile.parse()\n",
    "    li_profile_dict = li_profile.get_formatted_content()\n",
    "    return li_profile_dict"
   ]
  },
  {
   "cell_type": "code",
   "execution_count": 14,
   "metadata": {},
   "outputs": [],
   "source": [
    "LOG_DIR = ('/home/sjb/Projects/Research/\\\n",
    "LinkedIn_OB/data/sample_log/single/')"
   ]
  },
  {
   "cell_type": "code",
   "execution_count": 15,
   "metadata": {},
   "outputs": [],
   "source": [
    "def write_logs(file_prefix, contents, log_dir=LOG_DIR):\n",
    "    file_name = '{}_logs.txt'.format(file_prefix)\n",
    "    file_path = os.path.join(log_dir, file_name)\n",
    "    \n",
    "    content_str = '\\n'.join(contents)\n",
    "    \n",
    "    with open(file_path, 'w') as f:\n",
    "        f.write(content_str)\n",
    "    "
   ]
  },
  {
   "cell_type": "code",
   "execution_count": 16,
   "metadata": {},
   "outputs": [],
   "source": [
    "sample_profile_dir = '2026'\n",
    "\n",
    "sample_file_name = '101290520.html'\n",
    "\n",
    "sample_file_path = os.path.join(DATA_DIR,\n",
    "                                sample_profile_dir,\n",
    "                                sample_file_name)"
   ]
  },
  {
   "cell_type": "code",
   "execution_count": 18,
   "metadata": {},
   "outputs": [],
   "source": [
    "parsed = parse_profile(sample_file_path)"
   ]
  },
  {
   "cell_type": "code",
   "execution_count": 19,
   "metadata": {},
   "outputs": [
    {
     "data": {
      "text/plain": [
       "'{\"header\": {\"name\": {\"given_name\": \"Mary K\", \"family_name\": \"Leonard\"}, \"title\": \"Student at Grand Valley State University\", \"location\": \"Holland, Michigan\", \"industry\": null}, \"overview\": {\"current\": null, \"past\": [{\"role\": \"Student Research Assistant\", \"at\": \"Community Research Institute;Johnson Center for Philanthropy\", \"extra\": null}, {\"role\": \"Receptionist/Intake Specialist\", \"at\": \"J & M Services\", \"extra\": null}, {\"role\": \"Administrative Assistant (Adecco Staffing)\", \"at\": \"Herman Miller\", \"extra\": null}, {\"role\": \"Accounting Clerk\", \"at\": \"Louis Padnos Iron & Metal Company\", \"extra\": null}, {\"role\": \"Commodity Accounting Supervisor\", \"at\": \"Louis Padnos Iron & Metal Company\", \"extra\": null}], \"education\": [\"Grand Valley State University\", \"Grand Rapids Community College\"], \"connections\": \"31\", \"recommendations\": null, \"websites\": null}, \"summary\": null, \"specialty\": null, \"experience\": [{\"title\": \"Student Research Assistant\", \"org_summary\": \"Community Research Institute;Johnson Center for Philanthropy\", \"company_profile\": null, \"org_detail\": \"\", \"period\": {\"date_start\": \"May 2008\", \"date_end\": \"September 2009\", \"duration\": \"(1 year 5 months)\", \"text\": null}, \"location\": \"Pew Campus at Grand Valley State University, Grand Rapids, MI\", \"description\": \"Assisted researchers with cleaning and merging data sets, prepared descriptive statistics, helped proofread and edit draft reports, generated tables and graphs.\\\\nAssisted lead researcher Shelby Charkoff with assembling graphics and narrative for \\\\\"Community Assessment for Ottawa County\\\\\" published in 2008 by the Greater Ottawa County United Way.\"}, {\"title\": \"Receptionist/Intake Specialist\", \"org_summary\": \"J & M Services\", \"company_profile\": null, \"org_detail\": \"\", \"period\": {\"date_start\": \"September 2001\", \"date_end\": \"July 2002\", \"duration\": \"(11 months)\", \"text\": null}, \"location\": \"Holland, Michigan\", \"description\": \"Staffing Company; Processed job applicants for employment, answered the phone, did data entry.\"}, {\"title\": \"Administrative Assistant (Adecco Staffing)\", \"org_summary\": \"Herman Miller\", \"company_profile\": \"/company/herman-miller?trk=ppro_cprof\", \"org_detail\": \"Public Company; 5001-10,000 employees; MLHR;\\\\n\\\\t  \\\\t      Furniture industry\", \"period\": {\"date_start\": \"November 2000\", \"date_end\": \"August 2001\", \"duration\": \"(10 months)\", \"text\": null}, \"location\": \"Zeeland, Michigan\", \"description\": \"Corporate Catering Department; answered the phone, input catering requests, typed menus, helped rewrite and assemble the catering manual, assisted with events as needed.\"}, {\"title\": \"Accounting Clerk\", \"org_summary\": \"Louis Padnos Iron & Metal Company\", \"company_profile\": \"/company/louis-padnos-iron-&-metal-company?trk=ppro_cprof\", \"org_detail\": \"Privately Held; 201-500 employees;\\\\n\\\\t  \\\\t      Accounting industry\", \"period\": {\"date_start\": \"October 1997\", \"date_end\": \"April 2000\", \"duration\": \"(2 years 7 months)\", \"text\": null}, \"location\": \"Holland, Michigan\", \"description\": \"Filled in for absent Commodity Accounting personnel, processed freight invoices, input batch accounts payable, researched problems, managed Secondary Fibers accounts payable.\"}, {\"title\": \"Commodity Accounting Supervisor\", \"org_summary\": \"Louis Padnos Iron & Metal Company\", \"company_profile\": \"/company/louis-padnos-iron-&-metal-company?trk=ppro_cprof\", \"org_detail\": \"Privately Held; 201-500 employees;\\\\n\\\\t  \\\\t      Accounting industry\", \"period\": {\"date_start\": \"January 1985\", \"date_end\": \"May 1990\", \"duration\": \"(5 years 5 months)\", \"text\": null}, \"location\": \"Holland, Michigan\", \"description\": \"Matched and input documents for scrap invoices and accounts payable, supervised three people, covered department positions during vacations, assisted customers and vendors with questions, operated the truck scale when needed, researched problems.\"}], \"education\": [{\"org_name\": \"Grand Valley State University\", \"degree\": \"Bachelor of Science (B.S.)\", \"major\": \"Statistics\", \"period\": {\"date_start\": \"2006\", \"date_end\": \"2013\"}, \"education_detail\": {\"Grade\": \"3.75\", \"text\": \"Major: Statistics\\\\nMinor: Mathematics\\\\nTook the required core of statistics courses as well as electives in Non-parametric Statistics, Introductory Regression Analysis, Introduction to Bio-statistics and Statistical Computing using SAS.\\\\nEarth and Environment theme consisting of the courses Environmental Biology, Culture and the Environment and The Idea of Nature.\", \"Activities and Societies\": \"Honor Society of Phi Kappa Phi\\\\nMu Sigma Rho Statistics Honor Society\"}}, {\"org_name\": \"Grand Rapids Community College\", \"degree\": \"Associates of Arts\", \"major\": \"MACRO for transfer to 4-year college\", \"period\": {\"date_start\": \"1996\", \"date_end\": \"2005\"}, \"education_detail\": {\"Grade\": \"4.0\", \"text\": \"Took general education requirement courses, as well as three terms of Human Anatomy and Physiology,a term of Microbiology and computer programming language Basic.\", \"Activities and Societies\": \"Phi Theta Kappa Honor Society\"}}]}'"
      ]
     },
     "execution_count": 19,
     "metadata": {},
     "output_type": "execute_result"
    }
   ],
   "source": [
    "json.dumps(parsed)"
   ]
  },
  {
   "cell_type": "code",
   "execution_count": null,
   "metadata": {},
   "outputs": [],
   "source": []
  },
  {
   "cell_type": "code",
   "execution_count": null,
   "metadata": {},
   "outputs": [],
   "source": [
    "error_files = []"
   ]
  },
  {
   "cell_type": "code",
   "execution_count": null,
   "metadata": {},
   "outputs": [],
   "source": [
    "%%time\n",
    "\n",
    "for profile_dir in tqdm(profile_dirs):\n",
    "    \n",
    "    profile_fnames = os.listdir(os.path.join(DATA_DIR, profile_dir))\n",
    "    error_files = []\n",
    "    \n",
    "    \n",
    "    for fn in profile_fnames:\n",
    "        file_path = os.path.join(DATA_DIR,\n",
    "                                 profile_dir,\n",
    "                                 fn)\n",
    "        try:\n",
    "            parsed = parse_profile(file_path)\n",
    "        except Exception as e:\n",
    "            error_files.append(file_path)\n",
    "    \n",
    "    log_file_prefix = profile_dir + '_single_'\n",
    "    write_logs(log_file_prefix, error_files, log_dir=LOG_DIR)"
   ]
  },
  {
   "cell_type": "code",
   "execution_count": null,
   "metadata": {},
   "outputs": [],
   "source": [
    "sample_file_path = error_files[0]\n",
    "sample_file_path"
   ]
  },
  {
   "cell_type": "code",
   "execution_count": null,
   "metadata": {},
   "outputs": [],
   "source": [
    "html_reader = HTMLFileReader(sample_file_path)\n",
    "html_reader.load()\n",
    "clean_html = html_reader.get_clean_html_text()"
   ]
  },
  {
   "cell_type": "code",
   "execution_count": null,
   "metadata": {},
   "outputs": [],
   "source": [
    "li_profile = LinkedInProfileParser(clean_html)\n",
    "\n",
    "li_profile.parse()\n",
    "\n",
    "li_profile_dict = li_profile.get_formatted_content()"
   ]
  },
  {
   "cell_type": "code",
   "execution_count": null,
   "metadata": {},
   "outputs": [],
   "source": [
    "li_profile.get_formatted_content()"
   ]
  },
  {
   "cell_type": "code",
   "execution_count": null,
   "metadata": {},
   "outputs": [],
   "source": []
  }
 ],
 "metadata": {
  "kernelspec": {
   "display_name": "Python 3",
   "language": "python",
   "name": "python3"
  },
  "language_info": {
   "codemirror_mode": {
    "name": "ipython",
    "version": 3
   },
   "file_extension": ".py",
   "mimetype": "text/x-python",
   "name": "python",
   "nbconvert_exporter": "python",
   "pygments_lexer": "ipython3",
   "version": "3.6.8"
  }
 },
 "nbformat": 4,
 "nbformat_minor": 4
}
