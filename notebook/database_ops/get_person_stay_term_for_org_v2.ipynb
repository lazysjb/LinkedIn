{
 "cells": [
  {
   "cell_type": "code",
   "execution_count": 1,
   "metadata": {},
   "outputs": [],
   "source": [
    "%load_ext autoreload\n",
    "%autoreload 2"
   ]
  },
  {
   "cell_type": "code",
   "execution_count": 2,
   "metadata": {},
   "outputs": [],
   "source": [
    "import sys\n",
    "sys.path.append('../../')"
   ]
  },
  {
   "cell_type": "code",
   "execution_count": 3,
   "metadata": {},
   "outputs": [],
   "source": [
    "from datetime import datetime\n",
    "from glob import glob\n",
    "import os\n",
    "import numpy as np\n",
    "import pandas as pd\n",
    "\n",
    "from tqdm import tqdm\n",
    "\n",
    "from utils.db_util import create_postgres_engine, make_query\n",
    "from utils.query_util import query_person_ids_in_organization\n",
    "from utils.experience_processor import (\n",
    "    parse_work_date, parse_work_duration, diff_month, get_person_stay_term,\n",
    "    is_current_job\n",
    ")"
   ]
  },
  {
   "cell_type": "code",
   "execution_count": 4,
   "metadata": {},
   "outputs": [],
   "source": [
    "INPUT_DIR = '/home/sjb/Projects/Research/LinkedIn_OB/data/company_level_individual_profiles'\n",
    "OUTPUT_DIR = '/home/sjb/Projects/Research/LinkedIn_OB/data/company_level_individual_stay_term'"
   ]
  },
  {
   "cell_type": "code",
   "execution_count": 5,
   "metadata": {},
   "outputs": [],
   "source": [
    "db_conn = create_postgres_engine()"
   ]
  },
  {
   "cell_type": "code",
   "execution_count": 6,
   "metadata": {},
   "outputs": [],
   "source": [
    "source_files = glob(os.path.join(INPUT_DIR,\n",
    "                                 '*.csv'))"
   ]
  },
  {
   "cell_type": "code",
   "execution_count": 7,
   "metadata": {},
   "outputs": [],
   "source": [
    "sample = pd.read_csv(source_files[75])"
   ]
  },
  {
   "cell_type": "code",
   "execution_count": 8,
   "metadata": {},
   "outputs": [],
   "source": [
    "org_profile_link = sample['org_profile_link'].values[0]\n",
    "person_ids = sample['person_id'].tolist()"
   ]
  },
  {
   "cell_type": "code",
   "execution_count": 9,
   "metadata": {},
   "outputs": [],
   "source": [
    "org_person_df = query_person_ids_in_organization(db_conn, org_profile_link, person_ids)"
   ]
  },
  {
   "cell_type": "code",
   "execution_count": 10,
   "metadata": {},
   "outputs": [],
   "source": [
    "assert len(set(org_person_df['person_id']).symmetric_difference(set(person_ids))) == 0"
   ]
  },
  {
   "cell_type": "code",
   "execution_count": 11,
   "metadata": {},
   "outputs": [
    {
     "data": {
      "text/plain": [
       "(1984, 2374)"
      ]
     },
     "execution_count": 11,
     "metadata": {},
     "output_type": "execute_result"
    }
   ],
   "source": [
    "len(person_ids), org_person_df.shape[0]"
   ]
  },
  {
   "cell_type": "code",
   "execution_count": 12,
   "metadata": {},
   "outputs": [],
   "source": [
    "def apply_func_when_col_vals_not_null(func,\n",
    "                                      r,\n",
    "                                      arg_cols,\n",
    "                                      cols,):\n",
    "    check_null = r[cols]\n",
    "    \n",
    "    if check_null.isnull().any():\n",
    "        return np.nan\n",
    "\n",
    "    else:\n",
    "        func_args = [r[c] for c in arg_cols]\n",
    "        return func(*func_args)"
   ]
  },
  {
   "cell_type": "code",
   "execution_count": 13,
   "metadata": {},
   "outputs": [],
   "source": [
    "org_person_df['date_start_parsed'] = org_person_df['date_start'].apply(\n",
    "    lambda x: parse_work_date(x, date_type='start_date'))\n",
    "\n",
    "org_person_df['date_end_parsed'] = org_person_df['date_end'].apply(\n",
    "    lambda x: parse_work_date(x, date_type='end_date'))\n",
    "\n",
    "org_person_df['duration_parsed'] = org_person_df.apply(\n",
    "    lambda r: apply_func_when_col_vals_not_null(\n",
    "        parse_work_duration,\n",
    "        r,\n",
    "        ['duration'],\n",
    "        ['date_start_parsed', 'date_end_parsed'],\n",
    "    ), axis=1)\n",
    "\n",
    "# org_person_df['duration_calc'] = org_person_df.apply(\n",
    "#     lambda r: apply_func_when_col_vals_not_null(\n",
    "#         diff_month,\n",
    "#         r,\n",
    "#         ['date_end_parsed', 'date_start_parsed'],\n",
    "#         ['date_start_parsed'],\n",
    "#     ), axis=1)"
   ]
  },
  {
   "cell_type": "code",
   "execution_count": 14,
   "metadata": {},
   "outputs": [],
   "source": [
    "# org_person_df[org_person_df[['date_start_parsed', 'date_end_parsed']].isnull().any(axis=1)].shape"
   ]
  },
  {
   "cell_type": "code",
   "execution_count": 15,
   "metadata": {},
   "outputs": [],
   "source": [
    "person_stay_term_df = org_person_df.groupby('person_id').apply(get_person_stay_term).reset_index()"
   ]
  },
  {
   "cell_type": "code",
   "execution_count": 16,
   "metadata": {},
   "outputs": [],
   "source": [
    "person_stay_term_df.columns = ['person_id', 'n_months']"
   ]
  },
  {
   "cell_type": "code",
   "execution_count": 17,
   "metadata": {},
   "outputs": [
    {
     "data": {
      "text/html": [
       "<div>\n",
       "<style scoped>\n",
       "    .dataframe tbody tr th:only-of-type {\n",
       "        vertical-align: middle;\n",
       "    }\n",
       "\n",
       "    .dataframe tbody tr th {\n",
       "        vertical-align: top;\n",
       "    }\n",
       "\n",
       "    .dataframe thead th {\n",
       "        text-align: right;\n",
       "    }\n",
       "</style>\n",
       "<table border=\"1\" class=\"dataframe\">\n",
       "  <thead>\n",
       "    <tr style=\"text-align: right;\">\n",
       "      <th></th>\n",
       "      <th>person_id</th>\n",
       "      <th>n_months</th>\n",
       "    </tr>\n",
       "  </thead>\n",
       "  <tbody>\n",
       "  </tbody>\n",
       "</table>\n",
       "</div>"
      ],
      "text/plain": [
       "Empty DataFrame\n",
       "Columns: [person_id, n_months]\n",
       "Index: []"
      ]
     },
     "execution_count": 17,
     "metadata": {},
     "output_type": "execute_result"
    }
   ],
   "source": [
    "person_stay_term_df[person_stay_term_df['n_months'] < 0]"
   ]
  },
  {
   "cell_type": "code",
   "execution_count": 18,
   "metadata": {},
   "outputs": [
    {
     "data": {
      "text/html": [
       "<div>\n",
       "<style scoped>\n",
       "    .dataframe tbody tr th:only-of-type {\n",
       "        vertical-align: middle;\n",
       "    }\n",
       "\n",
       "    .dataframe tbody tr th {\n",
       "        vertical-align: top;\n",
       "    }\n",
       "\n",
       "    .dataframe thead th {\n",
       "        text-align: right;\n",
       "    }\n",
       "</style>\n",
       "<table border=\"1\" class=\"dataframe\">\n",
       "  <thead>\n",
       "    <tr style=\"text-align: right;\">\n",
       "      <th></th>\n",
       "      <th>person_id</th>\n",
       "      <th>experience_id</th>\n",
       "      <th>org_name</th>\n",
       "      <th>org_profile_link</th>\n",
       "      <th>org_detail</th>\n",
       "      <th>experience_title</th>\n",
       "      <th>experience_location</th>\n",
       "      <th>experience_description</th>\n",
       "      <th>date_start</th>\n",
       "      <th>date_end</th>\n",
       "      <th>duration</th>\n",
       "      <th>is_current</th>\n",
       "      <th>date_start_parsed</th>\n",
       "      <th>date_end_parsed</th>\n",
       "      <th>duration_parsed</th>\n",
       "    </tr>\n",
       "  </thead>\n",
       "  <tbody>\n",
       "    <tr>\n",
       "      <td>1336</td>\n",
       "      <td>4203562_85_First_1000_0</td>\n",
       "      <td>6</td>\n",
       "      <td>CBS Radio/WODS</td>\n",
       "      <td>/company/cbs.com?trk=ppro_cprof</td>\n",
       "      <td>Public Company; 10,001+ employees; CBS;\\nEnter...</td>\n",
       "      <td>Promotions Intern</td>\n",
       "      <td>None</td>\n",
       "      <td>None</td>\n",
       "      <td>2007</td>\n",
       "      <td>2007</td>\n",
       "      <td>less than a year</td>\n",
       "      <td>False</td>\n",
       "      <td>2007-02-01</td>\n",
       "      <td>2007-01-01</td>\n",
       "      <td>12.0</td>\n",
       "    </tr>\n",
       "    <tr>\n",
       "      <td>1337</td>\n",
       "      <td>4203562_85_First_1000_0</td>\n",
       "      <td>7</td>\n",
       "      <td>CBS Radio/WZLX</td>\n",
       "      <td>/company/cbs.com?trk=ppro_cprof</td>\n",
       "      <td>Public Company; 10,001+ employees; CBS;\\nEnter...</td>\n",
       "      <td>Account Executive</td>\n",
       "      <td>None</td>\n",
       "      <td>None</td>\n",
       "      <td>May 2007</td>\n",
       "      <td>2007</td>\n",
       "      <td>less than a year</td>\n",
       "      <td>False</td>\n",
       "      <td>2007-05-01</td>\n",
       "      <td>2007-01-01</td>\n",
       "      <td>12.0</td>\n",
       "    </tr>\n",
       "  </tbody>\n",
       "</table>\n",
       "</div>"
      ],
      "text/plain": [
       "                    person_id  experience_id        org_name  \\\n",
       "1336  4203562_85_First_1000_0              6  CBS Radio/WODS   \n",
       "1337  4203562_85_First_1000_0              7  CBS Radio/WZLX   \n",
       "\n",
       "                     org_profile_link  \\\n",
       "1336  /company/cbs.com?trk=ppro_cprof   \n",
       "1337  /company/cbs.com?trk=ppro_cprof   \n",
       "\n",
       "                                             org_detail   experience_title  \\\n",
       "1336  Public Company; 10,001+ employees; CBS;\\nEnter...  Promotions Intern   \n",
       "1337  Public Company; 10,001+ employees; CBS;\\nEnter...  Account Executive   \n",
       "\n",
       "     experience_location experience_description date_start date_end  \\\n",
       "1336                None                   None       2007     2007   \n",
       "1337                None                   None   May 2007     2007   \n",
       "\n",
       "              duration  is_current date_start_parsed date_end_parsed  \\\n",
       "1336  less than a year       False        2007-02-01      2007-01-01   \n",
       "1337  less than a year       False        2007-05-01      2007-01-01   \n",
       "\n",
       "      duration_parsed  \n",
       "1336             12.0  \n",
       "1337             12.0  "
      ]
     },
     "execution_count": 18,
     "metadata": {},
     "output_type": "execute_result"
    }
   ],
   "source": [
    "org_person_df[org_person_df['person_id'] == '4203562_85_First_1000_0']"
   ]
  },
  {
   "cell_type": "code",
   "execution_count": null,
   "metadata": {},
   "outputs": [],
   "source": []
  },
  {
   "cell_type": "code",
   "execution_count": 19,
   "metadata": {},
   "outputs": [],
   "source": [
    "min_person_stay_term = person_stay_term_df['n_months'].min() \n",
    "\n",
    "if min_person_stay_term < 0:\n",
    "    raise ValueError('min of person stay term is {}, please investigate'.format(\n",
    "        min_person_stay_term))"
   ]
  },
  {
   "cell_type": "code",
   "execution_count": 20,
   "metadata": {},
   "outputs": [],
   "source": [
    "person_stay_term_df['is_current_job'] = person_stay_term_df['person_id'].apply(\n",
    "    lambda x: is_current_job(x, org_person_df))"
   ]
  },
  {
   "cell_type": "code",
   "execution_count": null,
   "metadata": {},
   "outputs": [],
   "source": [
    "set(person_stay_term_df['person_id']).symmetric_difference(set(person_ids))"
   ]
  },
  {
   "cell_type": "code",
   "execution_count": null,
   "metadata": {},
   "outputs": [],
   "source": [
    "person_stay_term_df['is_current_job'].sum()"
   ]
  },
  {
   "cell_type": "code",
   "execution_count": null,
   "metadata": {},
   "outputs": [],
   "source": [
    "person_stay_term_df['n_months'].isnull().sum()"
   ]
  },
  {
   "cell_type": "code",
   "execution_count": null,
   "metadata": {},
   "outputs": [],
   "source": [
    "org_profile_link"
   ]
  },
  {
   "cell_type": "code",
   "execution_count": null,
   "metadata": {},
   "outputs": [],
   "source": [
    "person_stay_term_df.shape"
   ]
  },
  {
   "cell_type": "code",
   "execution_count": null,
   "metadata": {},
   "outputs": [],
   "source": []
  }
 ],
 "metadata": {
  "kernelspec": {
   "display_name": "Python 3",
   "language": "python",
   "name": "python3"
  },
  "language_info": {
   "codemirror_mode": {
    "name": "ipython",
    "version": 3
   },
   "file_extension": ".py",
   "mimetype": "text/x-python",
   "name": "python",
   "nbconvert_exporter": "python",
   "pygments_lexer": "ipython3",
   "version": "3.6.8"
  }
 },
 "nbformat": 4,
 "nbformat_minor": 4
}
