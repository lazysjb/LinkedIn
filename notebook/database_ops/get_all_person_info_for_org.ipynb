{
 "cells": [
  {
   "cell_type": "markdown",
   "metadata": {},
   "source": [
    "## If person ever worked in a particular org, extract info for that person"
   ]
  },
  {
   "cell_type": "code",
   "execution_count": 1,
   "metadata": {},
   "outputs": [],
   "source": [
    "%load_ext autoreload\n",
    "%autoreload 2"
   ]
  },
  {
   "cell_type": "code",
   "execution_count": 2,
   "metadata": {},
   "outputs": [],
   "source": [
    "import sys\n",
    "sys.path.append('../../')"
   ]
  },
  {
   "cell_type": "code",
   "execution_count": 3,
   "metadata": {},
   "outputs": [],
   "source": [
    "import os\n",
    "import pandas as pd\n",
    "\n",
    "from tqdm import tqdm\n",
    "\n",
    "from utils.db_util import create_postgres_engine\n",
    "from utils.query_util import query_person_info_in_organization"
   ]
  },
  {
   "cell_type": "code",
   "execution_count": 4,
   "metadata": {},
   "outputs": [],
   "source": [
    "db_conn = create_postgres_engine()"
   ]
  },
  {
   "cell_type": "code",
   "execution_count": 5,
   "metadata": {},
   "outputs": [],
   "source": [
    "company_df = pd.read_csv('../../data/query_result/filtered_org_stat_50_word_count_cutoff.csv')"
   ]
  },
  {
   "cell_type": "code",
   "execution_count": 6,
   "metadata": {},
   "outputs": [
    {
     "data": {
      "text/plain": [
       "(1428, 4)"
      ]
     },
     "execution_count": 6,
     "metadata": {},
     "output_type": "execute_result"
    }
   ],
   "source": [
    "company_df.shape"
   ]
  },
  {
   "cell_type": "code",
   "execution_count": 7,
   "metadata": {},
   "outputs": [],
   "source": [
    "def escape_single_quote(text):\n",
    "    \"\"\"Since postgres does not like single quote in text\"\"\"\n",
    "    text = text.replace(\"'\", \"''\")\n",
    "    return text"
   ]
  },
  {
   "cell_type": "code",
   "execution_count": 8,
   "metadata": {},
   "outputs": [],
   "source": [
    "OUTPUT_FILE_DIR = '/home/sjb/Projects/Research/LinkedIn_OB/data/company_level_individual_profiles/'\n",
    "OUTPUT_FILE_NAME_FORMAT = '{short_name}_person_profile_50_word_cutoff.csv'\n",
    "\n",
    "ORG_PROFILE_SUFFIX = '\\?trk=ppro_cprof'\n",
    "ORG_PROFILE_PREFIX = '/company/'"
   ]
  },
  {
   "cell_type": "code",
   "execution_count": 9,
   "metadata": {},
   "outputs": [],
   "source": [
    "company_df['short_company_name'] = company_df['org_profile_link'].str.replace(ORG_PROFILE_PREFIX, '').str.replace(ORG_PROFILE_SUFFIX, '')"
   ]
  },
  {
   "cell_type": "code",
   "execution_count": 10,
   "metadata": {},
   "outputs": [
    {
     "name": "stderr",
     "output_type": "stream",
     "text": [
      "1428it [2:17:05,  5.76s/it]\n"
     ]
    }
   ],
   "source": [
    "for _, row in tqdm(company_df.iterrows()):\n",
    "    short_company_name = row['short_company_name']\n",
    "    count_person = row['count_person']\n",
    "    \n",
    "    org_profile_link = row['org_profile_link']\n",
    "    org_profile_link_escaped = escape_single_quote(org_profile_link)\n",
    "    \n",
    "    query_result = query_person_info_in_organization(db_conn, org_profile_link_escaped)\n",
    "    \n",
    "    # check sum\n",
    "    assert query_result.shape[0] == count_person\n",
    "    \n",
    "    # save result\n",
    "    output_file_path = os.path.join(OUTPUT_FILE_DIR,\n",
    "                                    OUTPUT_FILE_NAME_FORMAT.format(short_name=short_company_name))\n",
    "    query_result.to_csv(output_file_path, index=False)"
   ]
  },
  {
   "cell_type": "code",
   "execution_count": 11,
   "metadata": {},
   "outputs": [
    {
     "data": {
      "text/plain": [
       "(1001, 13)"
      ]
     },
     "execution_count": 11,
     "metadata": {},
     "output_type": "execute_result"
    }
   ],
   "source": [
    "query_result.shape"
   ]
  },
  {
   "cell_type": "code",
   "execution_count": null,
   "metadata": {},
   "outputs": [],
   "source": []
  },
  {
   "cell_type": "code",
   "execution_count": null,
   "metadata": {},
   "outputs": [],
   "source": [
    "# temp_path = '/home/sjb/Projects/Research/LinkedIn_OB/data/company_level_individual_profiles/us-army_person_profile_50_word_cutoff.csv'"
   ]
  }
 ],
 "metadata": {
  "kernelspec": {
   "display_name": "Python 3",
   "language": "python",
   "name": "python3"
  },
  "language_info": {
   "codemirror_mode": {
    "name": "ipython",
    "version": 3
   },
   "file_extension": ".py",
   "mimetype": "text/x-python",
   "name": "python",
   "nbconvert_exporter": "python",
   "pygments_lexer": "ipython3",
   "version": "3.6.8"
  }
 },
 "nbformat": 4,
 "nbformat_minor": 4
}
