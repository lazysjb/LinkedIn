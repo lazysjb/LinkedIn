{
 "cells": [
  {
   "cell_type": "code",
   "execution_count": 1,
   "metadata": {},
   "outputs": [],
   "source": [
    "%load_ext autoreload\n",
    "%autoreload 2"
   ]
  },
  {
   "cell_type": "code",
   "execution_count": 2,
   "metadata": {},
   "outputs": [],
   "source": [
    "import sys\n",
    "sys.path.append('../../')"
   ]
  },
  {
   "cell_type": "code",
   "execution_count": 39,
   "metadata": {},
   "outputs": [],
   "source": [
    "from datetime import datetime\n",
    "from glob import glob\n",
    "import os\n",
    "import numpy as np\n",
    "import pandas as pd\n",
    "\n",
    "from tqdm import tqdm\n",
    "\n",
    "from utils.db_util import create_postgres_engine, make_query\n"
   ]
  },
  {
   "cell_type": "code",
   "execution_count": 4,
   "metadata": {},
   "outputs": [],
   "source": [
    "INPUT_DIR = '/home/sjb/Projects/Research/LinkedIn_OB/data/company_level_individual_profiles'\n",
    "OUTPUT_DIR = '/home/sjb/Projects/Research/LinkedIn_OB/data/company_level_individual_stay_term'"
   ]
  },
  {
   "cell_type": "code",
   "execution_count": 5,
   "metadata": {},
   "outputs": [],
   "source": [
    "db_conn = create_postgres_engine()"
   ]
  },
  {
   "cell_type": "code",
   "execution_count": 6,
   "metadata": {},
   "outputs": [],
   "source": [
    "source_files = glob(os.path.join(INPUT_DIR,\n",
    "                                 '*.csv'))"
   ]
  },
  {
   "cell_type": "code",
   "execution_count": 7,
   "metadata": {},
   "outputs": [],
   "source": [
    "sample = pd.read_csv(source_files[0])"
   ]
  },
  {
   "cell_type": "code",
   "execution_count": 12,
   "metadata": {},
   "outputs": [],
   "source": [
    "org_profile_link = sample['org_profile_link'].values[0]\n",
    "person_id_tuple = tuple(sample['person_id'].tolist())"
   ]
  },
  {
   "cell_type": "code",
   "execution_count": 15,
   "metadata": {},
   "outputs": [],
   "source": [
    "q = \"\"\"\n",
    "    SELECT *\n",
    "    FROM linkedin.person_experience\n",
    "    WHERE org_profile_link = '{org_profile_link}'\n",
    "    AND person_id IN {person_ids}\n",
    "\"\"\".format(org_profile_link=org_profile_link,\n",
    "           person_ids=person_id_tuple)"
   ]
  },
  {
   "cell_type": "code",
   "execution_count": 16,
   "metadata": {},
   "outputs": [],
   "source": [
    "org_person_df = make_query(q, db_conn)"
   ]
  },
  {
   "cell_type": "code",
   "execution_count": 20,
   "metadata": {},
   "outputs": [],
   "source": [
    "assert len(set(org_person_df['person_id']).symmetric_difference(set(person_id_tuple))) == 0"
   ]
  },
  {
   "cell_type": "code",
   "execution_count": 21,
   "metadata": {},
   "outputs": [
    {
     "data": {
      "text/plain": [
       "(2712, (3956, 12))"
      ]
     },
     "execution_count": 21,
     "metadata": {},
     "output_type": "execute_result"
    }
   ],
   "source": [
    "len(person_id_tuple), org_person_df.shape"
   ]
  },
  {
   "cell_type": "code",
   "execution_count": 30,
   "metadata": {},
   "outputs": [],
   "source": [
    "MONTH_MAP = {\n",
    "    'January': 1,\n",
    "    'February': 2,\n",
    "    'March': 3,\n",
    "    'April': 4,\n",
    "    'May': 5,\n",
    "    'June': 6,\n",
    "    'July': 7,\n",
    "    'August': 8,\n",
    "    'September': 9,\n",
    "    'October': 10,\n",
    "    'November': 11,\n",
    "    'December': 12,\n",
    "}\n",
    "\n",
    "_MIN_WORK_YEAR = 1940\n",
    "_MAX_WORK_YEAR = 2014\n",
    "\n",
    "_PRESENT_Y_M = '2013-11'"
   ]
  },
  {
   "cell_type": "code",
   "execution_count": 45,
   "metadata": {},
   "outputs": [],
   "source": [
    "def _validate_month(month_string):\n",
    "    if month_string not in MONTH_MAP:\n",
    "        raise ValueError('month string {} is  not a valid month!'.format(month_string))\n",
    "\n",
    "def _validate_year(year_string):\n",
    "    if not year_string.isnumeric():\n",
    "        raise ValueError('expected year string {} to be of numbers'.format(year_string))\n",
    "    \n",
    "    year_num = int(year_string)\n",
    "    if (year_num > _MAX_WORK_YEAR) or (year_num < _MIN_WORK_YEAR):\n",
    "        raise ValueError('year is {} which is outside the allowable range'.format(year_num))\n",
    "        \n",
    "def parse_date(date_string, date_type='start_date'):\n",
    "    try:\n",
    "        if date_string == 'Present':\n",
    "            return datetime.strptime(_PRESENT_Y_M, '%Y-%m')\n",
    "\n",
    "        splits = date_string.split()\n",
    "\n",
    "        if len(splits) == 1:\n",
    "            year = splits[0]\n",
    "            # assume January start, December end if only yr provided\n",
    "            if date_type == 'start_date':\n",
    "                month_number = 1\n",
    "            elif date_type == 'end_date':\n",
    "                month_number = 12\n",
    "            else:\n",
    "                raise ValueError('invalid date_type arg {}'.format(date_type))\n",
    "        elif len(splits) == 2:\n",
    "            month, year = splits\n",
    "            _validate_month(month)\n",
    "            month_number = MONTH_MAP[month]\n",
    "        else:\n",
    "            raise ValueError('Unexpected date string format with split length {}'.format(len(splits)))\n",
    "\n",
    "        _validate_year(year)\n",
    "\n",
    "        y_m_string = '{}-{}'.format(year, month_number)\n",
    "        y_m = datetime.strptime(y_m_string, '%Y-%m')\n",
    "\n",
    "        return y_m\n",
    "    \n",
    "    except Exception:\n",
    "        return np.nan\n",
    "\n",
    "def parse_duration(duration_string):\n",
    "    splits = duration_string.split()\n",
    "    l = len(splits)\n",
    "    \n",
    "    if l not in [2, 4]:\n",
    "        raise ValueError('Unexpected duration string format of length {}'.format(l))\n",
    "        \n",
    "    num_months = 0\n",
    "    \n",
    "    for i in range(1, l, 2):\n",
    "        if splits[i] == 'years':\n",
    "            num_months += int(splits[i-1]) * 12\n",
    "        elif splits[i] in ['month', 'months']:\n",
    "            num_months += int(splits[i-1])\n",
    "        else:\n",
    "            raise ValueError('Unexpected duration string format showing {}'.format(splits[i]))\n",
    "    \n",
    "    return num_months\n",
    "    \n",
    "\n",
    "def diff_month(date_end, date_start):\n",
    "    n_months = (date_end.year - date_start.year) * 12 + date_end.month - date_start.month + 1\n",
    "    return n_months"
   ]
  },
  {
   "cell_type": "code",
   "execution_count": 46,
   "metadata": {},
   "outputs": [],
   "source": [
    "org_person_df['date_start_parsed'] = org_person_df['date_start'].apply(lambda x: parse_date(x, \n",
    "                                                                       date_type='start_date'))\n",
    "\n",
    "org_person_df['date_end_parsed'] = org_person_df['date_end'].apply(lambda x: parse_date(x, \n",
    "                                                                   date_type='end_date'))"
   ]
  },
  {
   "cell_type": "code",
   "execution_count": 51,
   "metadata": {},
   "outputs": [
    {
     "data": {
      "text/html": [
       "<div>\n",
       "<style scoped>\n",
       "    .dataframe tbody tr th:only-of-type {\n",
       "        vertical-align: middle;\n",
       "    }\n",
       "\n",
       "    .dataframe tbody tr th {\n",
       "        vertical-align: top;\n",
       "    }\n",
       "\n",
       "    .dataframe thead th {\n",
       "        text-align: right;\n",
       "    }\n",
       "</style>\n",
       "<table border=\"1\" class=\"dataframe\">\n",
       "  <thead>\n",
       "    <tr style=\"text-align: right;\">\n",
       "      <th></th>\n",
       "      <th>person_id</th>\n",
       "      <th>experience_id</th>\n",
       "      <th>org_name</th>\n",
       "      <th>org_profile_link</th>\n",
       "      <th>org_detail</th>\n",
       "      <th>experience_title</th>\n",
       "      <th>experience_location</th>\n",
       "      <th>experience_description</th>\n",
       "      <th>date_start</th>\n",
       "      <th>date_end</th>\n",
       "      <th>duration</th>\n",
       "      <th>is_current</th>\n",
       "      <th>date_start_parsed</th>\n",
       "      <th>date_end_parsed</th>\n",
       "    </tr>\n",
       "  </thead>\n",
       "  <tbody>\n",
       "    <tr>\n",
       "      <td>0</td>\n",
       "      <td>101298151_2026_2000</td>\n",
       "      <td>0</td>\n",
       "      <td>Iowa State University</td>\n",
       "      <td>/company/iowa-state-university?trk=ppro_cprof</td>\n",
       "      <td>Educational Institution; 5001-10,000 employees...</td>\n",
       "      <td>Graduate Research Assistant</td>\n",
       "      <td>None</td>\n",
       "      <td>Department of Kinesiology, ISU\\n• Anti-viral a...</td>\n",
       "      <td>August 2008</td>\n",
       "      <td>August 2013</td>\n",
       "      <td>5 years 1 month</td>\n",
       "      <td>False</td>\n",
       "      <td>2008-08-01</td>\n",
       "      <td>2013-08-01</td>\n",
       "    </tr>\n",
       "    <tr>\n",
       "      <td>1</td>\n",
       "      <td>101298151_2026_2000</td>\n",
       "      <td>1</td>\n",
       "      <td>Iowa State University</td>\n",
       "      <td>/company/iowa-state-university?trk=ppro_cprof</td>\n",
       "      <td>Educational Institution; 5001-10,000 employees...</td>\n",
       "      <td>PhD Candidate</td>\n",
       "      <td>Ames, Iowa</td>\n",
       "      <td>Worked under the supervision of Dr. Marian Koh...</td>\n",
       "      <td>August 2008</td>\n",
       "      <td>August 2013</td>\n",
       "      <td>5 years 1 month</td>\n",
       "      <td>False</td>\n",
       "      <td>2008-08-01</td>\n",
       "      <td>2013-08-01</td>\n",
       "    </tr>\n",
       "    <tr>\n",
       "      <td>2</td>\n",
       "      <td>101299072_2026_2000</td>\n",
       "      <td>0</td>\n",
       "      <td>Iowa State University, School of Education</td>\n",
       "      <td>/company/iowa-state-university?trk=ppro_cprof</td>\n",
       "      <td>Educational Institution; 5001-10,000 employees...</td>\n",
       "      <td>Graphic Designer</td>\n",
       "      <td>None</td>\n",
       "      <td>• Design webpage templates and layouts for fac...</td>\n",
       "      <td>September 2010</td>\n",
       "      <td>Present</td>\n",
       "      <td>3 years 3 months</td>\n",
       "      <td>True</td>\n",
       "      <td>2010-09-01</td>\n",
       "      <td>2013-11-01</td>\n",
       "    </tr>\n",
       "    <tr>\n",
       "      <td>3</td>\n",
       "      <td>101299072_2026_2000</td>\n",
       "      <td>1</td>\n",
       "      <td>Iowa State University, Office of Community Col...</td>\n",
       "      <td>/company/iowa-state-university?trk=ppro_cprof</td>\n",
       "      <td>Educational Institution; 5001-10,000 employees...</td>\n",
       "      <td>Undergraduate Research Associate / Graphic Des...</td>\n",
       "      <td>None</td>\n",
       "      <td>• Designed webpage templates and layouts for f...</td>\n",
       "      <td>September 2008</td>\n",
       "      <td>August 2010</td>\n",
       "      <td>2 years</td>\n",
       "      <td>False</td>\n",
       "      <td>2008-09-01</td>\n",
       "      <td>2010-08-01</td>\n",
       "    </tr>\n",
       "    <tr>\n",
       "      <td>4</td>\n",
       "      <td>101308659_2027_2000</td>\n",
       "      <td>3</td>\n",
       "      <td>Iowa State University</td>\n",
       "      <td>/company/iowa-state-university?trk=ppro_cprof</td>\n",
       "      <td>Educational Institution; 5001-10,000 employees...</td>\n",
       "      <td>Assistant Professor</td>\n",
       "      <td>None</td>\n",
       "      <td>None</td>\n",
       "      <td>August 1988</td>\n",
       "      <td>May 1999</td>\n",
       "      <td>10 years 10 months</td>\n",
       "      <td>False</td>\n",
       "      <td>1988-08-01</td>\n",
       "      <td>1999-05-01</td>\n",
       "    </tr>\n",
       "  </tbody>\n",
       "</table>\n",
       "</div>"
      ],
      "text/plain": [
       "             person_id  experience_id  \\\n",
       "0  101298151_2026_2000              0   \n",
       "1  101298151_2026_2000              1   \n",
       "2  101299072_2026_2000              0   \n",
       "3  101299072_2026_2000              1   \n",
       "4  101308659_2027_2000              3   \n",
       "\n",
       "                                            org_name  \\\n",
       "0                              Iowa State University   \n",
       "1                              Iowa State University   \n",
       "2         Iowa State University, School of Education   \n",
       "3  Iowa State University, Office of Community Col...   \n",
       "4                              Iowa State University   \n",
       "\n",
       "                                org_profile_link  \\\n",
       "0  /company/iowa-state-university?trk=ppro_cprof   \n",
       "1  /company/iowa-state-university?trk=ppro_cprof   \n",
       "2  /company/iowa-state-university?trk=ppro_cprof   \n",
       "3  /company/iowa-state-university?trk=ppro_cprof   \n",
       "4  /company/iowa-state-university?trk=ppro_cprof   \n",
       "\n",
       "                                          org_detail  \\\n",
       "0  Educational Institution; 5001-10,000 employees...   \n",
       "1  Educational Institution; 5001-10,000 employees...   \n",
       "2  Educational Institution; 5001-10,000 employees...   \n",
       "3  Educational Institution; 5001-10,000 employees...   \n",
       "4  Educational Institution; 5001-10,000 employees...   \n",
       "\n",
       "                                    experience_title experience_location  \\\n",
       "0                        Graduate Research Assistant                None   \n",
       "1                                      PhD Candidate          Ames, Iowa   \n",
       "2                                   Graphic Designer                None   \n",
       "3  Undergraduate Research Associate / Graphic Des...                None   \n",
       "4                                Assistant Professor                None   \n",
       "\n",
       "                              experience_description      date_start  \\\n",
       "0  Department of Kinesiology, ISU\\n• Anti-viral a...     August 2008   \n",
       "1  Worked under the supervision of Dr. Marian Koh...     August 2008   \n",
       "2  • Design webpage templates and layouts for fac...  September 2010   \n",
       "3  • Designed webpage templates and layouts for f...  September 2008   \n",
       "4                                               None     August 1988   \n",
       "\n",
       "      date_end            duration  is_current date_start_parsed  \\\n",
       "0  August 2013     5 years 1 month       False        2008-08-01   \n",
       "1  August 2013     5 years 1 month       False        2008-08-01   \n",
       "2      Present    3 years 3 months        True        2010-09-01   \n",
       "3  August 2010             2 years       False        2008-09-01   \n",
       "4     May 1999  10 years 10 months       False        1988-08-01   \n",
       "\n",
       "  date_end_parsed  \n",
       "0      2013-08-01  \n",
       "1      2013-08-01  \n",
       "2      2013-11-01  \n",
       "3      2010-08-01  \n",
       "4      1999-05-01  "
      ]
     },
     "execution_count": 51,
     "metadata": {},
     "output_type": "execute_result"
    }
   ],
   "source": [
    "org_person_df.head()"
   ]
  },
  {
   "cell_type": "code",
   "execution_count": null,
   "metadata": {},
   "outputs": [],
   "source": []
  },
  {
   "cell_type": "code",
   "execution_count": null,
   "metadata": {},
   "outputs": [],
   "source": [
    "a = temp[temp['person_id'] == '62398797_1248_1000_1500'].copy()"
   ]
  },
  {
   "cell_type": "code",
   "execution_count": null,
   "metadata": {},
   "outputs": [],
   "source": [
    "a = a[['date_start', 'date_end', 'duration']].copy()"
   ]
  },
  {
   "cell_type": "code",
   "execution_count": null,
   "metadata": {},
   "outputs": [],
   "source": [
    "a['duration_parsed'] = a['duration'].apply(parse_duration)"
   ]
  },
  {
   "cell_type": "code",
   "execution_count": null,
   "metadata": {},
   "outputs": [],
   "source": [
    "a['date_start_parsed'] = a['date_start'].apply(lambda x: parse_date(x, \n",
    "                                                                    date_type='start_date'))\n",
    "\n",
    "a['date_end_parsed'] = a['date_end'].apply(lambda x: parse_date(x, \n",
    "                                                                date_type='end_date'))"
   ]
  },
  {
   "cell_type": "code",
   "execution_count": null,
   "metadata": {},
   "outputs": [],
   "source": [
    "a['calc_duration'] = a.apply(lambda r: diff_month(r['date_end_parsed'],\n",
    "                                                  r['date_start_parsed']), axis=1)"
   ]
  },
  {
   "cell_type": "code",
   "execution_count": null,
   "metadata": {},
   "outputs": [],
   "source": [
    "a"
   ]
  },
  {
   "cell_type": "code",
   "execution_count": null,
   "metadata": {},
   "outputs": [],
   "source": [
    "temp['person_id'].value_counts()"
   ]
  },
  {
   "cell_type": "code",
   "execution_count": null,
   "metadata": {},
   "outputs": [],
   "source": [
    "sample.shape"
   ]
  },
  {
   "cell_type": "code",
   "execution_count": 43,
   "metadata": {},
   "outputs": [
    {
     "data": {
      "text/html": [
       "<div>\n",
       "<style scoped>\n",
       "    .dataframe tbody tr th:only-of-type {\n",
       "        vertical-align: middle;\n",
       "    }\n",
       "\n",
       "    .dataframe tbody tr th {\n",
       "        vertical-align: top;\n",
       "    }\n",
       "\n",
       "    .dataframe thead th {\n",
       "        text-align: right;\n",
       "    }\n",
       "</style>\n",
       "<table border=\"1\" class=\"dataframe\">\n",
       "  <thead>\n",
       "    <tr style=\"text-align: right;\">\n",
       "      <th></th>\n",
       "      <th>org_profile_link</th>\n",
       "      <th>person_id</th>\n",
       "      <th>parent_folder</th>\n",
       "      <th>batch_folder</th>\n",
       "      <th>given_name</th>\n",
       "      <th>family_name</th>\n",
       "      <th>header_title</th>\n",
       "      <th>header_location</th>\n",
       "      <th>header_industry</th>\n",
       "      <th>country</th>\n",
       "      <th>person_summary</th>\n",
       "      <th>word_length</th>\n",
       "      <th>char_length</th>\n",
       "    </tr>\n",
       "  </thead>\n",
       "  <tbody>\n",
       "    <tr>\n",
       "      <td>37</td>\n",
       "      <td>/company/iowa-state-university?trk=ppro_cprof</td>\n",
       "      <td>101915422_2039_2000</td>\n",
       "      <td>2039</td>\n",
       "      <td>2000</td>\n",
       "      <td>Andrei</td>\n",
       "      <td>Migunov</td>\n",
       "      <td>Research Assistant at the Laboratory for Algor...</td>\n",
       "      <td>Ames, Iowa</td>\n",
       "      <td>Computer Software</td>\n",
       "      <td>US</td>\n",
       "      <td>I am currently an undergraduate at Iowa State ...</td>\n",
       "      <td>156</td>\n",
       "      <td>735</td>\n",
       "    </tr>\n",
       "  </tbody>\n",
       "</table>\n",
       "</div>"
      ],
      "text/plain": [
       "                                 org_profile_link            person_id  \\\n",
       "37  /company/iowa-state-university?trk=ppro_cprof  101915422_2039_2000   \n",
       "\n",
       "    parent_folder batch_folder given_name family_name  \\\n",
       "37           2039         2000     Andrei     Migunov   \n",
       "\n",
       "                                         header_title header_location  \\\n",
       "37  Research Assistant at the Laboratory for Algor...      Ames, Iowa   \n",
       "\n",
       "      header_industry country  \\\n",
       "37  Computer Software      US   \n",
       "\n",
       "                                       person_summary  word_length  \\\n",
       "37  I am currently an undergraduate at Iowa State ...          156   \n",
       "\n",
       "    char_length  \n",
       "37          735  "
      ]
     },
     "execution_count": 43,
     "metadata": {},
     "output_type": "execute_result"
    }
   ],
   "source": [
    "sample.loc[sample['person_id'] == '101915422_2039_2000']"
   ]
  },
  {
   "cell_type": "code",
   "execution_count": null,
   "metadata": {},
   "outputs": [],
   "source": [
    "sample.loc[sample['person_id'] == '62398797_1248_1000_1500', 'person_summary'].values[0]"
   ]
  },
  {
   "cell_type": "code",
   "execution_count": null,
   "metadata": {},
   "outputs": [],
   "source": []
  }
 ],
 "metadata": {
  "kernelspec": {
   "display_name": "Python 3",
   "language": "python",
   "name": "python3"
  },
  "language_info": {
   "codemirror_mode": {
    "name": "ipython",
    "version": 3
   },
   "file_extension": ".py",
   "mimetype": "text/x-python",
   "name": "python",
   "nbconvert_exporter": "python",
   "pygments_lexer": "ipython3",
   "version": "3.6.8"
  }
 },
 "nbformat": 4,
 "nbformat_minor": 4
}
