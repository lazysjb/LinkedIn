{
 "cells": [
  {
   "cell_type": "code",
   "execution_count": 1,
   "metadata": {},
   "outputs": [],
   "source": [
    "import os\n",
    "from glob import glob\n",
    "\n",
    "import pandas as pd\n",
    "import matplotlib.pyplot as plt\n",
    "%matplotlib inline"
   ]
  },
  {
   "cell_type": "code",
   "execution_count": 2,
   "metadata": {},
   "outputs": [],
   "source": [
    "ROOT_DIR = '/home/sjb/Projects/Research/LinkedIn_OB/data/company_level_individual_stay_term'"
   ]
  },
  {
   "cell_type": "code",
   "execution_count": 3,
   "metadata": {},
   "outputs": [],
   "source": [
    "file_paths = glob(os.path.join(ROOT_DIR, '*.csv'))"
   ]
  },
  {
   "cell_type": "code",
   "execution_count": 4,
   "metadata": {},
   "outputs": [],
   "source": [
    "def get_short_org_name(file_path):\n",
    "    basename = os.path.basename(file_path)\n",
    "    short_name = basename.replace('_person_stay_term.csv', '')\n",
    "    return short_name"
   ]
  },
  {
   "cell_type": "code",
   "execution_count": 5,
   "metadata": {},
   "outputs": [],
   "source": [
    "stat_results = []\n",
    "\n",
    "for fp in file_paths:\n",
    "    temp = pd.read_csv(fp)\n",
    "    short_name = get_short_org_name(fp)\n",
    "    n_data = temp.shape[0]\n",
    "    n_valid_data = temp.dropna(subset=['n_months']).shape[0]\n",
    "    n_current_job = temp['is_current_job'].sum()\n",
    "    n_other_nulls = temp['n_months'].isnull().sum() - n_current_job\n",
    "    \n",
    "    stat_results.append({\n",
    "        'file_path': fp,\n",
    "        'company_name': short_name,\n",
    "        'n_data': n_data,\n",
    "        'n_valid_data': n_valid_data,\n",
    "        'n_current_job': n_current_job,\n",
    "        'n_other_nulls': n_other_nulls,\n",
    "        'mean_stay_term': temp['n_months'].mean(),\n",
    "        'median_stay_term': temp['n_months'].median(),\n",
    "    })"
   ]
  },
  {
   "cell_type": "code",
   "execution_count": 6,
   "metadata": {},
   "outputs": [],
   "source": [
    "stat_df = pd.DataFrame(stat_results)"
   ]
  },
  {
   "cell_type": "code",
   "execution_count": 7,
   "metadata": {},
   "outputs": [
    {
     "data": {
      "text/html": [
       "<div>\n",
       "<style scoped>\n",
       "    .dataframe tbody tr th:only-of-type {\n",
       "        vertical-align: middle;\n",
       "    }\n",
       "\n",
       "    .dataframe tbody tr th {\n",
       "        vertical-align: top;\n",
       "    }\n",
       "\n",
       "    .dataframe thead th {\n",
       "        text-align: right;\n",
       "    }\n",
       "</style>\n",
       "<table border=\"1\" class=\"dataframe\">\n",
       "  <thead>\n",
       "    <tr style=\"text-align: right;\">\n",
       "      <th></th>\n",
       "      <th>file_path</th>\n",
       "      <th>company_name</th>\n",
       "      <th>n_data</th>\n",
       "      <th>n_valid_data</th>\n",
       "      <th>n_current_job</th>\n",
       "      <th>n_other_nulls</th>\n",
       "      <th>mean_stay_term</th>\n",
       "      <th>median_stay_term</th>\n",
       "    </tr>\n",
       "  </thead>\n",
       "  <tbody>\n",
       "    <tr>\n",
       "      <td>0</td>\n",
       "      <td>/home/sjb/Projects/Research/LinkedIn_OB/data/c...</td>\n",
       "      <td>cdmsmith</td>\n",
       "      <td>1065</td>\n",
       "      <td>749</td>\n",
       "      <td>313</td>\n",
       "      <td>3</td>\n",
       "      <td>52.453939</td>\n",
       "      <td>36.0</td>\n",
       "    </tr>\n",
       "    <tr>\n",
       "      <td>1</td>\n",
       "      <td>/home/sjb/Projects/Research/LinkedIn_OB/data/c...</td>\n",
       "      <td>jabil</td>\n",
       "      <td>1271</td>\n",
       "      <td>885</td>\n",
       "      <td>380</td>\n",
       "      <td>6</td>\n",
       "      <td>43.423729</td>\n",
       "      <td>25.0</td>\n",
       "    </tr>\n",
       "    <tr>\n",
       "      <td>2</td>\n",
       "      <td>/home/sjb/Projects/Research/LinkedIn_OB/data/c...</td>\n",
       "      <td>send-out-cards</td>\n",
       "      <td>1162</td>\n",
       "      <td>246</td>\n",
       "      <td>903</td>\n",
       "      <td>13</td>\n",
       "      <td>32.121951</td>\n",
       "      <td>26.5</td>\n",
       "    </tr>\n",
       "    <tr>\n",
       "      <td>3</td>\n",
       "      <td>/home/sjb/Projects/Research/LinkedIn_OB/data/c...</td>\n",
       "      <td>texas-tech-university</td>\n",
       "      <td>2092</td>\n",
       "      <td>1472</td>\n",
       "      <td>595</td>\n",
       "      <td>25</td>\n",
       "      <td>30.610734</td>\n",
       "      <td>24.0</td>\n",
       "    </tr>\n",
       "    <tr>\n",
       "      <td>4</td>\n",
       "      <td>/home/sjb/Projects/Research/LinkedIn_OB/data/c...</td>\n",
       "      <td>sikorsky-aircraft</td>\n",
       "      <td>1390</td>\n",
       "      <td>988</td>\n",
       "      <td>396</td>\n",
       "      <td>6</td>\n",
       "      <td>59.702429</td>\n",
       "      <td>32.0</td>\n",
       "    </tr>\n",
       "  </tbody>\n",
       "</table>\n",
       "</div>"
      ],
      "text/plain": [
       "                                           file_path           company_name  \\\n",
       "0  /home/sjb/Projects/Research/LinkedIn_OB/data/c...               cdmsmith   \n",
       "1  /home/sjb/Projects/Research/LinkedIn_OB/data/c...                  jabil   \n",
       "2  /home/sjb/Projects/Research/LinkedIn_OB/data/c...         send-out-cards   \n",
       "3  /home/sjb/Projects/Research/LinkedIn_OB/data/c...  texas-tech-university   \n",
       "4  /home/sjb/Projects/Research/LinkedIn_OB/data/c...      sikorsky-aircraft   \n",
       "\n",
       "   n_data  n_valid_data  n_current_job  n_other_nulls  mean_stay_term  \\\n",
       "0    1065           749            313              3       52.453939   \n",
       "1    1271           885            380              6       43.423729   \n",
       "2    1162           246            903             13       32.121951   \n",
       "3    2092          1472            595             25       30.610734   \n",
       "4    1390           988            396              6       59.702429   \n",
       "\n",
       "   median_stay_term  \n",
       "0              36.0  \n",
       "1              25.0  \n",
       "2              26.5  \n",
       "3              24.0  \n",
       "4              32.0  "
      ]
     },
     "execution_count": 7,
     "metadata": {},
     "output_type": "execute_result"
    }
   ],
   "source": [
    "stat_df.head()"
   ]
  },
  {
   "cell_type": "code",
   "execution_count": 20,
   "metadata": {},
   "outputs": [
    {
     "data": {
      "text/plain": [
       "Text(0.5, 1.0, 'Distribution of Median Stay (Months)')"
      ]
     },
     "execution_count": 20,
     "metadata": {},
     "output_type": "execute_result"
    },
    {
     "data": {
      "image/png": "[encoded data removed]",
      "text/plain": [
       "<Figure size 432x288 with 1 Axes>"
      ]
     },
     "metadata": {
      "needs_background": "light"
     },
     "output_type": "display_data"
    }
   ],
   "source": [
    "stat_df['median_stay_term'].hist(bins=100)\n",
    "plt.title('Distribution of Median Stay (Months)')"
   ]
  },
  {
   "cell_type": "code",
   "execution_count": 10,
   "metadata": {},
   "outputs": [
    {
     "data": {
      "text/html": [
       "<div>\n",
       "<style scoped>\n",
       "    .dataframe tbody tr th:only-of-type {\n",
       "        vertical-align: middle;\n",
       "    }\n",
       "\n",
       "    .dataframe tbody tr th {\n",
       "        vertical-align: top;\n",
       "    }\n",
       "\n",
       "    .dataframe thead th {\n",
       "        text-align: right;\n",
       "    }\n",
       "</style>\n",
       "<table border=\"1\" class=\"dataframe\">\n",
       "  <thead>\n",
       "    <tr style=\"text-align: right;\">\n",
       "      <th></th>\n",
       "      <th>file_path</th>\n",
       "      <th>company_name</th>\n",
       "      <th>n_data</th>\n",
       "      <th>n_valid_data</th>\n",
       "      <th>n_current_job</th>\n",
       "      <th>n_other_nulls</th>\n",
       "      <th>mean_stay_term</th>\n",
       "      <th>median_stay_term</th>\n",
       "    </tr>\n",
       "  </thead>\n",
       "  <tbody>\n",
       "    <tr>\n",
       "      <td>16</td>\n",
       "      <td>/home/sjb/Projects/Research/LinkedIn_OB/data/c...</td>\n",
       "      <td>astrazeneca</td>\n",
       "      <td>4278</td>\n",
       "      <td>3289</td>\n",
       "      <td>980</td>\n",
       "      <td>9</td>\n",
       "      <td>68.189723</td>\n",
       "      <td>49.0</td>\n",
       "    </tr>\n",
       "    <tr>\n",
       "      <td>30</td>\n",
       "      <td>/home/sjb/Projects/Research/LinkedIn_OB/data/c...</td>\n",
       "      <td>alcoa</td>\n",
       "      <td>2135</td>\n",
       "      <td>1744</td>\n",
       "      <td>384</td>\n",
       "      <td>7</td>\n",
       "      <td>74.438647</td>\n",
       "      <td>48.0</td>\n",
       "    </tr>\n",
       "    <tr>\n",
       "      <td>69</td>\n",
       "      <td>/home/sjb/Projects/Research/LinkedIn_OB/data/c...</td>\n",
       "      <td>ibm</td>\n",
       "      <td>54169</td>\n",
       "      <td>41521</td>\n",
       "      <td>12412</td>\n",
       "      <td>236</td>\n",
       "      <td>77.475542</td>\n",
       "      <td>48.0</td>\n",
       "    </tr>\n",
       "    <tr>\n",
       "      <td>87</td>\n",
       "      <td>/home/sjb/Projects/Research/LinkedIn_OB/data/c...</td>\n",
       "      <td>sanofi-</td>\n",
       "      <td>5469</td>\n",
       "      <td>4513</td>\n",
       "      <td>933</td>\n",
       "      <td>23</td>\n",
       "      <td>72.789719</td>\n",
       "      <td>57.0</td>\n",
       "    </tr>\n",
       "    <tr>\n",
       "      <td>90</td>\n",
       "      <td>/home/sjb/Projects/Research/LinkedIn_OB/data/c...</td>\n",
       "      <td>lasalle-bank</td>\n",
       "      <td>1059</td>\n",
       "      <td>1051</td>\n",
       "      <td>8</td>\n",
       "      <td>0</td>\n",
       "      <td>74.808754</td>\n",
       "      <td>52.0</td>\n",
       "    </tr>\n",
       "    <tr>\n",
       "      <td>...</td>\n",
       "      <td>...</td>\n",
       "      <td>...</td>\n",
       "      <td>...</td>\n",
       "      <td>...</td>\n",
       "      <td>...</td>\n",
       "      <td>...</td>\n",
       "      <td>...</td>\n",
       "      <td>...</td>\n",
       "    </tr>\n",
       "    <tr>\n",
       "      <td>1387</td>\n",
       "      <td>/home/sjb/Projects/Research/LinkedIn_OB/data/c...</td>\n",
       "      <td>tektronix</td>\n",
       "      <td>1551</td>\n",
       "      <td>1346</td>\n",
       "      <td>199</td>\n",
       "      <td>6</td>\n",
       "      <td>82.543091</td>\n",
       "      <td>57.5</td>\n",
       "    </tr>\n",
       "    <tr>\n",
       "      <td>1388</td>\n",
       "      <td>/home/sjb/Projects/Research/LinkedIn_OB/data/c...</td>\n",
       "      <td>united-airlines</td>\n",
       "      <td>3913</td>\n",
       "      <td>2872</td>\n",
       "      <td>1029</td>\n",
       "      <td>12</td>\n",
       "      <td>82.342618</td>\n",
       "      <td>50.0</td>\n",
       "    </tr>\n",
       "    <tr>\n",
       "      <td>1392</td>\n",
       "      <td>/home/sjb/Projects/Research/LinkedIn_OB/data/c...</td>\n",
       "      <td>unisys</td>\n",
       "      <td>7303</td>\n",
       "      <td>6658</td>\n",
       "      <td>633</td>\n",
       "      <td>12</td>\n",
       "      <td>77.808801</td>\n",
       "      <td>48.0</td>\n",
       "    </tr>\n",
       "    <tr>\n",
       "      <td>1400</td>\n",
       "      <td>/home/sjb/Projects/Research/LinkedIn_OB/data/c...</td>\n",
       "      <td>ford-motor-credit-company</td>\n",
       "      <td>1218</td>\n",
       "      <td>1111</td>\n",
       "      <td>106</td>\n",
       "      <td>1</td>\n",
       "      <td>86.181818</td>\n",
       "      <td>62.0</td>\n",
       "    </tr>\n",
       "    <tr>\n",
       "      <td>1403</td>\n",
       "      <td>/home/sjb/Projects/Research/LinkedIn_OB/data/c...</td>\n",
       "      <td>delta-air-lines</td>\n",
       "      <td>3656</td>\n",
       "      <td>2639</td>\n",
       "      <td>994</td>\n",
       "      <td>23</td>\n",
       "      <td>96.783630</td>\n",
       "      <td>60.0</td>\n",
       "    </tr>\n",
       "  </tbody>\n",
       "</table>\n",
       "<p>118 rows × 8 columns</p>\n",
       "</div>"
      ],
      "text/plain": [
       "                                              file_path  \\\n",
       "16    /home/sjb/Projects/Research/LinkedIn_OB/data/c...   \n",
       "30    /home/sjb/Projects/Research/LinkedIn_OB/data/c...   \n",
       "69    /home/sjb/Projects/Research/LinkedIn_OB/data/c...   \n",
       "87    /home/sjb/Projects/Research/LinkedIn_OB/data/c...   \n",
       "90    /home/sjb/Projects/Research/LinkedIn_OB/data/c...   \n",
       "...                                                 ...   \n",
       "1387  /home/sjb/Projects/Research/LinkedIn_OB/data/c...   \n",
       "1388  /home/sjb/Projects/Research/LinkedIn_OB/data/c...   \n",
       "1392  /home/sjb/Projects/Research/LinkedIn_OB/data/c...   \n",
       "1400  /home/sjb/Projects/Research/LinkedIn_OB/data/c...   \n",
       "1403  /home/sjb/Projects/Research/LinkedIn_OB/data/c...   \n",
       "\n",
       "                   company_name  n_data  n_valid_data  n_current_job  \\\n",
       "16                  astrazeneca    4278          3289            980   \n",
       "30                        alcoa    2135          1744            384   \n",
       "69                          ibm   54169         41521          12412   \n",
       "87                      sanofi-    5469          4513            933   \n",
       "90                 lasalle-bank    1059          1051              8   \n",
       "...                         ...     ...           ...            ...   \n",
       "1387                  tektronix    1551          1346            199   \n",
       "1388            united-airlines    3913          2872           1029   \n",
       "1392                     unisys    7303          6658            633   \n",
       "1400  ford-motor-credit-company    1218          1111            106   \n",
       "1403            delta-air-lines    3656          2639            994   \n",
       "\n",
       "      n_other_nulls  mean_stay_term  median_stay_term  \n",
       "16                9       68.189723              49.0  \n",
       "30                7       74.438647              48.0  \n",
       "69              236       77.475542              48.0  \n",
       "87               23       72.789719              57.0  \n",
       "90                0       74.808754              52.0  \n",
       "...             ...             ...               ...  \n",
       "1387              6       82.543091              57.5  \n",
       "1388             12       82.342618              50.0  \n",
       "1392             12       77.808801              48.0  \n",
       "1400              1       86.181818              62.0  \n",
       "1403             23       96.783630              60.0  \n",
       "\n",
       "[118 rows x 8 columns]"
      ]
     },
     "execution_count": 10,
     "metadata": {},
     "output_type": "execute_result"
    }
   ],
   "source": [
    "stat_df[stat_df['median_stay_term']> 45]"
   ]
  },
  {
   "cell_type": "code",
   "execution_count": 13,
   "metadata": {},
   "outputs": [],
   "source": [
    "stat_df.to_csv('/home/sjb/Projects/Research/LinkedIn_OB/data/company_level_individual_stay_term_stat.csv', index=False)"
   ]
  },
  {
   "cell_type": "code",
   "execution_count": 15,
   "metadata": {},
   "outputs": [],
   "source": [
    "stat_df['present_proportion'] = stat_df['n_current_job'] / stat_df['n_data']"
   ]
  },
  {
   "cell_type": "code",
   "execution_count": 17,
   "metadata": {},
   "outputs": [
    {
     "data": {
      "text/plain": [
       "<matplotlib.axes._subplots.AxesSubplot at 0x7f8c0c7f0ac8>"
      ]
     },
     "execution_count": 17,
     "metadata": {},
     "output_type": "execute_result"
    },
    {
     "data": {
      "image/png": "[encoded data removed]",
      "text/plain": [
       "<Figure size 432x288 with 1 Axes>"
      ]
     },
     "metadata": {
      "needs_background": "light"
     },
     "output_type": "display_data"
    }
   ],
   "source": [
    "stat_df.plot(x='present_proportion', y='median_stay_term', kind='scatter')"
   ]
  },
  {
   "cell_type": "code",
   "execution_count": null,
   "metadata": {},
   "outputs": [],
   "source": []
  },
  {
   "cell_type": "code",
   "execution_count": 11,
   "metadata": {},
   "outputs": [],
   "source": [
    "missing_stat = stat_df[['n_data', 'n_valid_data', 'n_current_job']].sum()"
   ]
  },
  {
   "cell_type": "code",
   "execution_count": 12,
   "metadata": {},
   "outputs": [
    {
     "data": {
      "text/plain": [
       "n_data           1.000000\n",
       "n_valid_data     0.743887\n",
       "n_current_job    0.251536\n",
       "dtype: float64"
      ]
     },
     "execution_count": 12,
     "metadata": {},
     "output_type": "execute_result"
    }
   ],
   "source": [
    "missing_stat / missing_stat['n_data']"
   ]
  },
  {
   "cell_type": "code",
   "execution_count": 23,
   "metadata": {},
   "outputs": [
    {
     "data": {
      "text/plain": [
       "0.25611300000000004"
      ]
     },
     "execution_count": 23,
     "metadata": {},
     "output_type": "execute_result"
    }
   ],
   "source": [
    "1 - (0.743887)"
   ]
  },
  {
   "cell_type": "code",
   "execution_count": null,
   "metadata": {},
   "outputs": [],
   "source": []
  }
 ],
 "metadata": {
  "kernelspec": {
   "display_name": "Python 3",
   "language": "python",
   "name": "python3"
  },
  "language_info": {
   "codemirror_mode": {
    "name": "ipython",
    "version": 3
   },
   "file_extension": ".py",
   "mimetype": "text/x-python",
   "name": "python",
   "nbconvert_exporter": "python",
   "pygments_lexer": "ipython3",
   "version": "3.6.8"
  }
 },
 "nbformat": 4,
 "nbformat_minor": 4
}
