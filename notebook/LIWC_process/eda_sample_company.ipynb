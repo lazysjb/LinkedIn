{
 "cells": [
  {
   "cell_type": "markdown",
   "metadata": {},
   "source": [
    "### Since file is too large, I am doing eda for one sample company"
   ]
  },
  {
   "cell_type": "code",
   "execution_count": 2,
   "metadata": {},
   "outputs": [],
   "source": [
    "import re\n",
    "\n",
    "import pandas as pd"
   ]
  },
  {
   "cell_type": "code",
   "execution_count": 3,
   "metadata": {},
   "outputs": [],
   "source": [
    "target_file = '/home/sjb/Projects/Research/LinkedIn_OB/data/company_level_individual_stay_term/ibm_person_stay_term.csv'"
   ]
  },
  {
   "cell_type": "code",
   "execution_count": null,
   "metadata": {},
   "outputs": [],
   "source": []
  },
  {
   "cell_type": "code",
   "execution_count": 4,
   "metadata": {},
   "outputs": [],
   "source": [
    "liwc_df = pd.read_pickle('./ibm_liwc_sample.pkl')\n",
    "target_df = pd.read_csv(target_file)"
   ]
  },
  {
   "cell_type": "code",
   "execution_count": 5,
   "metadata": {},
   "outputs": [
    {
     "data": {
      "text/plain": [
       "((54169, 193), (54169, 3))"
      ]
     },
     "execution_count": 5,
     "metadata": {},
     "output_type": "execute_result"
    }
   ],
   "source": [
    "liwc_df.shape, target_df.shape"
   ]
  },
  {
   "cell_type": "markdown",
   "metadata": {},
   "source": [
    "## 1. Sanity Check - person ids in liwc file and target file match"
   ]
  },
  {
   "cell_type": "code",
   "execution_count": 6,
   "metadata": {},
   "outputs": [
    {
     "data": {
      "text/html": [
       "<div>\n",
       "<style scoped>\n",
       "    .dataframe tbody tr th:only-of-type {\n",
       "        vertical-align: middle;\n",
       "    }\n",
       "\n",
       "    .dataframe tbody tr th {\n",
       "        vertical-align: top;\n",
       "    }\n",
       "\n",
       "    .dataframe thead th {\n",
       "        text-align: right;\n",
       "    }\n",
       "</style>\n",
       "<table border=\"1\" class=\"dataframe\">\n",
       "  <thead>\n",
       "    <tr style=\"text-align: right;\">\n",
       "      <th></th>\n",
       "      <th>Unnamed: 0</th>\n",
       "      <th>company</th>\n",
       "      <th>Filename.x</th>\n",
       "      <th>Segment.x</th>\n",
       "      <th>WC.x</th>\n",
       "      <th>Analytic.x</th>\n",
       "      <th>Clout.x</th>\n",
       "      <th>Authentic.x</th>\n",
       "      <th>Tone.x</th>\n",
       "      <th>WPS.x</th>\n",
       "      <th>...</th>\n",
       "      <th>Comma.y</th>\n",
       "      <th>Colon.y</th>\n",
       "      <th>SemiC.y</th>\n",
       "      <th>QMark.y</th>\n",
       "      <th>Exclam.y</th>\n",
       "      <th>Dash.y</th>\n",
       "      <th>Quote.y</th>\n",
       "      <th>Apostro.y</th>\n",
       "      <th>Parenth.y</th>\n",
       "      <th>OtherP.y</th>\n",
       "    </tr>\n",
       "  </thead>\n",
       "  <tbody>\n",
       "    <tr>\n",
       "      <td>1759259</td>\n",
       "      <td>1759260</td>\n",
       "      <td>ibm</td>\n",
       "      <td>ibm__26505646_531_First_1000_1.txt</td>\n",
       "      <td>1</td>\n",
       "      <td>69</td>\n",
       "      <td>97.77</td>\n",
       "      <td>55.76</td>\n",
       "      <td>80.16</td>\n",
       "      <td>78.80</td>\n",
       "      <td>23.00</td>\n",
       "      <td>...</td>\n",
       "      <td>9.07</td>\n",
       "      <td>0.62</td>\n",
       "      <td>0.27</td>\n",
       "      <td>0.01</td>\n",
       "      <td>0.03</td>\n",
       "      <td>2.16</td>\n",
       "      <td>1.96</td>\n",
       "      <td>0.41</td>\n",
       "      <td>1.43</td>\n",
       "      <td>3.36</td>\n",
       "    </tr>\n",
       "    <tr>\n",
       "      <td>1759260</td>\n",
       "      <td>1759261</td>\n",
       "      <td>ibm</td>\n",
       "      <td>ibm__26492667_530_First_1000_1.txt</td>\n",
       "      <td>1</td>\n",
       "      <td>112</td>\n",
       "      <td>95.40</td>\n",
       "      <td>63.97</td>\n",
       "      <td>10.26</td>\n",
       "      <td>87.20</td>\n",
       "      <td>22.40</td>\n",
       "      <td>...</td>\n",
       "      <td>9.07</td>\n",
       "      <td>0.62</td>\n",
       "      <td>0.27</td>\n",
       "      <td>0.01</td>\n",
       "      <td>0.03</td>\n",
       "      <td>2.16</td>\n",
       "      <td>1.96</td>\n",
       "      <td>0.41</td>\n",
       "      <td>1.43</td>\n",
       "      <td>3.36</td>\n",
       "    </tr>\n",
       "    <tr>\n",
       "      <td>1759261</td>\n",
       "      <td>1759262</td>\n",
       "      <td>ibm</td>\n",
       "      <td>ibm__26709630_535_First_1000_1.txt</td>\n",
       "      <td>1</td>\n",
       "      <td>49</td>\n",
       "      <td>85.53</td>\n",
       "      <td>72.97</td>\n",
       "      <td>1.69</td>\n",
       "      <td>91.78</td>\n",
       "      <td>12.25</td>\n",
       "      <td>...</td>\n",
       "      <td>9.07</td>\n",
       "      <td>0.62</td>\n",
       "      <td>0.27</td>\n",
       "      <td>0.01</td>\n",
       "      <td>0.03</td>\n",
       "      <td>2.16</td>\n",
       "      <td>1.96</td>\n",
       "      <td>0.41</td>\n",
       "      <td>1.43</td>\n",
       "      <td>3.36</td>\n",
       "    </tr>\n",
       "    <tr>\n",
       "      <td>1759262</td>\n",
       "      <td>1759263</td>\n",
       "      <td>ibm</td>\n",
       "      <td>ibm__26501938_531_First_1000_1.txt</td>\n",
       "      <td>1</td>\n",
       "      <td>89</td>\n",
       "      <td>97.56</td>\n",
       "      <td>63.20</td>\n",
       "      <td>1.50</td>\n",
       "      <td>94.47</td>\n",
       "      <td>44.50</td>\n",
       "      <td>...</td>\n",
       "      <td>9.07</td>\n",
       "      <td>0.62</td>\n",
       "      <td>0.27</td>\n",
       "      <td>0.01</td>\n",
       "      <td>0.03</td>\n",
       "      <td>2.16</td>\n",
       "      <td>1.96</td>\n",
       "      <td>0.41</td>\n",
       "      <td>1.43</td>\n",
       "      <td>3.36</td>\n",
       "    </tr>\n",
       "    <tr>\n",
       "      <td>1759263</td>\n",
       "      <td>1759264</td>\n",
       "      <td>ibm</td>\n",
       "      <td>ibm__26503564_531_First_1000_1.txt</td>\n",
       "      <td>1</td>\n",
       "      <td>55</td>\n",
       "      <td>91.40</td>\n",
       "      <td>35.79</td>\n",
       "      <td>77.10</td>\n",
       "      <td>25.77</td>\n",
       "      <td>27.50</td>\n",
       "      <td>...</td>\n",
       "      <td>9.07</td>\n",
       "      <td>0.62</td>\n",
       "      <td>0.27</td>\n",
       "      <td>0.01</td>\n",
       "      <td>0.03</td>\n",
       "      <td>2.16</td>\n",
       "      <td>1.96</td>\n",
       "      <td>0.41</td>\n",
       "      <td>1.43</td>\n",
       "      <td>3.36</td>\n",
       "    </tr>\n",
       "  </tbody>\n",
       "</table>\n",
       "<p>5 rows × 193 columns</p>\n",
       "</div>"
      ],
      "text/plain": [
       "         Unnamed: 0 company                          Filename.x  Segment.x  \\\n",
       "1759259     1759260     ibm  ibm__26505646_531_First_1000_1.txt          1   \n",
       "1759260     1759261     ibm  ibm__26492667_530_First_1000_1.txt          1   \n",
       "1759261     1759262     ibm  ibm__26709630_535_First_1000_1.txt          1   \n",
       "1759262     1759263     ibm  ibm__26501938_531_First_1000_1.txt          1   \n",
       "1759263     1759264     ibm  ibm__26503564_531_First_1000_1.txt          1   \n",
       "\n",
       "         WC.x  Analytic.x  Clout.x  Authentic.x  Tone.x  WPS.x  ...  Comma.y  \\\n",
       "1759259    69       97.77    55.76        80.16   78.80  23.00  ...     9.07   \n",
       "1759260   112       95.40    63.97        10.26   87.20  22.40  ...     9.07   \n",
       "1759261    49       85.53    72.97         1.69   91.78  12.25  ...     9.07   \n",
       "1759262    89       97.56    63.20         1.50   94.47  44.50  ...     9.07   \n",
       "1759263    55       91.40    35.79        77.10   25.77  27.50  ...     9.07   \n",
       "\n",
       "         Colon.y  SemiC.y  QMark.y  Exclam.y  Dash.y  Quote.y  Apostro.y  \\\n",
       "1759259     0.62     0.27     0.01      0.03    2.16     1.96       0.41   \n",
       "1759260     0.62     0.27     0.01      0.03    2.16     1.96       0.41   \n",
       "1759261     0.62     0.27     0.01      0.03    2.16     1.96       0.41   \n",
       "1759262     0.62     0.27     0.01      0.03    2.16     1.96       0.41   \n",
       "1759263     0.62     0.27     0.01      0.03    2.16     1.96       0.41   \n",
       "\n",
       "         Parenth.y  OtherP.y  \n",
       "1759259       1.43      3.36  \n",
       "1759260       1.43      3.36  \n",
       "1759261       1.43      3.36  \n",
       "1759262       1.43      3.36  \n",
       "1759263       1.43      3.36  \n",
       "\n",
       "[5 rows x 193 columns]"
      ]
     },
     "execution_count": 6,
     "metadata": {},
     "output_type": "execute_result"
    }
   ],
   "source": [
    "liwc_df.head()"
   ]
  },
  {
   "cell_type": "code",
   "execution_count": 8,
   "metadata": {},
   "outputs": [],
   "source": [
    "REG_BEGIN_MATCH = re.compile('^.*__')\n",
    "REG_END_MATHCH = re.compile('\\.txt$')"
   ]
  },
  {
   "cell_type": "code",
   "execution_count": 9,
   "metadata": {},
   "outputs": [],
   "source": [
    "def _transform_text(text):\n",
    "    sub = re.sub(REG_BEGIN_MATCH, '', text)\n",
    "    sub = re.sub(REG_END_MATHCH, '', sub)\n",
    "    \n",
    "    return sub"
   ]
  },
  {
   "cell_type": "code",
   "execution_count": 10,
   "metadata": {},
   "outputs": [
    {
     "data": {
      "text/plain": [
       "set()"
      ]
     },
     "execution_count": 10,
     "metadata": {},
     "output_type": "execute_result"
    }
   ],
   "source": [
    "liwc_df_person_ids = set(liwc_df['Filename.x'].apply(_transform_text))\n",
    "target_df_person_ids = set(target_df['person_id'])\n",
    "\n",
    "check_diff = liwc_df_person_ids.symmetric_difference(target_df_person_ids)\n",
    "check_diff"
   ]
  },
  {
   "cell_type": "code",
   "execution_count": 14,
   "metadata": {},
   "outputs": [],
   "source": [
    "assert not len(check_diff)"
   ]
  },
  {
   "cell_type": "code",
   "execution_count": null,
   "metadata": {},
   "outputs": [],
   "source": []
  },
  {
   "cell_type": "markdown",
   "metadata": {},
   "source": [
    "## 2. Clean LIWC DF"
   ]
  },
  {
   "cell_type": "code",
   "execution_count": 16,
   "metadata": {},
   "outputs": [],
   "source": [
    "liwc_df_cols = liwc_df.columns\n",
    "\n",
    "x_columns = liwc_df_cols[liwc_df_cols.str.endswith('.x')]\n",
    "y_columns = liwc_df_cols[liwc_df_cols.str.endswith('.y')]"
   ]
  },
  {
   "cell_type": "code",
   "execution_count": 21,
   "metadata": {},
   "outputs": [
    {
     "data": {
      "text/plain": [
       "set()"
      ]
     },
     "execution_count": 21,
     "metadata": {},
     "output_type": "execute_result"
    }
   ],
   "source": [
    "x_columns_truncated = x_columns.str.replace('\\.x', '')\n",
    "y_columns_truncated = y_columns.str.replace('\\.y', '')\n",
    "\n",
    "set(x_columns_truncated).symmetric_difference(y_columns_truncated)"
   ]
  },
  {
   "cell_type": "code",
   "execution_count": 24,
   "metadata": {},
   "outputs": [],
   "source": [
    "TO_EXCLUDE = [\n",
    "    'Filename', \n",
    "    'Segment', \n",
    "    'WC'\n",
    "]"
   ]
  },
  {
   "cell_type": "code",
   "execution_count": 25,
   "metadata": {},
   "outputs": [],
   "source": [
    "clean_column_names = x_columns_truncated.difference(TO_EXCLUDE)"
   ]
  },
  {
   "cell_type": "code",
   "execution_count": 27,
   "metadata": {},
   "outputs": [
    {
     "data": {
      "text/plain": [
       "Index(['AllPunc', 'Analytic', 'Apostro', 'Authentic', 'Clout', 'Colon',\n",
       "       'Comma', 'Dash', 'Dic', 'Exclam', 'OtherP', 'Parenth', 'Period',\n",
       "       'QMark', 'Quote', 'SemiC', 'Sixltr', 'Tone', 'WPS', 'achieve', 'adj',\n",
       "       'adverb', 'affect', 'affiliation', 'anger', 'anx', 'article', 'assent',\n",
       "       'auxverb', 'bio', 'body', 'cause', 'certain', 'cogproc', 'compare',\n",
       "       'conj', 'death', 'differ', 'discrep', 'drives', 'family', 'feel',\n",
       "       'female', 'filler', 'focusfuture', 'focuspast', 'focuspresent',\n",
       "       'friend', 'function.', 'health', 'hear', 'home', 'i', 'informal',\n",
       "       'ingest', 'insight', 'interrog', 'ipron', 'leisure', 'male', 'money',\n",
       "       'motion', 'negate', 'negemo', 'netspeak', 'nonflu', 'number', 'percept',\n",
       "       'posemo', 'power', 'ppron', 'prep', 'pronoun', 'quant', 'relativ',\n",
       "       'relig', 'reward', 'risk', 'sad', 'see', 'sexual', 'shehe', 'social',\n",
       "       'space', 'swear', 'tentat', 'they', 'time', 'verb', 'we', 'work',\n",
       "       'you'],\n",
       "      dtype='object')"
      ]
     },
     "execution_count": 27,
     "metadata": {},
     "output_type": "execute_result"
    }
   ],
   "source": [
    "clean_column_names"
   ]
  },
  {
   "cell_type": "code",
   "execution_count": 29,
   "metadata": {},
   "outputs": [],
   "source": [
    "clean_x_columns = clean_column_names + '.x'\n",
    "clean_y_columns = clean_column_names + '.y'"
   ]
  },
  {
   "cell_type": "code",
   "execution_count": 32,
   "metadata": {},
   "outputs": [
    {
     "data": {
      "text/html": [
       "<div>\n",
       "<style scoped>\n",
       "    .dataframe tbody tr th:only-of-type {\n",
       "        vertical-align: middle;\n",
       "    }\n",
       "\n",
       "    .dataframe tbody tr th {\n",
       "        vertical-align: top;\n",
       "    }\n",
       "\n",
       "    .dataframe thead th {\n",
       "        text-align: right;\n",
       "    }\n",
       "</style>\n",
       "<table border=\"1\" class=\"dataframe\">\n",
       "  <thead>\n",
       "    <tr style=\"text-align: right;\">\n",
       "      <th></th>\n",
       "      <th>AllPunc.x</th>\n",
       "      <th>Analytic.x</th>\n",
       "      <th>Apostro.x</th>\n",
       "      <th>Authentic.x</th>\n",
       "      <th>Clout.x</th>\n",
       "      <th>Colon.x</th>\n",
       "      <th>Comma.x</th>\n",
       "      <th>Dash.x</th>\n",
       "      <th>Dic.x</th>\n",
       "      <th>Exclam.x</th>\n",
       "      <th>...</th>\n",
       "      <th>social.x</th>\n",
       "      <th>space.x</th>\n",
       "      <th>swear.x</th>\n",
       "      <th>tentat.x</th>\n",
       "      <th>they.x</th>\n",
       "      <th>time.x</th>\n",
       "      <th>verb.x</th>\n",
       "      <th>we.x</th>\n",
       "      <th>work.x</th>\n",
       "      <th>you.x</th>\n",
       "    </tr>\n",
       "  </thead>\n",
       "  <tbody>\n",
       "    <tr>\n",
       "      <td>1759259</td>\n",
       "      <td>36.23</td>\n",
       "      <td>97.77</td>\n",
       "      <td>0.00</td>\n",
       "      <td>80.16</td>\n",
       "      <td>55.76</td>\n",
       "      <td>0.00</td>\n",
       "      <td>8.70</td>\n",
       "      <td>11.59</td>\n",
       "      <td>71.01</td>\n",
       "      <td>0.00</td>\n",
       "      <td>...</td>\n",
       "      <td>4.35</td>\n",
       "      <td>15.94</td>\n",
       "      <td>0.0</td>\n",
       "      <td>1.45</td>\n",
       "      <td>0.00</td>\n",
       "      <td>4.35</td>\n",
       "      <td>7.25</td>\n",
       "      <td>0.00</td>\n",
       "      <td>13.04</td>\n",
       "      <td>0.00</td>\n",
       "    </tr>\n",
       "    <tr>\n",
       "      <td>1759260</td>\n",
       "      <td>33.04</td>\n",
       "      <td>95.40</td>\n",
       "      <td>0.00</td>\n",
       "      <td>10.26</td>\n",
       "      <td>63.97</td>\n",
       "      <td>1.79</td>\n",
       "      <td>3.57</td>\n",
       "      <td>1.79</td>\n",
       "      <td>75.89</td>\n",
       "      <td>0.00</td>\n",
       "      <td>...</td>\n",
       "      <td>3.57</td>\n",
       "      <td>8.04</td>\n",
       "      <td>0.0</td>\n",
       "      <td>0.00</td>\n",
       "      <td>0.00</td>\n",
       "      <td>0.89</td>\n",
       "      <td>2.68</td>\n",
       "      <td>0.00</td>\n",
       "      <td>32.14</td>\n",
       "      <td>0.00</td>\n",
       "    </tr>\n",
       "    <tr>\n",
       "      <td>1759261</td>\n",
       "      <td>30.61</td>\n",
       "      <td>85.53</td>\n",
       "      <td>0.00</td>\n",
       "      <td>1.69</td>\n",
       "      <td>72.97</td>\n",
       "      <td>2.04</td>\n",
       "      <td>6.12</td>\n",
       "      <td>0.00</td>\n",
       "      <td>79.59</td>\n",
       "      <td>0.00</td>\n",
       "      <td>...</td>\n",
       "      <td>6.12</td>\n",
       "      <td>2.04</td>\n",
       "      <td>0.0</td>\n",
       "      <td>0.00</td>\n",
       "      <td>0.00</td>\n",
       "      <td>0.00</td>\n",
       "      <td>2.04</td>\n",
       "      <td>0.00</td>\n",
       "      <td>34.69</td>\n",
       "      <td>0.00</td>\n",
       "    </tr>\n",
       "    <tr>\n",
       "      <td>1759262</td>\n",
       "      <td>25.84</td>\n",
       "      <td>97.56</td>\n",
       "      <td>0.00</td>\n",
       "      <td>1.50</td>\n",
       "      <td>63.20</td>\n",
       "      <td>0.00</td>\n",
       "      <td>12.36</td>\n",
       "      <td>5.62</td>\n",
       "      <td>56.18</td>\n",
       "      <td>0.00</td>\n",
       "      <td>...</td>\n",
       "      <td>3.37</td>\n",
       "      <td>6.74</td>\n",
       "      <td>0.0</td>\n",
       "      <td>0.00</td>\n",
       "      <td>0.00</td>\n",
       "      <td>1.12</td>\n",
       "      <td>0.00</td>\n",
       "      <td>0.00</td>\n",
       "      <td>10.11</td>\n",
       "      <td>0.00</td>\n",
       "    </tr>\n",
       "    <tr>\n",
       "      <td>1759263</td>\n",
       "      <td>14.55</td>\n",
       "      <td>91.40</td>\n",
       "      <td>0.00</td>\n",
       "      <td>77.10</td>\n",
       "      <td>35.79</td>\n",
       "      <td>0.00</td>\n",
       "      <td>5.45</td>\n",
       "      <td>0.00</td>\n",
       "      <td>80.00</td>\n",
       "      <td>1.82</td>\n",
       "      <td>...</td>\n",
       "      <td>3.64</td>\n",
       "      <td>5.45</td>\n",
       "      <td>0.0</td>\n",
       "      <td>0.00</td>\n",
       "      <td>0.00</td>\n",
       "      <td>9.09</td>\n",
       "      <td>7.27</td>\n",
       "      <td>0.00</td>\n",
       "      <td>10.91</td>\n",
       "      <td>0.00</td>\n",
       "    </tr>\n",
       "    <tr>\n",
       "      <td>...</td>\n",
       "      <td>...</td>\n",
       "      <td>...</td>\n",
       "      <td>...</td>\n",
       "      <td>...</td>\n",
       "      <td>...</td>\n",
       "      <td>...</td>\n",
       "      <td>...</td>\n",
       "      <td>...</td>\n",
       "      <td>...</td>\n",
       "      <td>...</td>\n",
       "      <td>...</td>\n",
       "      <td>...</td>\n",
       "      <td>...</td>\n",
       "      <td>...</td>\n",
       "      <td>...</td>\n",
       "      <td>...</td>\n",
       "      <td>...</td>\n",
       "      <td>...</td>\n",
       "      <td>...</td>\n",
       "      <td>...</td>\n",
       "      <td>...</td>\n",
       "    </tr>\n",
       "    <tr>\n",
       "      <td>1813423</td>\n",
       "      <td>18.18</td>\n",
       "      <td>92.14</td>\n",
       "      <td>0.00</td>\n",
       "      <td>46.36</td>\n",
       "      <td>41.03</td>\n",
       "      <td>0.00</td>\n",
       "      <td>9.09</td>\n",
       "      <td>0.00</td>\n",
       "      <td>77.27</td>\n",
       "      <td>0.00</td>\n",
       "      <td>...</td>\n",
       "      <td>3.41</td>\n",
       "      <td>6.82</td>\n",
       "      <td>0.0</td>\n",
       "      <td>0.00</td>\n",
       "      <td>0.00</td>\n",
       "      <td>3.41</td>\n",
       "      <td>4.55</td>\n",
       "      <td>0.00</td>\n",
       "      <td>10.23</td>\n",
       "      <td>0.00</td>\n",
       "    </tr>\n",
       "    <tr>\n",
       "      <td>1813424</td>\n",
       "      <td>14.56</td>\n",
       "      <td>97.98</td>\n",
       "      <td>0.00</td>\n",
       "      <td>93.51</td>\n",
       "      <td>24.82</td>\n",
       "      <td>0.00</td>\n",
       "      <td>6.80</td>\n",
       "      <td>0.97</td>\n",
       "      <td>77.67</td>\n",
       "      <td>0.00</td>\n",
       "      <td>...</td>\n",
       "      <td>0.97</td>\n",
       "      <td>11.65</td>\n",
       "      <td>0.0</td>\n",
       "      <td>0.00</td>\n",
       "      <td>0.00</td>\n",
       "      <td>6.80</td>\n",
       "      <td>6.80</td>\n",
       "      <td>0.00</td>\n",
       "      <td>11.65</td>\n",
       "      <td>0.00</td>\n",
       "    </tr>\n",
       "    <tr>\n",
       "      <td>1813425</td>\n",
       "      <td>11.65</td>\n",
       "      <td>67.77</td>\n",
       "      <td>0.57</td>\n",
       "      <td>17.28</td>\n",
       "      <td>95.83</td>\n",
       "      <td>0.85</td>\n",
       "      <td>1.70</td>\n",
       "      <td>0.28</td>\n",
       "      <td>94.89</td>\n",
       "      <td>0.57</td>\n",
       "      <td>...</td>\n",
       "      <td>18.18</td>\n",
       "      <td>8.81</td>\n",
       "      <td>0.0</td>\n",
       "      <td>2.56</td>\n",
       "      <td>0.28</td>\n",
       "      <td>5.11</td>\n",
       "      <td>15.62</td>\n",
       "      <td>1.14</td>\n",
       "      <td>9.66</td>\n",
       "      <td>4.26</td>\n",
       "    </tr>\n",
       "    <tr>\n",
       "      <td>1813426</td>\n",
       "      <td>12.70</td>\n",
       "      <td>97.40</td>\n",
       "      <td>0.00</td>\n",
       "      <td>68.01</td>\n",
       "      <td>62.46</td>\n",
       "      <td>0.00</td>\n",
       "      <td>3.17</td>\n",
       "      <td>0.00</td>\n",
       "      <td>82.54</td>\n",
       "      <td>0.00</td>\n",
       "      <td>...</td>\n",
       "      <td>7.94</td>\n",
       "      <td>12.70</td>\n",
       "      <td>0.0</td>\n",
       "      <td>0.00</td>\n",
       "      <td>0.00</td>\n",
       "      <td>3.17</td>\n",
       "      <td>7.94</td>\n",
       "      <td>1.59</td>\n",
       "      <td>9.52</td>\n",
       "      <td>0.00</td>\n",
       "    </tr>\n",
       "    <tr>\n",
       "      <td>1813427</td>\n",
       "      <td>20.00</td>\n",
       "      <td>91.20</td>\n",
       "      <td>0.00</td>\n",
       "      <td>12.17</td>\n",
       "      <td>65.56</td>\n",
       "      <td>0.00</td>\n",
       "      <td>8.00</td>\n",
       "      <td>0.00</td>\n",
       "      <td>82.00</td>\n",
       "      <td>0.00</td>\n",
       "      <td>...</td>\n",
       "      <td>4.00</td>\n",
       "      <td>4.00</td>\n",
       "      <td>0.0</td>\n",
       "      <td>0.00</td>\n",
       "      <td>0.00</td>\n",
       "      <td>2.00</td>\n",
       "      <td>10.00</td>\n",
       "      <td>0.00</td>\n",
       "      <td>22.00</td>\n",
       "      <td>0.00</td>\n",
       "    </tr>\n",
       "  </tbody>\n",
       "</table>\n",
       "<p>54169 rows × 92 columns</p>\n",
       "</div>"
      ],
      "text/plain": [
       "         AllPunc.x  Analytic.x  Apostro.x  Authentic.x  Clout.x  Colon.x  \\\n",
       "1759259      36.23       97.77       0.00        80.16    55.76     0.00   \n",
       "1759260      33.04       95.40       0.00        10.26    63.97     1.79   \n",
       "1759261      30.61       85.53       0.00         1.69    72.97     2.04   \n",
       "1759262      25.84       97.56       0.00         1.50    63.20     0.00   \n",
       "1759263      14.55       91.40       0.00        77.10    35.79     0.00   \n",
       "...            ...         ...        ...          ...      ...      ...   \n",
       "1813423      18.18       92.14       0.00        46.36    41.03     0.00   \n",
       "1813424      14.56       97.98       0.00        93.51    24.82     0.00   \n",
       "1813425      11.65       67.77       0.57        17.28    95.83     0.85   \n",
       "1813426      12.70       97.40       0.00        68.01    62.46     0.00   \n",
       "1813427      20.00       91.20       0.00        12.17    65.56     0.00   \n",
       "\n",
       "         Comma.x  Dash.x  Dic.x  Exclam.x  ...  social.x  space.x  swear.x  \\\n",
       "1759259     8.70   11.59  71.01      0.00  ...      4.35    15.94      0.0   \n",
       "1759260     3.57    1.79  75.89      0.00  ...      3.57     8.04      0.0   \n",
       "1759261     6.12    0.00  79.59      0.00  ...      6.12     2.04      0.0   \n",
       "1759262    12.36    5.62  56.18      0.00  ...      3.37     6.74      0.0   \n",
       "1759263     5.45    0.00  80.00      1.82  ...      3.64     5.45      0.0   \n",
       "...          ...     ...    ...       ...  ...       ...      ...      ...   \n",
       "1813423     9.09    0.00  77.27      0.00  ...      3.41     6.82      0.0   \n",
       "1813424     6.80    0.97  77.67      0.00  ...      0.97    11.65      0.0   \n",
       "1813425     1.70    0.28  94.89      0.57  ...     18.18     8.81      0.0   \n",
       "1813426     3.17    0.00  82.54      0.00  ...      7.94    12.70      0.0   \n",
       "1813427     8.00    0.00  82.00      0.00  ...      4.00     4.00      0.0   \n",
       "\n",
       "         tentat.x  they.x  time.x  verb.x  we.x  work.x  you.x  \n",
       "1759259      1.45    0.00    4.35    7.25  0.00   13.04   0.00  \n",
       "1759260      0.00    0.00    0.89    2.68  0.00   32.14   0.00  \n",
       "1759261      0.00    0.00    0.00    2.04  0.00   34.69   0.00  \n",
       "1759262      0.00    0.00    1.12    0.00  0.00   10.11   0.00  \n",
       "1759263      0.00    0.00    9.09    7.27  0.00   10.91   0.00  \n",
       "...           ...     ...     ...     ...   ...     ...    ...  \n",
       "1813423      0.00    0.00    3.41    4.55  0.00   10.23   0.00  \n",
       "1813424      0.00    0.00    6.80    6.80  0.00   11.65   0.00  \n",
       "1813425      2.56    0.28    5.11   15.62  1.14    9.66   4.26  \n",
       "1813426      0.00    0.00    3.17    7.94  1.59    9.52   0.00  \n",
       "1813427      0.00    0.00    2.00   10.00  0.00   22.00   0.00  \n",
       "\n",
       "[54169 rows x 92 columns]"
      ]
     },
     "execution_count": 32,
     "metadata": {},
     "output_type": "execute_result"
    }
   ],
   "source": [
    "liwc_df[clean_x_columns]"
   ]
  },
  {
   "cell_type": "code",
   "execution_count": null,
   "metadata": {},
   "outputs": [],
   "source": []
  },
  {
   "cell_type": "markdown",
   "metadata": {},
   "source": [
    "## 3. Check y columns - mean?"
   ]
  },
  {
   "cell_type": "code",
   "execution_count": 40,
   "metadata": {},
   "outputs": [],
   "source": [
    "clean_x_col_df = liwc_df[clean_x_columns]\n",
    "clean_y_col_df = liwc_df[clean_y_columns]"
   ]
  },
  {
   "cell_type": "code",
   "execution_count": 39,
   "metadata": {},
   "outputs": [
    {
     "data": {
      "text/plain": [
       "0.0"
      ]
     },
     "execution_count": 39,
     "metadata": {},
     "output_type": "execute_result"
    }
   ],
   "source": [
    "(clean_y_col_df - clean_y_col_df.iloc[0]).abs().max().max()"
   ]
  },
  {
   "cell_type": "code",
   "execution_count": 42,
   "metadata": {},
   "outputs": [
    {
     "data": {
      "text/plain": [
       "AllPunc.x      24.833839\n",
       "Analytic.x     93.069146\n",
       "Apostro.x       0.351219\n",
       "Authentic.x    28.032447\n",
       "Clout.x        62.266307\n",
       "                 ...    \n",
       "time.x          2.861314\n",
       "verb.x          4.693491\n",
       "we.x            0.150853\n",
       "work.x         19.382973\n",
       "you.x           0.094688\n",
       "Length: 92, dtype: float64"
      ]
     },
     "execution_count": 42,
     "metadata": {},
     "output_type": "execute_result"
    }
   ],
   "source": [
    "clean_x_col_df.mean(axis=0)"
   ]
  },
  {
   "cell_type": "code",
   "execution_count": 44,
   "metadata": {},
   "outputs": [
    {
     "data": {
      "text/plain": [
       "AllPunc.y      24.33\n",
       "Analytic.y     95.15\n",
       "Apostro.y       0.41\n",
       "Authentic.y    20.88\n",
       "Clout.y        63.75\n",
       "               ...  \n",
       "time.y          2.88\n",
       "verb.y          4.99\n",
       "we.y            0.18\n",
       "work.y         18.57\n",
       "you.y           0.12\n",
       "Name: 1759259, Length: 92, dtype: float64"
      ]
     },
     "execution_count": 44,
     "metadata": {},
     "output_type": "execute_result"
    }
   ],
   "source": [
    "clean_y_col_df.iloc[0]"
   ]
  },
  {
   "cell_type": "code",
   "execution_count": 48,
   "metadata": {},
   "outputs": [],
   "source": [
    "temp = clean_x_col_df / clean_x_col_df.std(axis=0)"
   ]
  }
 ],
 "metadata": {
  "kernelspec": {
   "display_name": "Python 3",
   "language": "python",
   "name": "python3"
  },
  "language_info": {
   "codemirror_mode": {
    "name": "ipython",
    "version": 3
   },
   "file_extension": ".py",
   "mimetype": "text/x-python",
   "name": "python",
   "nbconvert_exporter": "python",
   "pygments_lexer": "ipython3",
   "version": "3.6.8"
  }
 },
 "nbformat": 4,
 "nbformat_minor": 4
}
