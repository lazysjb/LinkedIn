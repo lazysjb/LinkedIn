{
 "cells": [
  {
   "cell_type": "code",
   "execution_count": 1,
   "metadata": {},
   "outputs": [],
   "source": [
    "from glob import glob\n",
    "import os\n",
    "\n",
    "import numpy as np\n",
    "import pandas as pd\n",
    "from tqdm import tqdm"
   ]
  },
  {
   "cell_type": "code",
   "execution_count": 2,
   "metadata": {},
   "outputs": [],
   "source": [
    "np.set_printoptions(suppress=True)"
   ]
  },
  {
   "cell_type": "code",
   "execution_count": 3,
   "metadata": {},
   "outputs": [],
   "source": [
    "LIWC_NPZ_DIR = '/home/sjb/Projects/Research/LinkedIn_OB/data/word_features/company_level_liwc/raw_vectors/'\n",
    "TARGET_DATA_DIR = '/home/sjb/Projects/Research/LinkedIn_OB/data/company_level_individual_stay_term/'"
   ]
  },
  {
   "cell_type": "code",
   "execution_count": 4,
   "metadata": {},
   "outputs": [],
   "source": [
    "npz_file_paths = glob(os.path.join(LIWC_NPZ_DIR, '*.npz'))"
   ]
  },
  {
   "cell_type": "code",
   "execution_count": 5,
   "metadata": {},
   "outputs": [
    {
     "name": "stderr",
     "output_type": "stream",
     "text": [
      "100%|██████████| 1382/1382 [00:18<00:00, 76.21it/s] \n"
     ]
    }
   ],
   "source": [
    "for fp in tqdm(npz_file_paths):\n",
    "    company_name = os.path.basename(fp).replace('_raw_liwc.npz', '')\n",
    "    company_target_file_name = f'{company_name}_person_stay_term.csv'\n",
    "    target_df = pd.read_csv(os.path.join(TARGET_DATA_DIR, company_target_file_name))\n",
    "    \n",
    "    target_len = target_df.shape[0]\n",
    "    \n",
    "    cached = np.load(fp, allow_pickle=True)\n",
    "    person_ids = cached['person_ids']\n",
    "    person_vectors = cached['person_vectors']\n",
    "    company_vector = cached['company_vector']\n",
    "    \n",
    "    assert target_len == person_ids.shape[0] == person_vectors.shape[0]\n",
    "    \n",
    "    assert person_vectors.shape[1] == company_vector.shape[0] == 92\n",
    "    \n",
    "    assert len(set(person_ids).symmetric_difference(set(target_df['person_id']))) == 0"
   ]
  },
  {
   "cell_type": "code",
   "execution_count": null,
   "metadata": {},
   "outputs": [],
   "source": []
  }
 ],
 "metadata": {
  "kernelspec": {
   "display_name": "Python 3",
   "language": "python",
   "name": "python3"
  },
  "language_info": {
   "codemirror_mode": {
    "name": "ipython",
    "version": 3
   },
   "file_extension": ".py",
   "mimetype": "text/x-python",
   "name": "python",
   "nbconvert_exporter": "python",
   "pygments_lexer": "ipython3",
   "version": "3.6.8"
  }
 },
 "nbformat": 4,
 "nbformat_minor": 4
}
