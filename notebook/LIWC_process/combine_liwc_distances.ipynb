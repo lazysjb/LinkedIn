{
 "cells": [
  {
   "cell_type": "code",
   "execution_count": 1,
   "metadata": {},
   "outputs": [],
   "source": [
    "from glob import glob\n",
    "import os\n",
    "\n",
    "import numpy as np\n",
    "import pandas as pd\n",
    "from tqdm import tqdm"
   ]
  },
  {
   "cell_type": "code",
   "execution_count": 2,
   "metadata": {},
   "outputs": [],
   "source": [
    "LIWC_VECTOR_ROOT_DIR = '/home/sjb/Projects/Research/LinkedIn_OB/data/word_features'\n",
    "LIWC_DISTANCE_SAVE_SUBDIR = 'company_level_liwc/distances'\n",
    "LIWC_DISTANCE_FILE_FORMAT = '{company_name}_distance.npz'\n",
    "\n",
    "PERSON_STAY_DIR = '/home/sjb/Projects/Research/LinkedIn_OB/data/company_level_individual_stay_term/'\n",
    "PERSON_STAY_TERM_FILE_FORMAT = '{company_name}_person_stay_term.csv'"
   ]
  },
  {
   "cell_type": "code",
   "execution_count": 3,
   "metadata": {},
   "outputs": [],
   "source": [
    "liwc_distance_file_paths = glob(os.path.join(LIWC_VECTOR_ROOT_DIR, \n",
    "                                             LIWC_DISTANCE_SAVE_SUBDIR, '*_distance.npz'))"
   ]
  },
  {
   "cell_type": "code",
   "execution_count": 4,
   "metadata": {},
   "outputs": [],
   "source": [
    "def _extract_company_name_from_distance_file(distance_file_path):\n",
    "    return os.path.basename(distance_file_path).replace('_distance.npz', '')"
   ]
  },
  {
   "cell_type": "code",
   "execution_count": 5,
   "metadata": {},
   "outputs": [
    {
     "data": {
      "text/plain": [
       "1382"
      ]
     },
     "execution_count": 5,
     "metadata": {},
     "output_type": "execute_result"
    }
   ],
   "source": [
    "len(liwc_distance_file_paths)"
   ]
  },
  {
   "cell_type": "code",
   "execution_count": 6,
   "metadata": {},
   "outputs": [],
   "source": [
    "COMPANY_PERSON_IDS_KEY = 'company_person_ids'\n",
    "\n",
    "DISTANCE_KEYS = [\n",
    "    'cosine_standardized',\n",
    "    'cosine',\n",
    "    'euclidean_standardized',\n",
    "    'euclidean',\n",
    "    'mahalonobis_standardized',\n",
    "    'mahalonobis',\n",
    "    'js_divergence_standardized',\n",
    "    'js_divergence'\n",
    "]"
   ]
  },
  {
   "cell_type": "code",
   "execution_count": 7,
   "metadata": {},
   "outputs": [],
   "source": [
    "dfs = []"
   ]
  },
  {
   "cell_type": "code",
   "execution_count": 8,
   "metadata": {},
   "outputs": [
    {
     "name": "stderr",
     "output_type": "stream",
     "text": [
      "100%|██████████| 1382/1382 [00:24<00:00, 56.54it/s]\n"
     ]
    }
   ],
   "source": [
    "expected_liwc_data_keys = set([COMPANY_PERSON_IDS_KEY] + DISTANCE_KEYS)\n",
    "\n",
    "for liwc_distance_file_path in tqdm(liwc_distance_file_paths):\n",
    "    \n",
    "    company_name = _extract_company_name_from_distance_file(liwc_distance_file_path)\n",
    "    \n",
    "    distance_data = np.load(liwc_distance_file_path, allow_pickle=True)\n",
    "\n",
    "    distance_data_keys = set(distance_data.keys())\n",
    "    \n",
    "    # sanity check\n",
    "    assert len(distance_data_keys.symmetric_difference(expected_liwc_data_keys)) == 0\n",
    "    \n",
    "    distance_data_dict = {}\n",
    "    \n",
    "    for k in expected_liwc_data_keys:\n",
    "        distance_data_dict[k] = distance_data[k]\n",
    "    \n",
    "    distance_data_df = pd.DataFrame(distance_data_dict)\n",
    "    \n",
    "    person_stay_file_path = os.path.join(PERSON_STAY_DIR, PERSON_STAY_TERM_FILE_FORMAT).format(company_name=company_name)\n",
    "    person_stay_df = pd.read_csv(person_stay_file_path)\n",
    "    person_stay_df['company_person_ids'] = company_name + '__' + person_stay_df['person_id']\n",
    "    \n",
    "    # sanity check\n",
    "    assert person_stay_df.shape[0] == distance_data_df.shape[0]\n",
    "    assert len(set(person_stay_df['company_person_ids']).symmetric_difference(set(distance_data_df['company_person_ids']))) == 0\n",
    "    \n",
    "    company_level_info_df = person_stay_df.merge(distance_data_df, on='company_person_ids').drop('person_id', axis=1)\n",
    "    company_level_info_df['company_name'] = company_name\n",
    "    \n",
    "    dfs.append(company_level_info_df)"
   ]
  },
  {
   "cell_type": "code",
   "execution_count": 9,
   "metadata": {},
   "outputs": [],
   "source": [
    "all_df = pd.concat(dfs)"
   ]
  },
  {
   "cell_type": "code",
   "execution_count": 11,
   "metadata": {},
   "outputs": [
    {
     "data": {
      "text/plain": [
       "(4307998, 12)"
      ]
     },
     "execution_count": 11,
     "metadata": {},
     "output_type": "execute_result"
    }
   ],
   "source": [
    "all_df.shape"
   ]
  },
  {
   "cell_type": "code",
   "execution_count": 14,
   "metadata": {},
   "outputs": [
    {
     "data": {
      "text/html": [
       "<div>\n",
       "<style scoped>\n",
       "    .dataframe tbody tr th:only-of-type {\n",
       "        vertical-align: middle;\n",
       "    }\n",
       "\n",
       "    .dataframe tbody tr th {\n",
       "        vertical-align: top;\n",
       "    }\n",
       "\n",
       "    .dataframe thead th {\n",
       "        text-align: right;\n",
       "    }\n",
       "</style>\n",
       "<table border=\"1\" class=\"dataframe\">\n",
       "  <thead>\n",
       "    <tr style=\"text-align: right;\">\n",
       "      <th></th>\n",
       "      <th>n_months</th>\n",
       "      <th>is_current_job</th>\n",
       "      <th>company_person_ids</th>\n",
       "      <th>euclidean</th>\n",
       "      <th>cosine_standardized</th>\n",
       "      <th>mahalonobis</th>\n",
       "      <th>euclidean_standardized</th>\n",
       "      <th>mahalonobis_standardized</th>\n",
       "      <th>js_divergence</th>\n",
       "      <th>cosine</th>\n",
       "      <th>js_divergence_standardized</th>\n",
       "      <th>company_name</th>\n",
       "    </tr>\n",
       "  </thead>\n",
       "  <tbody>\n",
       "    <tr>\n",
       "      <td>0</td>\n",
       "      <td>36.0</td>\n",
       "      <td>False</td>\n",
       "      <td>the-leukemia-&amp;-lymphoma-society__10053159_202_...</td>\n",
       "      <td>30.421800</td>\n",
       "      <td>0.106071</td>\n",
       "      <td>10.030937</td>\n",
       "      <td>9.225756</td>\n",
       "      <td>10.030937</td>\n",
       "      <td>0.209970</td>\n",
       "      <td>0.013549</td>\n",
       "      <td>0.372366</td>\n",
       "      <td>the-leukemia-&amp;-lymphoma-society</td>\n",
       "    </tr>\n",
       "    <tr>\n",
       "      <td>1</td>\n",
       "      <td>6.0</td>\n",
       "      <td>False</td>\n",
       "      <td>the-leukemia-&amp;-lymphoma-society__10099087_202_...</td>\n",
       "      <td>34.184982</td>\n",
       "      <td>0.060918</td>\n",
       "      <td>8.223884</td>\n",
       "      <td>6.896046</td>\n",
       "      <td>8.223884</td>\n",
       "      <td>0.197999</td>\n",
       "      <td>0.015253</td>\n",
       "      <td>0.341049</td>\n",
       "      <td>the-leukemia-&amp;-lymphoma-society</td>\n",
       "    </tr>\n",
       "    <tr>\n",
       "      <td>2</td>\n",
       "      <td>3.0</td>\n",
       "      <td>False</td>\n",
       "      <td>the-leukemia-&amp;-lymphoma-society__101376526_202...</td>\n",
       "      <td>43.699405</td>\n",
       "      <td>0.055393</td>\n",
       "      <td>8.590643</td>\n",
       "      <td>6.393712</td>\n",
       "      <td>8.590643</td>\n",
       "      <td>0.194588</td>\n",
       "      <td>0.024669</td>\n",
       "      <td>0.347662</td>\n",
       "      <td>the-leukemia-&amp;-lymphoma-society</td>\n",
       "    </tr>\n",
       "    <tr>\n",
       "      <td>3</td>\n",
       "      <td>5.0</td>\n",
       "      <td>False</td>\n",
       "      <td>the-leukemia-&amp;-lymphoma-society__101445195_202...</td>\n",
       "      <td>72.306364</td>\n",
       "      <td>0.057917</td>\n",
       "      <td>6.808498</td>\n",
       "      <td>6.648091</td>\n",
       "      <td>6.808498</td>\n",
       "      <td>0.206825</td>\n",
       "      <td>0.073217</td>\n",
       "      <td>0.278581</td>\n",
       "      <td>the-leukemia-&amp;-lymphoma-society</td>\n",
       "    </tr>\n",
       "    <tr>\n",
       "      <td>4</td>\n",
       "      <td>8.0</td>\n",
       "      <td>False</td>\n",
       "      <td>the-leukemia-&amp;-lymphoma-society__101497839_203...</td>\n",
       "      <td>80.857131</td>\n",
       "      <td>0.070323</td>\n",
       "      <td>8.072191</td>\n",
       "      <td>7.248587</td>\n",
       "      <td>8.072191</td>\n",
       "      <td>0.248206</td>\n",
       "      <td>0.087317</td>\n",
       "      <td>0.338530</td>\n",
       "      <td>the-leukemia-&amp;-lymphoma-society</td>\n",
       "    </tr>\n",
       "  </tbody>\n",
       "</table>\n",
       "</div>"
      ],
      "text/plain": [
       "   n_months  is_current_job  \\\n",
       "0      36.0           False   \n",
       "1       6.0           False   \n",
       "2       3.0           False   \n",
       "3       5.0           False   \n",
       "4       8.0           False   \n",
       "\n",
       "                                  company_person_ids  euclidean  \\\n",
       "0  the-leukemia-&-lymphoma-society__10053159_202_...  30.421800   \n",
       "1  the-leukemia-&-lymphoma-society__10099087_202_...  34.184982   \n",
       "2  the-leukemia-&-lymphoma-society__101376526_202...  43.699405   \n",
       "3  the-leukemia-&-lymphoma-society__101445195_202...  72.306364   \n",
       "4  the-leukemia-&-lymphoma-society__101497839_203...  80.857131   \n",
       "\n",
       "   cosine_standardized  mahalonobis  euclidean_standardized  \\\n",
       "0             0.106071    10.030937                9.225756   \n",
       "1             0.060918     8.223884                6.896046   \n",
       "2             0.055393     8.590643                6.393712   \n",
       "3             0.057917     6.808498                6.648091   \n",
       "4             0.070323     8.072191                7.248587   \n",
       "\n",
       "   mahalonobis_standardized  js_divergence    cosine  \\\n",
       "0                 10.030937       0.209970  0.013549   \n",
       "1                  8.223884       0.197999  0.015253   \n",
       "2                  8.590643       0.194588  0.024669   \n",
       "3                  6.808498       0.206825  0.073217   \n",
       "4                  8.072191       0.248206  0.087317   \n",
       "\n",
       "   js_divergence_standardized                     company_name  \n",
       "0                    0.372366  the-leukemia-&-lymphoma-society  \n",
       "1                    0.341049  the-leukemia-&-lymphoma-society  \n",
       "2                    0.347662  the-leukemia-&-lymphoma-society  \n",
       "3                    0.278581  the-leukemia-&-lymphoma-society  \n",
       "4                    0.338530  the-leukemia-&-lymphoma-society  "
      ]
     },
     "execution_count": 14,
     "metadata": {},
     "output_type": "execute_result"
    }
   ],
   "source": [
    "all_df.head()"
   ]
  },
  {
   "cell_type": "code",
   "execution_count": 15,
   "metadata": {},
   "outputs": [
    {
     "data": {
      "text/plain": [
       "1382"
      ]
     },
     "execution_count": 15,
     "metadata": {},
     "output_type": "execute_result"
    }
   ],
   "source": [
    "all_df['company_name'].nunique()"
   ]
  },
  {
   "cell_type": "code",
   "execution_count": 16,
   "metadata": {},
   "outputs": [],
   "source": [
    "all_df.to_pickle('../../../../data/combined_features/stay_term_and_distances.pkl')"
   ]
  },
  {
   "cell_type": "code",
   "execution_count": 17,
   "metadata": {},
   "outputs": [],
   "source": [
    "all_df.to_csv('../../../../data/combined_features/stay_term_and_distances.csv', index=False)"
   ]
  },
  {
   "cell_type": "code",
   "execution_count": null,
   "metadata": {},
   "outputs": [],
   "source": []
  }
 ],
 "metadata": {
  "kernelspec": {
   "display_name": "Python 3",
   "language": "python",
   "name": "python3"
  },
  "language_info": {
   "codemirror_mode": {
    "name": "ipython",
    "version": 3
   },
   "file_extension": ".py",
   "mimetype": "text/x-python",
   "name": "python",
   "nbconvert_exporter": "python",
   "pygments_lexer": "ipython3",
   "version": "3.6.8"
  }
 },
 "nbformat": 4,
 "nbformat_minor": 4
}
