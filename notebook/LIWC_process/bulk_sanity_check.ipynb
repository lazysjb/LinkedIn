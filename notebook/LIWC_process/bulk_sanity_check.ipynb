{
 "cells": [
  {
   "cell_type": "code",
   "execution_count": 1,
   "metadata": {},
   "outputs": [],
   "source": [
    "import os\n",
    "import re\n",
    "\n",
    "import numpy as np\n",
    "import pandas as pd\n",
    "from tqdm import tqdm"
   ]
  },
  {
   "cell_type": "code",
   "execution_count": 2,
   "metadata": {},
   "outputs": [],
   "source": [
    "pd.set_option('display.max_rows', 100)"
   ]
  },
  {
   "cell_type": "code",
   "execution_count": 3,
   "metadata": {},
   "outputs": [],
   "source": [
    "# RAW_FILE = '/home/sjb/Projects/Research/LinkedIn_OB/data/word_features/LIWC_idividual_company_mapped.csv'\n",
    "RAW_FILE = '/home/sjb/Projects/Research/LinkedIn_OB/data/word_features/LIWC_individual_company_mapped_no_walmart.csv'\n",
    "\n",
    "TARGET_DATA_DIR = '/home/sjb/Projects/Research/LinkedIn_OB/data/company_level_individual_stay_term/'"
   ]
  },
  {
   "cell_type": "code",
   "execution_count": 4,
   "metadata": {},
   "outputs": [],
   "source": [
    "def get_target_data_company_names():\n",
    "    company_names = [x.replace('_person_stay_term.csv', '') for x in os.listdir(TARGET_DATA_DIR)]\n",
    "    return company_names"
   ]
  },
  {
   "cell_type": "code",
   "execution_count": 5,
   "metadata": {},
   "outputs": [],
   "source": [
    "raw_df = pd.read_csv(RAW_FILE)"
   ]
  },
  {
   "cell_type": "code",
   "execution_count": 6,
   "metadata": {},
   "outputs": [],
   "source": [
    "LIWC_COLUMN_NAMES = [\n",
    "    'AllPunc', 'Analytic', 'Apostro', 'Authentic', 'Clout', 'Colon',\n",
    "    'Comma', 'Dash', 'Dic', 'Exclam', 'OtherP', 'Parenth', 'Period',\n",
    "    'QMark', 'Quote', 'SemiC', 'Sixltr', 'Tone', 'WPS', 'achieve', 'adj',\n",
    "    'adverb', 'affect', 'affiliation', 'anger', 'anx', 'article', 'assent',\n",
    "    'auxverb', 'bio', 'body', 'cause', 'certain', 'cogproc', 'compare',\n",
    "    'conj', 'death', 'differ', 'discrep', 'drives', 'family', 'feel',\n",
    "    'female', 'filler', 'focusfuture', 'focuspast', 'focuspresent',\n",
    "    'friend', 'function.', 'health', 'hear', 'home', 'i', 'informal',\n",
    "    'ingest', 'insight', 'interrog', 'ipron', 'leisure', 'male', 'money',\n",
    "    'motion', 'negate', 'negemo', 'netspeak', 'nonflu', 'number', 'percept',\n",
    "    'posemo', 'power', 'ppron', 'prep', 'pronoun', 'quant', 'relativ',\n",
    "    'relig', 'reward', 'risk', 'sad', 'see', 'sexual', 'shehe', 'social',\n",
    "    'space', 'swear', 'tentat', 'they', 'time', 'verb', 'we', 'work',\n",
    "    'you',\n",
    "]"
   ]
  },
  {
   "cell_type": "code",
   "execution_count": 7,
   "metadata": {},
   "outputs": [
    {
     "data": {
      "text/plain": [
       "92"
      ]
     },
     "execution_count": 7,
     "metadata": {},
     "output_type": "execute_result"
    }
   ],
   "source": [
    "len(LIWC_COLUMN_NAMES)"
   ]
  },
  {
   "cell_type": "code",
   "execution_count": 10,
   "metadata": {},
   "outputs": [],
   "source": [
    "raw_df = raw_df[['company', 'filler.x']].copy()"
   ]
  },
  {
   "cell_type": "code",
   "execution_count": 12,
   "metadata": {},
   "outputs": [],
   "source": [
    "temp = raw_df.groupby('company')['filler.x'].std()"
   ]
  },
  {
   "cell_type": "code",
   "execution_count": null,
   "metadata": {},
   "outputs": [],
   "source": []
  },
  {
   "cell_type": "code",
   "execution_count": 15,
   "metadata": {},
   "outputs": [
    {
     "data": {
      "text/plain": [
       "company\n",
       "lend-lease                                0.0\n",
       "grand-valley-state-university             0.0\n",
       "guitar-center                             0.0\n",
       "howard-university                         0.0\n",
       "huawei                                    0.0\n",
       "hyatt-regency                             0.0\n",
       "ikea-group                                0.0\n",
       "illinois-state-university                 0.0\n",
       "independence-blue-cross                   0.0\n",
       "intergraph                                0.0\n",
       "ivy-tech-community-college                0.0\n",
       "jdsu                                      0.0\n",
       "john-hancock-financial-services           0.0\n",
       "kansas-state-university                   0.0\n",
       "gmac-mortgage                             0.0\n",
       "la-fitness                                0.0\n",
       "lehigh-university                         0.0\n",
       "loreal                                    0.0\n",
       "los-angeles-times                         0.0\n",
       "loyola-university-chicago                 0.0\n",
       "lpl-financial                             0.0\n",
       "luxottica-retail                          0.0\n",
       "m&t-bank                                  0.0\n",
       "march-of-dimes                            0.0\n",
       "mars                                      0.0\n",
       "massage-envy                              0.0\n",
       "maximus                                   0.0\n",
       "mckesson-provider-technologies            0.0\n",
       "mentor_graphics                           0.0\n",
       "lear-corporation                          0.0\n",
       "genworth-financial_2                      0.0\n",
       "gensler                                   0.0\n",
       "foot-locker                               0.0\n",
       "beth-israel-deaconess-medical-center      0.0\n",
       "bloomberg-lp                              0.0\n",
       "blue-cross-blue-shield-of-michigan        0.0\n",
       "bmo-harris-bank                           0.0\n",
       "boston-college                            0.0\n",
       "boston-university                         0.0\n",
       "brandeis-university                       0.0\n",
       "brookdale-senior-living                   0.0\n",
       "california-institute-of-technology        0.0\n",
       "california-state-university-northridge    0.0\n",
       "chico's-fas-inc                           0.0\n",
       "cit                                       0.0\n",
       "city-of-chicago                           0.0\n",
       "clemson-university                        0.0\n",
       "college-of-william-and-mary               0.0\n",
       "corporateexecutiveboard                   0.0\n",
       "country-financial-                        0.0\n",
       "Name: filler.x, dtype: float64"
      ]
     },
     "execution_count": 15,
     "metadata": {},
     "output_type": "execute_result"
    }
   ],
   "source": [
    "temp.sort_values().head(50)"
   ]
  },
  {
   "cell_type": "code",
   "execution_count": null,
   "metadata": {},
   "outputs": [],
   "source": []
  },
  {
   "cell_type": "code",
   "execution_count": null,
   "metadata": {},
   "outputs": [],
   "source": [
    "def check_person_ids_in_liwc(company_name, liwc_df):\n",
    "    \n",
    "    company_target_file_name = f'{company_name}_person_stay_term.csv'\n",
    "    target_df = pd.read_csv(os.path.join(TARGET_DATA_DIR, company_target_file_name))\n",
    "    \n",
    "    REG_BEGIN_MATCH = re.compile('^.*__')\n",
    "    REG_END_MATHCH = re.compile('\\.txt$')\n",
    "    \n",
    "    def _transform_text(text):\n",
    "        sub = re.sub(REG_BEGIN_MATCH, '', text)\n",
    "        sub = re.sub(REG_END_MATHCH, '', sub)\n",
    "\n",
    "        return sub\n",
    "    \n",
    "    liwc_df_person_ids = set(liwc_df['Filename.x'].apply(_transform_text))\n",
    "    target_df_person_ids = set(target_df['person_id'])\n",
    "    \n",
    "    assert target_df.shape[0] == liwc_df.shape[0]\n",
    "\n",
    "    check_diff = liwc_df_person_ids.symmetric_difference(target_df_person_ids)\n",
    "    assert len(check_diff) == 0"
   ]
  },
  {
   "cell_type": "code",
   "execution_count": null,
   "metadata": {},
   "outputs": [],
   "source": [
    "def check_y_vector_in_liwc(company_name, liwc_df):\n",
    "    y_column_names = [c + '.y' for c in LIWC_COLUMN_NAMES]\n",
    "    \n",
    "    y_col_df = liwc_df[y_column_names]\n",
    "    max_diff = (y_col_df - y_col_df.iloc[0]).abs().max().max()\n",
    "    \n",
    "    if max_diff != 0:\n",
    "        raise ValueError('Raise Error for {} - max_diff is {}'.format(company_name, max_diff))\n"
   ]
  },
  {
   "cell_type": "code",
   "execution_count": null,
   "metadata": {},
   "outputs": [],
   "source": [
    "for company_name, df in tqdm(raw_df.groupby('company')):\n",
    "    # Sanity check person ids\n",
    "    check_person_ids_in_liwc(company_name, df)\n",
    "    \n",
    "    # Sanity check y vector is same throughout\n",
    "    check_y_vector_in_liwc(company_name, df)"
   ]
  },
  {
   "cell_type": "code",
   "execution_count": null,
   "metadata": {},
   "outputs": [],
   "source": [
    "# raw_df[raw_df['company'] != 'walmart'].to_csv('/home/sjb/Projects/Research/LinkedIn_OB/data/word_features/LIWC_individual_company_mapped_no_walmart.csv', \n",
    "#                                               index=False)"
   ]
  },
  {
   "cell_type": "code",
   "execution_count": null,
   "metadata": {},
   "outputs": [],
   "source": [
    "target_data_company_names = get_target_data_company_names()"
   ]
  },
  {
   "cell_type": "code",
   "execution_count": null,
   "metadata": {},
   "outputs": [],
   "source": [
    "set(raw_df['company']) - (set(target_data_company_names))"
   ]
  },
  {
   "cell_type": "code",
   "execution_count": null,
   "metadata": {},
   "outputs": [],
   "source": [
    "temp = pd.Series(list((set(target_data_company_names)) - set(raw_df['company']) - set(['walmart']))).sort_values()"
   ]
  },
  {
   "cell_type": "code",
   "execution_count": null,
   "metadata": {},
   "outputs": [],
   "source": [
    "temp.to_frame('company_name').to_csv('temp.csv', index=False)"
   ]
  },
  {
   "cell_type": "code",
   "execution_count": null,
   "metadata": {},
   "outputs": [],
   "source": []
  }
 ],
 "metadata": {
  "kernelspec": {
   "display_name": "Python 3",
   "language": "python",
   "name": "python3"
  },
  "language_info": {
   "codemirror_mode": {
    "name": "ipython",
    "version": 3
   },
   "file_extension": ".py",
   "mimetype": "text/x-python",
   "name": "python",
   "nbconvert_exporter": "python",
   "pygments_lexer": "ipython3",
   "version": "3.6.8"
  }
 },
 "nbformat": 4,
 "nbformat_minor": 4
}
