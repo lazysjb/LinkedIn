{
 "cells": [
  {
   "cell_type": "code",
   "execution_count": 19,
   "metadata": {},
   "outputs": [],
   "source": [
    "import pandas as pd\n",
    "import matplotlib.pyplot as plt\n",
    "%matplotlib inline\n",
    "import numpy as np"
   ]
  },
  {
   "cell_type": "code",
   "execution_count": 2,
   "metadata": {},
   "outputs": [],
   "source": [
    "SOURCE_FILE_NAME = '/home/sjb/Projects/Research/LinkedIn_OB/data/covariates/company_level_info.csv'"
   ]
  },
  {
   "cell_type": "code",
   "execution_count": 3,
   "metadata": {},
   "outputs": [],
   "source": [
    "company_df = pd.read_csv(SOURCE_FILE_NAME)"
   ]
  },
  {
   "cell_type": "code",
   "execution_count": 4,
   "metadata": {},
   "outputs": [],
   "source": [
    "company_industry_df = company_df['company_industry'].value_counts().reset_index().copy()"
   ]
  },
  {
   "cell_type": "code",
   "execution_count": 5,
   "metadata": {},
   "outputs": [],
   "source": [
    "company_industry_df.columns = ['industry', 'count']"
   ]
  },
  {
   "cell_type": "markdown",
   "metadata": {},
   "source": [
    "#### Check1 - Every name ends with ' industry'"
   ]
  },
  {
   "cell_type": "code",
   "execution_count": 6,
   "metadata": {},
   "outputs": [
    {
     "data": {
      "text/plain": [
       "0"
      ]
     },
     "execution_count": 6,
     "metadata": {},
     "output_type": "execute_result"
    }
   ],
   "source": [
    "(~company_industry_df['industry'].str.endswith(' industry')).sum()"
   ]
  },
  {
   "cell_type": "code",
   "execution_count": 7,
   "metadata": {},
   "outputs": [],
   "source": [
    "company_industry_df['industry_short_name'] = company_industry_df['industry'].str.replace(' industry', '')\n",
    "company_industry_df['industry_short_name_lower'] = company_industry_df['industry_short_name'].str.lower()"
   ]
  },
  {
   "cell_type": "code",
   "execution_count": 9,
   "metadata": {},
   "outputs": [],
   "source": [
    "# company_industry_df['count'].hist(bins=50, )"
   ]
  },
  {
   "cell_type": "code",
   "execution_count": 10,
   "metadata": {},
   "outputs": [],
   "source": [
    "# company_industry_df['count'].hist(range=(0, 20), bins=50)"
   ]
  },
  {
   "cell_type": "code",
   "execution_count": null,
   "metadata": {},
   "outputs": [],
   "source": []
  },
  {
   "cell_type": "markdown",
   "metadata": {},
   "source": [
    "## Map to GICS Sector"
   ]
  },
  {
   "cell_type": "code",
   "execution_count": 26,
   "metadata": {},
   "outputs": [],
   "source": [
    "from fuzzywuzzy import fuzz"
   ]
  },
  {
   "cell_type": "code",
   "execution_count": null,
   "metadata": {},
   "outputs": [],
   "source": [
    "fuzz.ratio()"
   ]
  },
  {
   "cell_type": "code",
   "execution_count": 12,
   "metadata": {},
   "outputs": [],
   "source": [
    "gics_sector_df = pd.read_pickle('./gics_sector_mapping.pkl')"
   ]
  },
  {
   "cell_type": "code",
   "execution_count": 57,
   "metadata": {},
   "outputs": [],
   "source": [
    "gics_desc_level1_map = gics_sector_df.set_index('desc_lower')['level1_desc_lower'].to_dict()"
   ]
  },
  {
   "cell_type": "code",
   "execution_count": 17,
   "metadata": {},
   "outputs": [],
   "source": [
    "gics_uniq_sectors = gics_sector_df['desc_lower'].unique()"
   ]
  },
  {
   "cell_type": "code",
   "execution_count": 40,
   "metadata": {},
   "outputs": [],
   "source": [
    "def get_match_candidates(ref, compare_list):\n",
    "    \n",
    "    if ref in compare_list:\n",
    "        exact_match = True\n",
    "    else:\n",
    "        exact_match = False\n",
    "        \n",
    "    fuzz_ratio_scores = np.array([fuzz.ratio(ref, c) for c in compare_list])\n",
    "    max_fuzz_ratio_score = fuzz_ratio_scores.max()\n",
    "    max_fuzz_ratio_idxes = np.where(fuzz_ratio_scores == max_fuzz_ratio_score)[0]\n",
    "    fuzz_ratio_candidates = [compare_list[i] for i in max_fuzz_ratio_idxes]\n",
    "    \n",
    "    fuzz_partial_ratio_scores = np.array([fuzz.partial_ratio(ref, c) for c in compare_list])\n",
    "    max_fuzz_partial_ratio_score = fuzz_partial_ratio_scores.max()\n",
    "    max_fuzz_partial_ratio_idxes = np.where(fuzz_partial_ratio_scores == max_fuzz_partial_ratio_score)[0]\n",
    "    fuzz_partial_ratio_candidates = [compare_list[i] for i in max_fuzz_partial_ratio_idxes]\n",
    "        \n",
    "    result = pd.Series({\n",
    "        'exact_match': exact_match,\n",
    "        'max_fuzz_ratio_score': max_fuzz_ratio_score,\n",
    "        'fuzz_ratio_candidates': fuzz_ratio_candidates,\n",
    "        'max_fuzz_partial_ratio_score': max_fuzz_partial_ratio_score,\n",
    "        'fuzz_partial_ratio_candidates': fuzz_partial_ratio_candidates,\n",
    "    })\n",
    "    return result"
   ]
  },
  {
   "cell_type": "code",
   "execution_count": 41,
   "metadata": {},
   "outputs": [],
   "source": [
    "fuzz_ratio_scores = np.array([fuzz.ratio('Financial Services', c) for c in gics_uniq_sectors])"
   ]
  },
  {
   "cell_type": "code",
   "execution_count": 42,
   "metadata": {},
   "outputs": [
    {
     "data": {
      "text/plain": [
       "array([75])"
      ]
     },
     "execution_count": 42,
     "metadata": {},
     "output_type": "execute_result"
    }
   ],
   "source": [
    "np.where(fuzz_ratio_scores == fuzz_ratio_scores.max())[0]"
   ]
  },
  {
   "cell_type": "code",
   "execution_count": 43,
   "metadata": {},
   "outputs": [
    {
     "data": {
      "text/html": [
       "<div>\n",
       "<style scoped>\n",
       "    .dataframe tbody tr th:only-of-type {\n",
       "        vertical-align: middle;\n",
       "    }\n",
       "\n",
       "    .dataframe tbody tr th {\n",
       "        vertical-align: top;\n",
       "    }\n",
       "\n",
       "    .dataframe thead th {\n",
       "        text-align: right;\n",
       "    }\n",
       "</style>\n",
       "<table border=\"1\" class=\"dataframe\">\n",
       "  <thead>\n",
       "    <tr style=\"text-align: right;\">\n",
       "      <th></th>\n",
       "      <th>industry</th>\n",
       "      <th>count</th>\n",
       "      <th>industry_short_name</th>\n",
       "      <th>industry_short_name_lower</th>\n",
       "    </tr>\n",
       "  </thead>\n",
       "  <tbody>\n",
       "    <tr>\n",
       "      <td>0</td>\n",
       "      <td>Higher Education industry</td>\n",
       "      <td>212</td>\n",
       "      <td>Higher Education</td>\n",
       "      <td>higher education</td>\n",
       "    </tr>\n",
       "    <tr>\n",
       "      <td>1</td>\n",
       "      <td>Retail industry</td>\n",
       "      <td>94</td>\n",
       "      <td>Retail</td>\n",
       "      <td>retail</td>\n",
       "    </tr>\n",
       "    <tr>\n",
       "      <td>2</td>\n",
       "      <td>Financial Services industry</td>\n",
       "      <td>84</td>\n",
       "      <td>Financial Services</td>\n",
       "      <td>financial services</td>\n",
       "    </tr>\n",
       "    <tr>\n",
       "      <td>3</td>\n",
       "      <td>Information Technology and Services industry</td>\n",
       "      <td>79</td>\n",
       "      <td>Information Technology and Services</td>\n",
       "      <td>information technology and services</td>\n",
       "    </tr>\n",
       "    <tr>\n",
       "      <td>4</td>\n",
       "      <td>Hospital &amp; Health Care industry</td>\n",
       "      <td>64</td>\n",
       "      <td>Hospital &amp; Health Care</td>\n",
       "      <td>hospital &amp; health care</td>\n",
       "    </tr>\n",
       "    <tr>\n",
       "      <td>...</td>\n",
       "      <td>...</td>\n",
       "      <td>...</td>\n",
       "      <td>...</td>\n",
       "      <td>...</td>\n",
       "    </tr>\n",
       "    <tr>\n",
       "      <td>103</td>\n",
       "      <td>Graphic Design industry</td>\n",
       "      <td>1</td>\n",
       "      <td>Graphic Design</td>\n",
       "      <td>graphic design</td>\n",
       "    </tr>\n",
       "    <tr>\n",
       "      <td>104</td>\n",
       "      <td>Law Enforcement industry</td>\n",
       "      <td>1</td>\n",
       "      <td>Law Enforcement</td>\n",
       "      <td>law enforcement</td>\n",
       "    </tr>\n",
       "    <tr>\n",
       "      <td>105</td>\n",
       "      <td>Wireless industry</td>\n",
       "      <td>1</td>\n",
       "      <td>Wireless</td>\n",
       "      <td>wireless</td>\n",
       "    </tr>\n",
       "    <tr>\n",
       "      <td>106</td>\n",
       "      <td>Glass, Ceramics &amp; Concrete industry</td>\n",
       "      <td>1</td>\n",
       "      <td>Glass, Ceramics &amp; Concrete</td>\n",
       "      <td>glass, ceramics &amp; concrete</td>\n",
       "    </tr>\n",
       "    <tr>\n",
       "      <td>107</td>\n",
       "      <td>Primary/Secondary Education industry</td>\n",
       "      <td>1</td>\n",
       "      <td>Primary/Secondary Education</td>\n",
       "      <td>primary/secondary education</td>\n",
       "    </tr>\n",
       "  </tbody>\n",
       "</table>\n",
       "<p>108 rows × 4 columns</p>\n",
       "</div>"
      ],
      "text/plain": [
       "                                         industry  count  \\\n",
       "0                       Higher Education industry    212   \n",
       "1                                 Retail industry     94   \n",
       "2                     Financial Services industry     84   \n",
       "3    Information Technology and Services industry     79   \n",
       "4                 Hospital & Health Care industry     64   \n",
       "..                                            ...    ...   \n",
       "103                       Graphic Design industry      1   \n",
       "104                      Law Enforcement industry      1   \n",
       "105                             Wireless industry      1   \n",
       "106           Glass, Ceramics & Concrete industry      1   \n",
       "107          Primary/Secondary Education industry      1   \n",
       "\n",
       "                     industry_short_name            industry_short_name_lower  \n",
       "0                       Higher Education                     higher education  \n",
       "1                                 Retail                               retail  \n",
       "2                     Financial Services                   financial services  \n",
       "3    Information Technology and Services  information technology and services  \n",
       "4                 Hospital & Health Care               hospital & health care  \n",
       "..                                   ...                                  ...  \n",
       "103                       Graphic Design                       graphic design  \n",
       "104                      Law Enforcement                      law enforcement  \n",
       "105                             Wireless                             wireless  \n",
       "106           Glass, Ceramics & Concrete           glass, ceramics & concrete  \n",
       "107          Primary/Secondary Education          primary/secondary education  \n",
       "\n",
       "[108 rows x 4 columns]"
      ]
     },
     "execution_count": 43,
     "metadata": {},
     "output_type": "execute_result"
    }
   ],
   "source": [
    "company_industry_df"
   ]
  },
  {
   "cell_type": "code",
   "execution_count": 45,
   "metadata": {},
   "outputs": [],
   "source": [
    "company_industry_df_extended = company_industry_df.assign(**company_industry_df['industry_short_name_lower'].apply(lambda x: get_match_candidates(x, gics_uniq_sectors)))"
   ]
  },
  {
   "cell_type": "code",
   "execution_count": 48,
   "metadata": {},
   "outputs": [],
   "source": [
    "# company_industry_df_extended.to_csv('gics_candidates_manual_check.csv', index=False)"
   ]
  },
  {
   "cell_type": "code",
   "execution_count": 64,
   "metadata": {},
   "outputs": [],
   "source": [
    "company_industry_df_extended = pd.read_csv('./gics_candidates_manual_check.csv')"
   ]
  },
  {
   "cell_type": "code",
   "execution_count": 65,
   "metadata": {},
   "outputs": [],
   "source": [
    "NEW_MANUAL_CATEGORIES = [\n",
    "    'other',\n",
    "    'government agency',\n",
    "    'nonprofit'\n",
    "]"
   ]
  },
  {
   "cell_type": "code",
   "execution_count": 66,
   "metadata": {},
   "outputs": [],
   "source": [
    "def get_mapped_level1_sector(manual_match_value, gics_desc_level1_map):\n",
    "    if manual_match_value in NEW_MANUAL_CATEGORIES:\n",
    "        return manual_match_value\n",
    "    \n",
    "    level1_sector = gics_desc_level1_map[manual_match_value]\n",
    "    return level1_sector"
   ]
  },
  {
   "cell_type": "code",
   "execution_count": 68,
   "metadata": {},
   "outputs": [],
   "source": [
    "company_industry_df_extended['manual_match_level1_sector'] = company_industry_df_extended['manual_match'].apply(lambda x: get_mapped_level1_sector(x, gics_desc_level1_map))"
   ]
  },
  {
   "cell_type": "code",
   "execution_count": 70,
   "metadata": {},
   "outputs": [
    {
     "data": {
      "text/plain": [
       "other                         30\n",
       "consumer discretionary        25\n",
       "industrials                   19\n",
       "information technology         7\n",
       "financials                     5\n",
       "health care                    5\n",
       "consumer staples               5\n",
       "materials                      3\n",
       "real estate                    2\n",
       "government agency              2\n",
       "telecommunication services     2\n",
       "energy                         1\n",
       "nonprofit                      1\n",
       "utilities                      1\n",
       "Name: manual_match_level1_sector, dtype: int64"
      ]
     },
     "execution_count": 70,
     "metadata": {},
     "output_type": "execute_result"
    }
   ],
   "source": [
    "company_industry_df_extended['manual_match_level1_sector'].value_counts()"
   ]
  },
  {
   "cell_type": "code",
   "execution_count": 72,
   "metadata": {},
   "outputs": [],
   "source": [
    "company_industry_df_extended.to_csv('industry_to_gics_sector_map.csv', index=False)"
   ]
  },
  {
   "cell_type": "code",
   "execution_count": null,
   "metadata": {},
   "outputs": [],
   "source": []
  }
 ],
 "metadata": {
  "kernelspec": {
   "display_name": "Python 3",
   "language": "python",
   "name": "python3"
  },
  "language_info": {
   "codemirror_mode": {
    "name": "ipython",
    "version": 3
   },
   "file_extension": ".py",
   "mimetype": "text/x-python",
   "name": "python",
   "nbconvert_exporter": "python",
   "pygments_lexer": "ipython3",
   "version": "3.6.8"
  }
 },
 "nbformat": 4,
 "nbformat_minor": 4
}
