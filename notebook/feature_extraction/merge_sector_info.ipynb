{
 "cells": [
  {
   "cell_type": "code",
   "execution_count": 2,
   "metadata": {},
   "outputs": [],
   "source": [
    "import pandas as pd"
   ]
  },
  {
   "cell_type": "code",
   "execution_count": 25,
   "metadata": {},
   "outputs": [],
   "source": [
    "SOURCE_FILE = '/home/sjb/Projects/Research/LinkedIn_OB/data/covariates/company_level_info.csv'\n",
    "DEST_FILE = '/home/sjb/Projects/Research/LinkedIn_OB/data/covariates/company_level_info_with_grouped_sector.csv'"
   ]
  },
  {
   "cell_type": "code",
   "execution_count": 5,
   "metadata": {},
   "outputs": [],
   "source": [
    "company_info_df = pd.read_csv(SOURCE_FILE)\n",
    "gics_sector_df = pd.read_csv('./industry_to_gics_sector_map.csv')"
   ]
  },
  {
   "cell_type": "code",
   "execution_count": 12,
   "metadata": {},
   "outputs": [],
   "source": [
    "company_info_df = company_info_df.merge(gics_sector_df[['industry', 'manual_match_level1_sector']],\n",
    "                      left_on='company_industry',\n",
    "                      right_on='industry').drop('industry', axis=1).rename(columns={'manual_match_level1_sector': 'gics_sector'}).copy()"
   ]
  },
  {
   "cell_type": "code",
   "execution_count": 26,
   "metadata": {},
   "outputs": [],
   "source": [
    "company_info_df.to_csv(DEST_FILE, index=False)"
   ]
  },
  {
   "cell_type": "code",
   "execution_count": null,
   "metadata": {},
   "outputs": [],
   "source": []
  }
 ],
 "metadata": {
  "kernelspec": {
   "display_name": "Python 3",
   "language": "python",
   "name": "python3"
  },
  "language_info": {
   "codemirror_mode": {
    "name": "ipython",
    "version": 3
   },
   "file_extension": ".py",
   "mimetype": "text/x-python",
   "name": "python",
   "nbconvert_exporter": "python",
   "pygments_lexer": "ipython3",
   "version": "3.6.8"
  }
 },
 "nbformat": 4,
 "nbformat_minor": 4
}
