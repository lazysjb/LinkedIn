{
 "cells": [
  {
   "cell_type": "code",
   "execution_count": 1,
   "metadata": {},
   "outputs": [],
   "source": [
    "%load_ext autoreload\n",
    "%autoreload 2"
   ]
  },
  {
   "cell_type": "code",
   "execution_count": 2,
   "metadata": {},
   "outputs": [],
   "source": [
    "import sys\n",
    "sys.path.append('../../')"
   ]
  },
  {
   "cell_type": "code",
   "execution_count": 55,
   "metadata": {},
   "outputs": [],
   "source": [
    "import pandas as pd\n",
    "from tqdm import tqdm\n",
    "import matplotlib.pyplot as plt\n",
    "%matplotlib inline\n",
    "\n",
    "from utils.db_util import create_postgres_engine\n",
    "from utils.query_util import query_org_detail"
   ]
  },
  {
   "cell_type": "code",
   "execution_count": 4,
   "metadata": {},
   "outputs": [],
   "source": [
    "db_conn = create_postgres_engine()"
   ]
  },
  {
   "cell_type": "code",
   "execution_count": 5,
   "metadata": {},
   "outputs": [],
   "source": [
    "INPUT_FILE = '/home/sjb/Projects/Research/LinkedIn_OB/data/combined_features/stay_term_and_distances.pkl'"
   ]
  },
  {
   "cell_type": "code",
   "execution_count": 6,
   "metadata": {},
   "outputs": [],
   "source": [
    "combined_feature_df = pd.read_pickle(INPUT_FILE)"
   ]
  },
  {
   "cell_type": "code",
   "execution_count": 7,
   "metadata": {},
   "outputs": [],
   "source": [
    "uniq_company_names = combined_feature_df['company_name'].unique()"
   ]
  },
  {
   "cell_type": "code",
   "execution_count": 8,
   "metadata": {},
   "outputs": [],
   "source": [
    "ORG_PROFILE_SUFFIX = '?trk=ppro_cprof'\n",
    "ORG_PROFILE_PREFIX = '/company/'\n",
    "\n",
    "def escape_single_quote(text):\n",
    "    \"\"\"Since postgres does not like single quote in text\"\"\"\n",
    "    text = text.replace(\"'\", \"''\")\n",
    "    return text"
   ]
  },
  {
   "cell_type": "code",
   "execution_count": 9,
   "metadata": {},
   "outputs": [
    {
     "name": "stderr",
     "output_type": "stream",
     "text": [
      "100%|██████████| 1382/1382 [48:06<00:00,  2.09s/it]\n"
     ]
    }
   ],
   "source": [
    "MIN_ITEM_COUNT = 100\n",
    "\n",
    "company_detail_infos = []\n",
    "\n",
    "for company_name in tqdm(uniq_company_names):\n",
    "    \n",
    "    org_profile_link = '{}{}{}'.format(ORG_PROFILE_PREFIX, company_name, ORG_PROFILE_SUFFIX)\n",
    "    org_profile_link_escaped = escape_single_quote(org_profile_link)\n",
    "    \n",
    "    org_detail_df = query_org_detail(db_conn, org_profile_link_escaped)\n",
    "    org_detail_row = org_detail_df.sort_values('org_detail_count', ascending=False).iloc[0].to_dict()\n",
    "    \n",
    "    # sanity check\n",
    "    org_detail_row['org_detail_count'] > MIN_ITEM_COUNT\n",
    "    \n",
    "    org_detail_row['company_name'] = company_name\n",
    "    company_detail_infos.append(org_detail_row)\n",
    "    \n",
    "company_detail_df = pd.DataFrame(company_detail_infos)"
   ]
  },
  {
   "cell_type": "code",
   "execution_count": 33,
   "metadata": {},
   "outputs": [],
   "source": [
    "temp = company_detail_df['org_detail'].values[3]"
   ]
  },
  {
   "cell_type": "code",
   "execution_count": 34,
   "metadata": {},
   "outputs": [
    {
     "data": {
      "text/plain": [
       "'Public Company; 5001-10,000 employees; COMS;\\n\\t  \\t      Computer Networking industry'"
      ]
     },
     "execution_count": 34,
     "metadata": {},
     "output_type": "execute_result"
    }
   ],
   "source": [
    "temp"
   ]
  },
  {
   "cell_type": "code",
   "execution_count": 38,
   "metadata": {},
   "outputs": [],
   "source": [
    "def parse_org_detail(org_detail_string):\n",
    "    split_elements = org_detail_string.split(';')\n",
    "    \n",
    "    if len(split_elements) == 3:\n",
    "        company_type, company_size, company_industry = split_elements\n",
    "    elif len(split_elements) == 4:\n",
    "        company_type, company_size, _, company_industry = split_elements\n",
    "    else:\n",
    "        print(org_detail_string)\n",
    "        raise ValueError('split elements size is {} unexpected!'.format(len(split_elements)))\n",
    "        \n",
    "    company_type = company_type.strip()\n",
    "    company_size = company_size.strip()\n",
    "    company_industry = company_industry.strip()\n",
    "    \n",
    "    return pd.Series({\n",
    "        'company_type': company_type,\n",
    "        'company_size': company_size,\n",
    "        'company_industry': company_industry,\n",
    "    })"
   ]
  },
  {
   "cell_type": "code",
   "execution_count": null,
   "metadata": {},
   "outputs": [],
   "source": []
  },
  {
   "cell_type": "code",
   "execution_count": 90,
   "metadata": {},
   "outputs": [],
   "source": [
    "LARGE_COMPANY_TYPES = [\n",
    "    '10,001+ employees',\n",
    "    '1001-5000 employees',\n",
    "    '5001-10,000 employees',\n",
    "    '501-1000 employees',\n",
    "    '201-500 employees',\n",
    "    '51-200 employees',\n",
    "]\n",
    "\n",
    "MANUAL_ADJUSTMENT = {\n",
    "    '/company/dunkin-donuts?trk=ppro_cprof': 'Public Company; 10,001+ employees; Food & Beverages industry',\n",
    "    '/company/cvs-pharmacy?trk=ppro_cprof': 'Public Company; 10,001+ employees; Pharmaceuticals industry',\n",
    "    '/company/mci-corporation?trk=ppro_cprof': 'Public Company; 10,001+ employees; Telecommunications industry',\n",
    "}"
   ]
  },
  {
   "cell_type": "code",
   "execution_count": 89,
   "metadata": {},
   "outputs": [],
   "source": [
    "company_detail_expanded_df = company_detail_df.copy()"
   ]
  },
  {
   "cell_type": "code",
   "execution_count": 92,
   "metadata": {},
   "outputs": [],
   "source": [
    "for k, v in MANUAL_ADJUSTMENT.items():\n",
    "    company_detail_expanded_df.loc[company_detail_expanded_df['org_profile_link'] == k, 'org_detail'] = v"
   ]
  },
  {
   "cell_type": "code",
   "execution_count": 100,
   "metadata": {},
   "outputs": [],
   "source": [
    "company_detail_expanded_df = company_detail_expanded_df.assign(**company_detail_expanded_df['org_detail'].apply(parse_org_detail))"
   ]
  },
  {
   "cell_type": "code",
   "execution_count": 105,
   "metadata": {},
   "outputs": [
    {
     "data": {
      "text/plain": [
       "10,001+ employees        865\n",
       "1001-5000 employees      258\n",
       "5001-10,000 employees    218\n",
       "501-1000 employees        16\n",
       "201-500 employees         15\n",
       "Myself Only                5\n",
       "51-200 employees           3\n",
       "1-10 employees             1\n",
       "11-50 employees            1\n",
       "Name: company_size, dtype: int64"
      ]
     },
     "execution_count": 105,
     "metadata": {},
     "output_type": "execute_result"
    }
   ],
   "source": [
    "company_detail_expanded_df['company_size'].value_counts()"
   ]
  },
  {
   "cell_type": "code",
   "execution_count": 102,
   "metadata": {},
   "outputs": [
    {
     "data": {
      "text/plain": [
       "Public Company             812\n",
       "Educational Institution    229\n",
       "Privately Held             198\n",
       "Nonprofit                   66\n",
       "Government Agency           59\n",
       "Partnership                 14\n",
       "Self-Employed                2\n",
       "Sole Proprietorship          2\n",
       "Name: company_type, dtype: int64"
      ]
     },
     "execution_count": 102,
     "metadata": {},
     "output_type": "execute_result"
    }
   ],
   "source": [
    "company_detail_expanded_df['company_type'].value_counts()"
   ]
  },
  {
   "cell_type": "code",
   "execution_count": 107,
   "metadata": {},
   "outputs": [
    {
     "data": {
      "text/plain": [
       "Higher Education industry                       212\n",
       "Retail industry                                  94\n",
       "Financial Services industry                      84\n",
       "Information Technology and Services industry     79\n",
       "Hospital & Health Care industry                  64\n",
       "                                               ... \n",
       "Furniture industry                                1\n",
       "Religious Institutions industry                   1\n",
       "Consumer Services industry                        1\n",
       "Legislative Office industry                       1\n",
       "Museums and Institutions industry                 1\n",
       "Name: company_industry, Length: 108, dtype: int64"
      ]
     },
     "execution_count": 107,
     "metadata": {},
     "output_type": "execute_result"
    }
   ],
   "source": [
    "company_detail_expanded_df['company_industry'].value_counts()"
   ]
  },
  {
   "cell_type": "code",
   "execution_count": 114,
   "metadata": {},
   "outputs": [],
   "source": [
    "DEST_FILE_NAME = '/home/sjb/Projects/Research/LinkedIn_OB/data/covariates/company_level_info.csv'"
   ]
  },
  {
   "cell_type": "code",
   "execution_count": 115,
   "metadata": {},
   "outputs": [],
   "source": [
    "company_detail_expanded_df.drop(['org_detail', 'org_detail_count'], axis=1).to_csv(DEST_FILE_NAME, index=False)"
   ]
  },
  {
   "cell_type": "code",
   "execution_count": 117,
   "metadata": {},
   "outputs": [
    {
     "data": {
      "text/plain": [
       "array(['freelance-graphic-design-services', 'currently-unemployed',\n",
       "       'self-employed_1100', 'mary-kay-cosmetics_2', 'self-employed_1101',\n",
       "       'independent-contractor_9', 'amoura-rose-beauty'], dtype=object)"
      ]
     },
     "execution_count": 117,
     "metadata": {},
     "output_type": "execute_result"
    }
   ],
   "source": [
    "company_detail_expanded_df[~company_detail_expanded_df['company_size'].isin(LARGE_COMPANY_TYPES)]['company_name'].values"
   ]
  },
  {
   "cell_type": "code",
   "execution_count": null,
   "metadata": {},
   "outputs": [],
   "source": []
  }
 ],
 "metadata": {
  "kernelspec": {
   "display_name": "Python 3",
   "language": "python",
   "name": "python3"
  },
  "language_info": {
   "codemirror_mode": {
    "name": "ipython",
    "version": 3
   },
   "file_extension": ".py",
   "mimetype": "text/x-python",
   "name": "python",
   "nbconvert_exporter": "python",
   "pygments_lexer": "ipython3",
   "version": "3.6.8"
  }
 },
 "nbformat": 4,
 "nbformat_minor": 4
}
