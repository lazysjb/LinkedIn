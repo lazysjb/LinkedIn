{
 "cells": [
  {
   "cell_type": "code",
   "execution_count": 1,
   "metadata": {},
   "outputs": [],
   "source": [
    "import pandas as pd"
   ]
  },
  {
   "cell_type": "code",
   "execution_count": 2,
   "metadata": {},
   "outputs": [],
   "source": [
    "GICS_FILE = '/home/sjb/Projects/Research/LinkedIn_OB/data/gics-map-english-20160701.xlsx'"
   ]
  },
  {
   "cell_type": "code",
   "execution_count": 8,
   "metadata": {},
   "outputs": [],
   "source": [
    "level1_df = pd.read_excel(GICS_FILE, skiprows=4, dtype=str, usecols='A:B')\n",
    "level2_df = pd.read_excel(GICS_FILE, skiprows=4, dtype=str, usecols='C:D')\n",
    "level3_df = pd.read_excel(GICS_FILE, skiprows=4, dtype=str, usecols='E:F')\n",
    "level4_df = pd.read_excel(GICS_FILE, skiprows=4, dtype=str, usecols='G:H')"
   ]
  },
  {
   "cell_type": "code",
   "execution_count": 13,
   "metadata": {},
   "outputs": [],
   "source": [
    "all_dfs = [\n",
    "    level1_df, \n",
    "    level2_df,\n",
    "    level3_df,\n",
    "    level4_df\n",
    "]"
   ]
  },
  {
   "cell_type": "code",
   "execution_count": 14,
   "metadata": {},
   "outputs": [],
   "source": [
    "for df in all_dfs:\n",
    "    df.columns = ['code', 'desc']"
   ]
  },
  {
   "cell_type": "code",
   "execution_count": 22,
   "metadata": {},
   "outputs": [],
   "source": [
    "level1_df = level1_df.dropna(subset=['code']).drop_duplicates(subset=['code'])\n",
    "level2_df = level2_df.dropna(subset=['code']).drop_duplicates(subset=['code'])\n",
    "level3_df = level3_df.dropna(subset=['code']).drop_duplicates(subset=['code'])\n",
    "level4_df = level4_df.dropna(subset=['code']).drop_duplicates(subset=['code'])"
   ]
  },
  {
   "cell_type": "code",
   "execution_count": 27,
   "metadata": {},
   "outputs": [],
   "source": [
    "level1_map = level1_df.set_index('code')['desc'].to_dict()"
   ]
  },
  {
   "cell_type": "code",
   "execution_count": 30,
   "metadata": {},
   "outputs": [],
   "source": [
    "def get_level1_description(code, level1_map):\n",
    "    first_two = code[:2]\n",
    "    level1_desc = level1_map[first_two]\n",
    "    return level1_desc"
   ]
  },
  {
   "cell_type": "code",
   "execution_count": 31,
   "metadata": {},
   "outputs": [],
   "source": [
    "all_dfs = [\n",
    "    level1_df, \n",
    "    level2_df,\n",
    "    level3_df,\n",
    "    level4_df\n",
    "]"
   ]
  },
  {
   "cell_type": "code",
   "execution_count": 32,
   "metadata": {},
   "outputs": [],
   "source": [
    "for df in all_dfs:\n",
    "    df['level1_desc'] = df['code'].apply(lambda x: get_level1_description(x, level1_map))"
   ]
  },
  {
   "cell_type": "code",
   "execution_count": 37,
   "metadata": {},
   "outputs": [],
   "source": [
    "gics_all_df = pd.concat(all_dfs)"
   ]
  },
  {
   "cell_type": "code",
   "execution_count": 39,
   "metadata": {},
   "outputs": [],
   "source": [
    "gics_all_df['desc_lower'] = gics_all_df['desc'].str.lower()\n",
    "gics_all_df['level1_desc_lower'] = gics_all_df['level1_desc'].str.lower()"
   ]
  },
  {
   "cell_type": "code",
   "execution_count": 41,
   "metadata": {},
   "outputs": [
    {
     "data": {
      "text/plain": [
       "array(['energy', 'materials', 'industrials', 'consumer discretionary',\n",
       "       'consumer staples', 'health care', 'financials',\n",
       "       'information technology', 'telecommunication services',\n",
       "       'utilities', 'real estate'], dtype=object)"
      ]
     },
     "execution_count": 41,
     "metadata": {},
     "output_type": "execute_result"
    }
   ],
   "source": [
    "gics_all_df['level1_desc_lower'].unique()"
   ]
  },
  {
   "cell_type": "code",
   "execution_count": 44,
   "metadata": {},
   "outputs": [],
   "source": [
    "gics_all_df.to_pickle('./gics_sector_mapping.pkl')"
   ]
  },
  {
   "cell_type": "code",
   "execution_count": null,
   "metadata": {},
   "outputs": [],
   "source": []
  }
 ],
 "metadata": {
  "kernelspec": {
   "display_name": "Python 3",
   "language": "python",
   "name": "python3"
  },
  "language_info": {
   "codemirror_mode": {
    "name": "ipython",
    "version": 3
   },
   "file_extension": ".py",
   "mimetype": "text/x-python",
   "name": "python",
   "nbconvert_exporter": "python",
   "pygments_lexer": "ipython3",
   "version": "3.6.8"
  }
 },
 "nbformat": 4,
 "nbformat_minor": 4
}
